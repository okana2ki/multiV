{
  "nbformat": 4,
  "nbformat_minor": 0,
  "metadata": {
    "colab": {
      "provenance": []
    },
    "kernelspec": {
      "name": "python3",
      "display_name": "Python 3"
    },
    "language_info": {
      "name": "python"
    }
  },
  "cells": [
    {
      "cell_type": "code",
      "execution_count": null,
      "metadata": {
        "colab": {
          "base_uri": "https://localhost:8080/",
          "height": 373
        },
        "id": "lq5B1PJbTNdn",
        "outputId": "c280e05c-4eb7-473b-9d5b-5db44bc19137"
      },
      "outputs": [
        {
          "output_type": "error",
          "ename": "TypeError",
          "evalue": "ignored",
          "traceback": [
            "\u001b[0;31m---------------------------------------------------------------------------\u001b[0m",
            "\u001b[0;31mTypeError\u001b[0m                                 Traceback (most recent call last)",
            "\u001b[0;32m<ipython-input-2-2603676711e6>\u001b[0m in \u001b[0;36m<cell line: 36>\u001b[0;34m()\u001b[0m\n\u001b[1;32m     34\u001b[0m \u001b[0mnum_samples\u001b[0m \u001b[0;34m=\u001b[0m \u001b[0;36m10\u001b[0m  \u001b[0;31m# 選び出すデータの個数を指定する\u001b[0m\u001b[0;34m\u001b[0m\u001b[0;34m\u001b[0m\u001b[0m\n\u001b[1;32m     35\u001b[0m \u001b[0;34m\u001b[0m\u001b[0m\n\u001b[0;32m---> 36\u001b[0;31m \u001b[0mdatasets\u001b[0m \u001b[0;34m=\u001b[0m \u001b[0mselect_random_data\u001b[0m\u001b[0;34m(\u001b[0m\u001b[0mxlsx_file\u001b[0m\u001b[0;34m,\u001b[0m \u001b[0mnum_datasets\u001b[0m\u001b[0;34m,\u001b[0m \u001b[0mnum_samples\u001b[0m\u001b[0;34m)\u001b[0m\u001b[0;34m\u001b[0m\u001b[0;34m\u001b[0m\u001b[0m\n\u001b[0m\u001b[1;32m     37\u001b[0m \u001b[0msave_selected_data\u001b[0m\u001b[0;34m(\u001b[0m\u001b[0mdatasets\u001b[0m\u001b[0;34m,\u001b[0m \u001b[0moutput_file_prefix\u001b[0m\u001b[0;34m)\u001b[0m\u001b[0;34m\u001b[0m\u001b[0;34m\u001b[0m\u001b[0m\n\u001b[1;32m     38\u001b[0m \u001b[0mprint\u001b[0m\u001b[0;34m(\u001b[0m\u001b[0;34mf\"{num_datasets}個のデータセットが作成され、それぞれ別のファイルに保存されました。\"\u001b[0m\u001b[0;34m)\u001b[0m\u001b[0;34m\u001b[0m\u001b[0;34m\u001b[0m\u001b[0m\n",
            "\u001b[0;32m<ipython-input-2-2603676711e6>\u001b[0m in \u001b[0;36mselect_random_data\u001b[0;34m(xlsx_file, num_datasets, num_samples)\u001b[0m\n\u001b[1;32m     16\u001b[0m \u001b[0;34m\u001b[0m\u001b[0m\n\u001b[1;32m     17\u001b[0m         \u001b[0;31m# 選ばれたデータを取得\u001b[0m\u001b[0;34m\u001b[0m\u001b[0;34m\u001b[0m\u001b[0m\n\u001b[0;32m---> 18\u001b[0;31m         \u001b[0mselected_data\u001b[0m \u001b[0;34m=\u001b[0m \u001b[0mdf\u001b[0m\u001b[0;34m.\u001b[0m\u001b[0miloc\u001b[0m\u001b[0;34m[\u001b[0m\u001b[0mrandom_indices\u001b[0m \u001b[0;34m+\u001b[0m \u001b[0;36m1\u001b[0m\u001b[0;34m]\u001b[0m  \u001b[0;31m# 1行目を除外したため、インデックスをずらす\u001b[0m\u001b[0;34m\u001b[0m\u001b[0;34m\u001b[0m\u001b[0m\n\u001b[0m\u001b[1;32m     19\u001b[0m \u001b[0;34m\u001b[0m\u001b[0m\n\u001b[1;32m     20\u001b[0m         \u001b[0mdatasets\u001b[0m\u001b[0;34m.\u001b[0m\u001b[0mappend\u001b[0m\u001b[0;34m(\u001b[0m\u001b[0mselected_data\u001b[0m\u001b[0;34m)\u001b[0m\u001b[0;34m\u001b[0m\u001b[0;34m\u001b[0m\u001b[0m\n",
            "\u001b[0;31mTypeError\u001b[0m: can only concatenate list (not \"int\") to list"
          ]
        }
      ],
      "source": [
        "import pandas as pd\n",
        "import random\n",
        "\n",
        "def select_random_data(xlsx_file, num_datasets, num_samples):\n",
        "    # Excelファイルを読み込む\n",
        "    df = pd.read_excel(xlsx_file)\n",
        "\n",
        "    # データ行の数を取得\n",
        "    num_data = len(df) - 1  # 1行目はラベル行なので除外\n",
        "\n",
        "    datasets = []  # 複数のデータセットを格納するリスト\n",
        "\n",
        "    for _ in range(num_datasets):\n",
        "        # 指定した個数のデータをランダムに選ぶ\n",
        "        random_indices = random.sample(range(num_data), num_samples)\n",
        "\n",
        "        # 選ばれたデータを取得\n",
        "        selected_data = df.iloc[random_indices + 1]  # 1行目を除外したため、インデックスをずらす\n",
        "\n",
        "        datasets.append(selected_data)\n",
        "\n",
        "    return datasets\n",
        "\n",
        "def save_selected_data(datasets, output_file_prefix):\n",
        "    # 複数のデータセットをそれぞれ別のExcelファイルに出力\n",
        "    for i, dataset in enumerate(datasets):\n",
        "        output_file = f\"{output_file_prefix}_{i+1}.xlsx\"\n",
        "        dataset.to_excel(output_file, index=False)\n",
        "\n",
        "# 使用例\n",
        "xlsx_file = 'rent_all.xlsx'  # ファイル名を適宜変更する\n",
        "output_file_prefix = 'selected_data'  # 出力ファイルのプレフィックスを適宜変更する\n",
        "num_datasets = 3  # 必要なデータセットの個数を指定する\n",
        "num_samples = 10  # 選び出すデータの個数を指定する\n",
        "\n",
        "datasets = select_random_data(xlsx_file, num_datasets, num_samples)\n",
        "save_selected_data(datasets, output_file_prefix)\n",
        "print(f\"{num_datasets}個のデータセットが作成され、それぞれ別のファイルに保存されました。\")\n"
      ]
    },
    {
      "cell_type": "code",
      "source": [
        "import pandas as pd\n",
        "import random\n",
        "\n",
        "def select_random_data(xlsx_file, num_datasets, num_samples):\n",
        "    # Excelファイルを読み込む\n",
        "    df = pd.read_excel(xlsx_file)\n",
        "\n",
        "    # データ行の数を取得\n",
        "    num_data = len(df) - 1  # 1行目はラベル行なので除外\n",
        "\n",
        "    datasets = []  # 複数のデータセットを格納するリスト\n",
        "\n",
        "    for _ in range(num_datasets):\n",
        "        # 指定した個数のデータをランダムに選ぶ\n",
        "        random_indices = random.sample(range(num_data), num_samples)\n",
        "\n",
        "        # 選ばれたデータを取得\n",
        "        selected_data = df.iloc[[i + 1 for i in random_indices]]  # 1行目を除外したため、インデックスをずらす\n",
        "\n",
        "        datasets.append(selected_data)\n",
        "\n",
        "    return datasets\n",
        "\n",
        "def save_selected_data(datasets, output_file_prefix):\n",
        "    # 複数のデータセットをそれぞれ別のExcelファイルに出力\n",
        "    for i, dataset in enumerate(datasets):\n",
        "        output_file = f\"{output_file_prefix}_{i+1}.xlsx\"\n",
        "        dataset.to_excel(output_file, index=False)\n",
        "\n",
        "# 使用例\n",
        "xlsx_file = 'rent_all.xlsx'  # ファイル名を適宜変更する\n",
        "output_file_prefix = 'selected_data'  # 出力ファイルのプレフィックスを適宜変更する\n",
        "num_datasets = 3  # 必要なデータセットの個数を指定する\n",
        "num_samples = 10  # 選び出すデータの個数を指定する\n",
        "\n",
        "datasets = select_random_data(xlsx_file, num_datasets, num_samples)\n",
        "save_selected_data(datasets, output_file_prefix)\n",
        "print(f\"{num_datasets}個のデータセットが作成され、それぞれ別のファイルに保存されました。\")"
      ],
      "metadata": {
        "colab": {
          "base_uri": "https://localhost:8080/"
        },
        "id": "3DM3pQRWU9FH",
        "outputId": "d7d4f950-8400-45ea-a861-7f84854cc3dc"
      },
      "execution_count": null,
      "outputs": [
        {
          "output_type": "stream",
          "name": "stdout",
          "text": [
            "3個のデータセットが作成され、それぞれ別のファイルに保存されました。\n"
          ]
        }
      ]
    }
  ]
}