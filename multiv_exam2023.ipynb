{
  "nbformat": 4,
  "nbformat_minor": 0,
  "metadata": {
    "colab": {
      "provenance": [],
      "toc_visible": true
    },
    "kernelspec": {
      "name": "python3",
      "display_name": "Python 3"
    },
    "language_info": {
      "name": "python"
    }
  },
  "cells": [
    {
      "cell_type": "markdown",
      "source": [
        "まず、↑上の**「ドライブにコピー」をクリック**して、このノートブックを自分のGoogleドライブにコピーして下さい。コピーを終えたら、以下の通り進めて下さい。\n",
        "\n",
        "以下の各問に答えなさい。\n",
        "\n",
        "本科目で勉強したことを踏まえ、自分で必要な関数などを調べて、プログラムを書いて、実行してみる、ということができることを期待していますが、行き詰った場合、エラーが出て分からない場合、どうしてよいか分からない場合は、**Web検索したり、ChatGPTなどで尋ねてもらって構いません。人に尋ねたり、QAサイトで尋ねるのは禁止。**\n",
        "\n",
        "Web検索や生成型AIを利用する場合は、以下の点に注意して下さい：\n",
        "生成型AI等を用いて作成したプログラムが実行できて期待した結果が出ることを必ず確認して下さい。実行時エラーが出る場合や、実行はできるが期待した結果と異なることがあり得ます。そうした場合は、自分で原因を突き止めるか、ChatGPTなどに相談して、解決して下さい。\n",
        "\n",
        "知らない関数や、その他、分からない点は、自分で調べるか、ChatGPTなどに尋ねることによって（時間的に可能な範囲で）**プログラムを理解した上で、解答を提出**して下さい。**理解できていないと、プログラムの誤りに気づけない**からです。\n",
        "\n",
        "提出方法は次の通りです：\n",
        "解答が記入されたColab Notebookをダウンロードして、 moodleの第16週から提出。\n",
        "ダウンロードの仕方：\n",
        "Colab画面の左上のメニューバーから「ファイル」をクリック →\n",
        "ドロップダウンメニューの「ダウンロード」にマウスオン →\n",
        "マウスオンで現れたドロップダウンメニューの「.ipynbをダウンロード」をクリック"
      ],
      "metadata": {
        "id": "NWu5adlNl_kp"
      }
    },
    {
      "cell_type": "markdown",
      "source": [
        "### １．リスト a の要素を平均し、結果を画面出力するPythonプログラムを下のコードセルに書き、実行しなさい。ただし、a = [5, 9, 1, 4, 6] とする。"
      ],
      "metadata": {
        "id": "lH2bhByWlTRX"
      }
    },
    {
      "cell_type": "code",
      "execution_count": null,
      "metadata": {
        "id": "9fr0jmNOlAB2"
      },
      "outputs": [],
      "source": []
    },
    {
      "cell_type": "markdown",
      "source": [
        "### ２．リストaの要素を全てチェックし、負の数であればその要素を削除し、それ以外であればそのまま残し、最後にリストaの全要素を画面出力するPythonプログラムを下のコードセルに書き、実行しなさい。ただし、a = [5, -9, -1, 0, 6] とする。"
      ],
      "metadata": {
        "id": "AEg9t9WHqYXN"
      }
    },
    {
      "cell_type": "code",
      "source": [],
      "metadata": {
        "id": "csg8-0I7trS6"
      },
      "execution_count": null,
      "outputs": []
    },
    {
      "cell_type": "markdown",
      "source": [
        "### ３．x = [1, 2, 3, 4]とy = [4, 3, 2, 1]の相関係数を求め、結果を出力するPythonプログラムを下のコードセルに書き、実行しなさい。"
      ],
      "metadata": {
        "id": "bT4YaCE64fv1"
      }
    },
    {
      "cell_type": "code",
      "source": [],
      "metadata": {
        "id": "5B3q3vGU70kL"
      },
      "execution_count": null,
      "outputs": []
    },
    {
      "cell_type": "markdown",
      "source": [
        "### ４．まず、この直下のコードセルを実行し、続いて、以下の指示に従って、Pythonプログラムを書きなさい。"
      ],
      "metadata": {
        "id": "Bx4ofpbDEzL2"
      }
    },
    {
      "cell_type": "code",
      "source": [
        "import numpy as np\n",
        "import matplotlib.pyplot as plt\n",
        "\n",
        "np.random.seed(9)\n",
        "\n",
        "x = np.random.rand(10)\n",
        "y = np.random.rand(10)\n",
        "\n",
        "plt.scatter(x, y)\n",
        "print(x)\n",
        "print(y)"
      ],
      "metadata": {
        "id": "AW2z1f91SDyK"
      },
      "execution_count": null,
      "outputs": []
    },
    {
      "cell_type": "markdown",
      "source": [
        "### ４－１．上記（問題４．）のyを目的変数、xを説明変数として、sklearn.linear_model.LinearRegressionクラスを用いて単回帰分析をするPythonプログラムを、下のコードセルに書き、実行しなさい。データ点と回帰直線を可視化すること。"
      ],
      "metadata": {
        "id": "tsK4h6bWXn6A"
      }
    },
    {
      "cell_type": "code",
      "source": [],
      "metadata": {
        "id": "3s8r_H5-ZoOa"
      },
      "execution_count": null,
      "outputs": []
    },
    {
      "cell_type": "markdown",
      "source": [
        "### ４－２．上記（問題４．）で生成した10個のデータ点を、sklearn.cluster.KMeansクラスを使って、k-means法によりクラスタリングし、結果を可視化（どの点がどのクラスタに属するか分かるように可視化。クラスタの中心も可視化すること。）しなさい。k=3とすること。"
      ],
      "metadata": {
        "id": "pEI_bWcLrPa3"
      }
    },
    {
      "cell_type": "code",
      "source": [],
      "metadata": {
        "id": "r14OCjwbxgfT"
      },
      "execution_count": null,
      "outputs": []
    }
  ]
}