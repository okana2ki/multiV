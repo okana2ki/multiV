{
  "nbformat": 4,
  "nbformat_minor": 0,
  "metadata": {
    "colab": {
      "provenance": [],
      "toc_visible": true
    },
    "kernelspec": {
      "name": "python3",
      "display_name": "Python 3"
    },
    "language_info": {
      "name": "python"
    }
  },
  "cells": [
    {
      "cell_type": "markdown",
      "source": [
        "# [機械学習帳の「非階層的クラスタリング」](https://chokkan.github.io/mlnote/unsupervised/01kmeans.html)の最後の確認問題の解答例←[ChatGPTに相談](https://chat.openai.com/share/b61aa9df-4c59-411c-84a8-a7b2325b66cb)して作成\n",
        "\n",
        "---\n",
        "\n"
      ],
      "metadata": {
        "id": "xuon12AZtdLH"
      }
    },
    {
      "cell_type": "markdown",
      "source": [
        "## csvファイルを読み込んでk-means法でクラスタリング（scikit-learnを使用）"
      ],
      "metadata": {
        "id": "kU8catlHkrVU"
      }
    },
    {
      "cell_type": "markdown",
      "source": [
        "SSDSE-C-2023.csvファイルのデータをsklearn.cluster.KMeansクラスで分析するためのプログラムを書いて下さい。データファイルの構成は次の通りです。１行目は項目コード、２行目は項目名（家計消費の対象となる品目名）です。３行目は分析に使用しないデータで、4行目から50行目までの47行が分析対象のデータです。1列目は地域コード、2列目は都道府県名、3列目は都道府県庁所在市の名前で、4列目から229列目までの226列が分析対象のデータです。消費行動が類似している都道府県庁所在市のクラスタを作ることが目標です。欠損データはありませんが、品目別支出金額は標準化の必要があると思います。"
      ],
      "metadata": {
        "id": "_MXKh99ui2oC"
      }
    },
    {
      "cell_type": "code",
      "execution_count": null,
      "metadata": {
        "colab": {
          "base_uri": "https://localhost:8080/"
        },
        "id": "UXqyfm2HWCZH",
        "outputId": "f178a52d-d8d4-4aab-b98e-6ac7b6826604"
      },
      "outputs": [
        {
          "output_type": "stream",
          "name": "stdout",
          "text": [
            "3     9\n",
            "4     9\n",
            "5     1\n",
            "6     1\n",
            "7     1\n",
            "8     1\n",
            "9     1\n",
            "10    8\n",
            "11    8\n",
            "12    8\n",
            "13    3\n",
            "14    3\n",
            "15    3\n",
            "16    3\n",
            "17    1\n",
            "18    2\n",
            "19    2\n",
            "20    2\n",
            "21    8\n",
            "22    8\n",
            "23    0\n",
            "24    3\n",
            "25    0\n",
            "26    0\n",
            "27    6\n",
            "28    6\n",
            "29    6\n",
            "30    6\n",
            "31    6\n",
            "32    0\n",
            "33    0\n",
            "34    0\n",
            "35    0\n",
            "36    0\n",
            "37    0\n",
            "38    0\n",
            "39    0\n",
            "40    0\n",
            "41    4\n",
            "42    0\n",
            "43    7\n",
            "44    7\n",
            "45    7\n",
            "46    7\n",
            "47    7\n",
            "48    7\n",
            "49    5\n",
            "Name: cluster, dtype: int32\n"
          ]
        },
        {
          "output_type": "stream",
          "name": "stderr",
          "text": [
            "/usr/local/lib/python3.10/dist-packages/sklearn/cluster/_kmeans.py:870: FutureWarning: The default value of `n_init` will change from 10 to 'auto' in 1.4. Set the value of `n_init` explicitly to suppress the warning\n",
            "  warnings.warn(\n"
          ]
        }
      ],
      "source": [
        "# データを読み込みます。\n",
        "df = pd.read_csv('SSDSE-C-2023.csv', header=None, encoding='cp932')\n",
        "\n",
        "# 分析対象のデータを抽出します。3行目までのデータを削除し、1列目から3列目までのデータも削除します。\n",
        "df = df.iloc[3:, 3:]\n",
        "\n",
        "# データを標準化します。\n",
        "scaler = StandardScaler()\n",
        "df_scaled = pd.DataFrame(scaler.fit_transform(df), index=df.index, columns=df.columns)\n",
        "\n",
        "# KMeans クラスタリングを行います。\n",
        "# kmeans = KMeans(n_clusters=10, random_state=0)  # クラスタ数は適切に調整してください。\n",
        "kmeans = KMeans(n_clusters=10)  # クラスタ数は適切に調整してください。\n",
        "kmeans.fit(df_scaled)\n",
        "\n",
        "# 結果のクラスタ番号を表示します。\n",
        "df['cluster'] = kmeans.labels_\n",
        "print(df['cluster'])"
      ]
    },
    {
      "cell_type": "markdown",
      "source": [
        "## エルボー法で適切なKを求める"
      ],
      "metadata": {
        "id": "VbrJGf0dkMnb"
      }
    },
    {
      "cell_type": "markdown",
      "source": [
        "K-meansクラスタリングを異なるクラスタ数 K で実行し、横軸にクラスタ数、縦軸にK-meansの目的関数の値、すなわちクラスタ内平方和（WCSS: within-cluster sum-of-squares）をプロットしたグラフを描画せよ。"
      ],
      "metadata": {
        "id": "bjj3gXp2jM9q"
      }
    },
    {
      "cell_type": "code",
      "source": [
        "import pandas as pd\n",
        "from sklearn.cluster import KMeans\n",
        "from sklearn.preprocessing import StandardScaler\n",
        "import matplotlib.pyplot as plt\n",
        "\n",
        "# データを読み込みます。\n",
        "df = pd.read_csv('SSDSE-C-2023.csv', header=None, encoding='cp932')\n",
        "\n",
        "# 分析対象のデータを抽出します。3行目までのデータを削除し、1列目から3列目までのデータも削除します。\n",
        "df = df.iloc[3:, 3:]\n",
        "\n",
        "# データを標準化します。\n",
        "scaler = StandardScaler()\n",
        "df_scaled = pd.DataFrame(scaler.fit_transform(df), index=df.index, columns=df.columns)\n",
        "\n",
        "# 異なるクラスタ数で KMeans クラスタリングを実行し、WCSSを計算します。\n",
        "wcss = []\n",
        "max_clusters = 40  # 最大クラスタ数は適切に設定してください。\n",
        "for i in range(1, max_clusters+1):\n",
        "    # kmeans = KMeans(n_clusters=i, random_state=0)\n",
        "    kmeans = KMeans(n_clusters=i)\n",
        "    kmeans.fit(df_scaled)\n",
        "    wcss.append(kmeans.inertia_)\n",
        "\n",
        "# クラスタ数に対するWCSSをプロットします。\n",
        "plt.plot(range(1, max_clusters+1), wcss)\n",
        "plt.title('Elbow Method')\n",
        "plt.xlabel('Number of clusters')\n",
        "plt.ylabel('WCSS')\n",
        "plt.grid(True)\n",
        "plt.show()"
      ],
      "metadata": {
        "colab": {
          "base_uri": "https://localhost:8080/",
          "height": 1000
        },
        "id": "H98-IdaXYzNu",
        "outputId": "c886e6b0-025a-4632-ce34-16a2995c84f3"
      },
      "execution_count": null,
      "outputs": [
        {
          "output_type": "stream",
          "name": "stderr",
          "text": [
            "/usr/local/lib/python3.10/dist-packages/sklearn/cluster/_kmeans.py:870: FutureWarning: The default value of `n_init` will change from 10 to 'auto' in 1.4. Set the value of `n_init` explicitly to suppress the warning\n",
            "  warnings.warn(\n",
            "/usr/local/lib/python3.10/dist-packages/sklearn/cluster/_kmeans.py:870: FutureWarning: The default value of `n_init` will change from 10 to 'auto' in 1.4. Set the value of `n_init` explicitly to suppress the warning\n",
            "  warnings.warn(\n",
            "/usr/local/lib/python3.10/dist-packages/sklearn/cluster/_kmeans.py:870: FutureWarning: The default value of `n_init` will change from 10 to 'auto' in 1.4. Set the value of `n_init` explicitly to suppress the warning\n",
            "  warnings.warn(\n",
            "/usr/local/lib/python3.10/dist-packages/sklearn/cluster/_kmeans.py:870: FutureWarning: The default value of `n_init` will change from 10 to 'auto' in 1.4. Set the value of `n_init` explicitly to suppress the warning\n",
            "  warnings.warn(\n",
            "/usr/local/lib/python3.10/dist-packages/sklearn/cluster/_kmeans.py:870: FutureWarning: The default value of `n_init` will change from 10 to 'auto' in 1.4. Set the value of `n_init` explicitly to suppress the warning\n",
            "  warnings.warn(\n",
            "/usr/local/lib/python3.10/dist-packages/sklearn/cluster/_kmeans.py:870: FutureWarning: The default value of `n_init` will change from 10 to 'auto' in 1.4. Set the value of `n_init` explicitly to suppress the warning\n",
            "  warnings.warn(\n",
            "/usr/local/lib/python3.10/dist-packages/sklearn/cluster/_kmeans.py:870: FutureWarning: The default value of `n_init` will change from 10 to 'auto' in 1.4. Set the value of `n_init` explicitly to suppress the warning\n",
            "  warnings.warn(\n",
            "/usr/local/lib/python3.10/dist-packages/sklearn/cluster/_kmeans.py:870: FutureWarning: The default value of `n_init` will change from 10 to 'auto' in 1.4. Set the value of `n_init` explicitly to suppress the warning\n",
            "  warnings.warn(\n",
            "/usr/local/lib/python3.10/dist-packages/sklearn/cluster/_kmeans.py:870: FutureWarning: The default value of `n_init` will change from 10 to 'auto' in 1.4. Set the value of `n_init` explicitly to suppress the warning\n",
            "  warnings.warn(\n",
            "/usr/local/lib/python3.10/dist-packages/sklearn/cluster/_kmeans.py:870: FutureWarning: The default value of `n_init` will change from 10 to 'auto' in 1.4. Set the value of `n_init` explicitly to suppress the warning\n",
            "  warnings.warn(\n",
            "/usr/local/lib/python3.10/dist-packages/sklearn/cluster/_kmeans.py:870: FutureWarning: The default value of `n_init` will change from 10 to 'auto' in 1.4. Set the value of `n_init` explicitly to suppress the warning\n",
            "  warnings.warn(\n",
            "/usr/local/lib/python3.10/dist-packages/sklearn/cluster/_kmeans.py:870: FutureWarning: The default value of `n_init` will change from 10 to 'auto' in 1.4. Set the value of `n_init` explicitly to suppress the warning\n",
            "  warnings.warn(\n",
            "/usr/local/lib/python3.10/dist-packages/sklearn/cluster/_kmeans.py:870: FutureWarning: The default value of `n_init` will change from 10 to 'auto' in 1.4. Set the value of `n_init` explicitly to suppress the warning\n",
            "  warnings.warn(\n",
            "/usr/local/lib/python3.10/dist-packages/sklearn/cluster/_kmeans.py:870: FutureWarning: The default value of `n_init` will change from 10 to 'auto' in 1.4. Set the value of `n_init` explicitly to suppress the warning\n",
            "  warnings.warn(\n",
            "/usr/local/lib/python3.10/dist-packages/sklearn/cluster/_kmeans.py:870: FutureWarning: The default value of `n_init` will change from 10 to 'auto' in 1.4. Set the value of `n_init` explicitly to suppress the warning\n",
            "  warnings.warn(\n",
            "/usr/local/lib/python3.10/dist-packages/sklearn/cluster/_kmeans.py:870: FutureWarning: The default value of `n_init` will change from 10 to 'auto' in 1.4. Set the value of `n_init` explicitly to suppress the warning\n",
            "  warnings.warn(\n",
            "/usr/local/lib/python3.10/dist-packages/sklearn/cluster/_kmeans.py:870: FutureWarning: The default value of `n_init` will change from 10 to 'auto' in 1.4. Set the value of `n_init` explicitly to suppress the warning\n",
            "  warnings.warn(\n",
            "/usr/local/lib/python3.10/dist-packages/sklearn/cluster/_kmeans.py:870: FutureWarning: The default value of `n_init` will change from 10 to 'auto' in 1.4. Set the value of `n_init` explicitly to suppress the warning\n",
            "  warnings.warn(\n",
            "/usr/local/lib/python3.10/dist-packages/sklearn/cluster/_kmeans.py:870: FutureWarning: The default value of `n_init` will change from 10 to 'auto' in 1.4. Set the value of `n_init` explicitly to suppress the warning\n",
            "  warnings.warn(\n",
            "/usr/local/lib/python3.10/dist-packages/sklearn/cluster/_kmeans.py:870: FutureWarning: The default value of `n_init` will change from 10 to 'auto' in 1.4. Set the value of `n_init` explicitly to suppress the warning\n",
            "  warnings.warn(\n",
            "/usr/local/lib/python3.10/dist-packages/sklearn/cluster/_kmeans.py:870: FutureWarning: The default value of `n_init` will change from 10 to 'auto' in 1.4. Set the value of `n_init` explicitly to suppress the warning\n",
            "  warnings.warn(\n",
            "/usr/local/lib/python3.10/dist-packages/sklearn/cluster/_kmeans.py:870: FutureWarning: The default value of `n_init` will change from 10 to 'auto' in 1.4. Set the value of `n_init` explicitly to suppress the warning\n",
            "  warnings.warn(\n",
            "/usr/local/lib/python3.10/dist-packages/sklearn/cluster/_kmeans.py:870: FutureWarning: The default value of `n_init` will change from 10 to 'auto' in 1.4. Set the value of `n_init` explicitly to suppress the warning\n",
            "  warnings.warn(\n",
            "/usr/local/lib/python3.10/dist-packages/sklearn/cluster/_kmeans.py:870: FutureWarning: The default value of `n_init` will change from 10 to 'auto' in 1.4. Set the value of `n_init` explicitly to suppress the warning\n",
            "  warnings.warn(\n",
            "/usr/local/lib/python3.10/dist-packages/sklearn/cluster/_kmeans.py:870: FutureWarning: The default value of `n_init` will change from 10 to 'auto' in 1.4. Set the value of `n_init` explicitly to suppress the warning\n",
            "  warnings.warn(\n",
            "/usr/local/lib/python3.10/dist-packages/sklearn/cluster/_kmeans.py:870: FutureWarning: The default value of `n_init` will change from 10 to 'auto' in 1.4. Set the value of `n_init` explicitly to suppress the warning\n",
            "  warnings.warn(\n",
            "/usr/local/lib/python3.10/dist-packages/sklearn/cluster/_kmeans.py:870: FutureWarning: The default value of `n_init` will change from 10 to 'auto' in 1.4. Set the value of `n_init` explicitly to suppress the warning\n",
            "  warnings.warn(\n",
            "/usr/local/lib/python3.10/dist-packages/sklearn/cluster/_kmeans.py:870: FutureWarning: The default value of `n_init` will change from 10 to 'auto' in 1.4. Set the value of `n_init` explicitly to suppress the warning\n",
            "  warnings.warn(\n",
            "/usr/local/lib/python3.10/dist-packages/sklearn/cluster/_kmeans.py:870: FutureWarning: The default value of `n_init` will change from 10 to 'auto' in 1.4. Set the value of `n_init` explicitly to suppress the warning\n",
            "  warnings.warn(\n",
            "/usr/local/lib/python3.10/dist-packages/sklearn/cluster/_kmeans.py:870: FutureWarning: The default value of `n_init` will change from 10 to 'auto' in 1.4. Set the value of `n_init` explicitly to suppress the warning\n",
            "  warnings.warn(\n",
            "/usr/local/lib/python3.10/dist-packages/sklearn/cluster/_kmeans.py:870: FutureWarning: The default value of `n_init` will change from 10 to 'auto' in 1.4. Set the value of `n_init` explicitly to suppress the warning\n",
            "  warnings.warn(\n",
            "/usr/local/lib/python3.10/dist-packages/sklearn/cluster/_kmeans.py:870: FutureWarning: The default value of `n_init` will change from 10 to 'auto' in 1.4. Set the value of `n_init` explicitly to suppress the warning\n",
            "  warnings.warn(\n",
            "/usr/local/lib/python3.10/dist-packages/sklearn/cluster/_kmeans.py:870: FutureWarning: The default value of `n_init` will change from 10 to 'auto' in 1.4. Set the value of `n_init` explicitly to suppress the warning\n",
            "  warnings.warn(\n",
            "/usr/local/lib/python3.10/dist-packages/sklearn/cluster/_kmeans.py:870: FutureWarning: The default value of `n_init` will change from 10 to 'auto' in 1.4. Set the value of `n_init` explicitly to suppress the warning\n",
            "  warnings.warn(\n",
            "/usr/local/lib/python3.10/dist-packages/sklearn/cluster/_kmeans.py:870: FutureWarning: The default value of `n_init` will change from 10 to 'auto' in 1.4. Set the value of `n_init` explicitly to suppress the warning\n",
            "  warnings.warn(\n",
            "/usr/local/lib/python3.10/dist-packages/sklearn/cluster/_kmeans.py:870: FutureWarning: The default value of `n_init` will change from 10 to 'auto' in 1.4. Set the value of `n_init` explicitly to suppress the warning\n",
            "  warnings.warn(\n",
            "/usr/local/lib/python3.10/dist-packages/sklearn/cluster/_kmeans.py:870: FutureWarning: The default value of `n_init` will change from 10 to 'auto' in 1.4. Set the value of `n_init` explicitly to suppress the warning\n",
            "  warnings.warn(\n",
            "/usr/local/lib/python3.10/dist-packages/sklearn/cluster/_kmeans.py:870: FutureWarning: The default value of `n_init` will change from 10 to 'auto' in 1.4. Set the value of `n_init` explicitly to suppress the warning\n",
            "  warnings.warn(\n",
            "/usr/local/lib/python3.10/dist-packages/sklearn/cluster/_kmeans.py:870: FutureWarning: The default value of `n_init` will change from 10 to 'auto' in 1.4. Set the value of `n_init` explicitly to suppress the warning\n",
            "  warnings.warn(\n",
            "/usr/local/lib/python3.10/dist-packages/sklearn/cluster/_kmeans.py:870: FutureWarning: The default value of `n_init` will change from 10 to 'auto' in 1.4. Set the value of `n_init` explicitly to suppress the warning\n",
            "  warnings.warn(\n"
          ]
        },
        {
          "output_type": "display_data",
          "data": {
            "text/plain": [
              "<Figure size 640x480 with 1 Axes>"
            ],
            "image/png": "[encoded data removed]"
          },
          "metadata": {}
        }
      ]
    },
    {
      "cell_type": "markdown",
      "source": [
        "## 各クラスタに属する都道府県庁所在地の表示"
      ],
      "metadata": {
        "id": "vfLyz9Z7j5t7"
      }
    },
    {
      "cell_type": "markdown",
      "source": [
        "クラスタリング結果の各クラスタに対して、それぞれ所属する都道府県庁所在地を知りたいのですが、どうすればよいですか？"
      ],
      "metadata": {
        "id": "U4MaSvgZjt9z"
      }
    },
    {
      "cell_type": "code",
      "source": [
        "import pandas as pd\n",
        "from sklearn.cluster import KMeans\n",
        "from sklearn.preprocessing import StandardScaler\n",
        "\n",
        "# データを読み込みます。\n",
        "df = pd.read_csv('SSDSE-C-2023.csv', header=None, encoding='cp932')\n",
        "\n",
        "# 都道府県庁所在地の名前を保存します。\n",
        "cities = df.iloc[3:, 2]\n",
        "\n",
        "# 分析対象のデータを抽出します。3行目までのデータを削除し、1列目から3列目までのデータも削除します。\n",
        "df = df.iloc[3:, 3:]\n",
        "\n",
        "# データを標準化します。\n",
        "scaler = StandardScaler()\n",
        "df_scaled = pd.DataFrame(scaler.fit_transform(df), index=df.index, columns=df.columns)\n",
        "\n",
        "# KMeans クラスタリングを行います。\n",
        "kmeans = KMeans(n_clusters=10, random_state=0)  # クラスタ数は適切に調整してください。\n",
        "kmeans.fit(df_scaled)\n",
        "\n",
        "# 結果のクラスタ番号を都道府県庁所在地に付与します。\n",
        "cities_clustered = pd.DataFrame({'City': cities, 'Cluster': kmeans.labels_})\n",
        "\n",
        "# クラスタ番号ごとに都道府県庁所在地を表示します。\n",
        "for i in range(kmeans.n_clusters):\n",
        "    print(f'Cluster {i}:')\n",
        "    print(cities_clustered[cities_clustered['Cluster'] == i]['City'])\n",
        "    print('\\n')"
      ],
      "metadata": {
        "colab": {
          "base_uri": "https://localhost:8080/"
        },
        "id": "uEjmuxUZbMV-",
        "outputId": "43292148-6d8b-4559-8837-19eee7b38735"
      },
      "execution_count": null,
      "outputs": [
        {
          "output_type": "stream",
          "name": "stdout",
          "text": [
            "Cluster 0:\n",
            "33     鳥取市\n",
            "34     松江市\n",
            "37     山口市\n",
            "42     福岡市\n",
            "43     佐賀市\n",
            "44     長崎市\n",
            "45     熊本市\n",
            "46     大分市\n",
            "47     宮崎市\n",
            "48    鹿児島市\n",
            "Name: City, dtype: object\n",
            "\n",
            "\n",
            "Cluster 1:\n",
            "19    金沢市\n",
            "27    大津市\n",
            "28    京都市\n",
            "29    大阪市\n",
            "30    神戸市\n",
            "31    奈良市\n",
            "Name: City, dtype: object\n",
            "\n",
            "\n",
            "Cluster 2:\n",
            "3    札幌市\n",
            "4    青森市\n",
            "5    盛岡市\n",
            "7    秋田市\n",
            "Name: City, dtype: object\n",
            "\n",
            "\n",
            "Cluster 3:\n",
            "6      仙台市\n",
            "9      福島市\n",
            "10     水戸市\n",
            "11    宇都宮市\n",
            "12     前橋市\n",
            "21     甲府市\n",
            "22     長野市\n",
            "Name: City, dtype: object\n",
            "\n",
            "\n",
            "Cluster 4:\n",
            "49    那覇市\n",
            "Name: City, dtype: object\n",
            "\n",
            "\n",
            "Cluster 5:\n",
            "13    さいたま市\n",
            "14      千葉市\n",
            "15    東京都区部\n",
            "16      横浜市\n",
            "Name: City, dtype: object\n",
            "\n",
            "\n",
            "Cluster 6:\n",
            "8     山形市\n",
            "17    新潟市\n",
            "18    富山市\n",
            "Name: City, dtype: object\n",
            "\n",
            "\n",
            "Cluster 7:\n",
            "32    和歌山市\n",
            "35     岡山市\n",
            "36     広島市\n",
            "38     徳島市\n",
            "39     高松市\n",
            "40     松山市\n",
            "41     高知市\n",
            "Name: City, dtype: object\n",
            "\n",
            "\n",
            "Cluster 8:\n",
            "20    福井市\n",
            "Name: City, dtype: object\n",
            "\n",
            "\n",
            "Cluster 9:\n",
            "23     岐阜市\n",
            "24     静岡市\n",
            "25    名古屋市\n",
            "26      津市\n",
            "Name: City, dtype: object\n",
            "\n",
            "\n"
          ]
        },
        {
          "output_type": "stream",
          "name": "stderr",
          "text": [
            "/usr/local/lib/python3.10/dist-packages/sklearn/cluster/_kmeans.py:870: FutureWarning: The default value of `n_init` will change from 10 to 'auto' in 1.4. Set the value of `n_init` explicitly to suppress the warning\n",
            "  warnings.warn(\n"
          ]
        }
      ]
    }
  ]
}
