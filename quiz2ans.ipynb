{
  "nbformat": 4,
  "nbformat_minor": 0,
  "metadata": {
    "colab": {
      "provenance": [],
      "include_colab_link": true
    },
    "kernelspec": {
      "name": "python3",
      "display_name": "Python 3"
    },
    "language_info": {
      "name": "python"
    }
  },
  "cells": [
    {
      "cell_type": "markdown",
      "metadata": {
        "id": "view-in-github",
        "colab_type": "text"
      },
      "source": [
        "<a href=\"https://colab.research.google.com/github/okana2ki/multiV/blob/main/quiz2ans.ipynb\" target=\"_parent\"><img src=\"https://colab.research.google.com/assets/colab-badge.svg\" alt=\"Open In Colab\"/></a>"
      ]
    },
    {
      "cell_type": "markdown",
      "source": [
        "まず、↑上の「**ドライブにコピー**」をクリックして、このノートブックを自分のGoogleドライブにコピーして下さい。コピーを終えたら、以下の通り進めて下さい。\n",
        "\n",
        "以下の各問に答えなさい。それぞれの問題は以下の手順で解いて下さい。\n",
        "1.   まず、自分で必要な関数などを調べて、プログラムを書いて、実行してみて下さい。\n",
        "2.   行き詰った場合、エラーが出て分からない場合、どうしてよいか分からない場合は、Colab AI (Gemini) や[ChatGPTなど](https://okana2ki.wordpress.com/llm-chatbot/#%E8%A8%80%E8%AA%9E%E7%94%9F%E6%88%90%E5%9E%8Bai-%E3%83%81%E3%83%A3%E3%83%83%E3%83%88%E3%83%9C%E3%83%83%E3%83%88-%E3%81%AE%E4%BE%8B)で尋ねてもらって構いません。しかし、その場合は、以下の点に注意して下さい：\n",
        "\n",
        "*   プログラムが**実行できて期待した結果が出る**ことを必ず確認して下さい。エラーが出る場合や、期待した結果と異なる場合は、自分で原因を突き止めるか、Colab AIやChatGPTなどに相談して、解決して下さい。\n",
        "*   知らない関数や、その他、分からない点は、自分で調べるか、Colab AIやChatGPTなどに尋ねることによって、**プログラムを理解した上で**、解答を提出して下さい。\n",
        "\n",
        "提出方法は次の通りです：\n",
        "\n",
        "1.   Colabノートブックの画面右上部の「共有」をクリック。\n",
        "3.   「一般的なアクセス」の「制限付き」をクリックして、「リンクを知っている全員」をクリック。\n",
        "4.   （「閲覧者」と表示されていることを確認して）\n",
        "5.   「リンクをコピー」をクリック。\n",
        "6.   コピーされたリンクを、moodleの提出先に、**リンクとしてペースト**して提出。**クリックできるリンクを作成するには**、「鎖マークのボタン」をクリックし、そこのURL欄にリンクをペースト（貼り付け）して下さい。\n",
        "\n",
        "以下の問題は、ChainerチュートリアルのStep 1 の[演習問題](https://tutorials.chainer.org/ja/Exercise_Step_01.html)を参考に作成しました。"
      ],
      "metadata": {
        "id": "97o-gat8muKA"
      }
    },
    {
      "cell_type": "markdown",
      "source": [
        "\n",
        "\n",
        "---"
      ],
      "metadata": {
        "id": "Hu1yq5UkpmbF"
      }
    },
    {
      "cell_type": "markdown",
      "source": [
        "問１：リスト a の要素を合計するPythonプログラムを下のコードセルに書きなさい。また、いろいろなリストに対してそのプログラムが正しく動作することを確認しなさい。ヒント：空リストもリストの一種ですが、空リストでも正しく動作しますか？"
      ],
      "metadata": {
        "id": "kUzcZE44Zvat"
      }
    },
    {
      "cell_type": "code",
      "execution_count": 1,
      "metadata": {
        "id": "02K0uQF6Za-4",
        "colab": {
          "base_uri": "https://localhost:8080/"
        },
        "outputId": "7e67677b-05f4-479d-ba8e-9e6c17763931"
      },
      "outputs": [
        {
          "output_type": "stream",
          "name": "stdout",
          "text": [
            "15\n",
            "0\n",
            "0\n",
            "7.0\n"
          ]
        }
      ],
      "source": [
        "# prompt: リスト a の要素を合計するPythonプログラムを下のコードセルに書きなさい。また、いろいろなリストに対してそのプログラムが正しく動作することを確認しなさい。ヒント：空リストもリストの一種ですが、空リストでも正しく動作しますか？\n",
        "\n",
        "def sum_list(a):\n",
        "  \"\"\"\n",
        "  This function calculates the sum of elements in a list.\n",
        "\n",
        "  Args:\n",
        "    a: A list of numbers.\n",
        "\n",
        "  Returns:\n",
        "    The sum of the elements in the list. Returns 0 if the list is empty.\n",
        "  \"\"\"\n",
        "  total = 0\n",
        "  for element in a:\n",
        "    total += element\n",
        "  return total\n",
        "\n",
        "# Test cases\n",
        "print(sum_list([1, 2, 3, 4, 5]))  # Output: 15\n",
        "print(sum_list([-1, 0, 1]))  # Output: 0\n",
        "print(sum_list([]))  # Output: 0\n",
        "print(sum_list([1.5, 2.5, 3.0])) # Output 7.0\n"
      ]
    },
    {
      "cell_type": "markdown",
      "source": [
        "- 空リストでの動作も確認していることは重要。\n",
        "- **一般的に、極端な例での動作確認が必要。極端な例の扱いはバグを含みやすいので。**ここでは空リストが極端な例。"
      ],
      "metadata": {
        "id": "acFpt4vzjGNW"
      }
    },
    {
      "cell_type": "markdown",
      "source": [
        "- Geminiに生成を頼んだ場合は、上記のように、先頭にコメント行として**プロンプトが残るので、それをそのまま残して、提出**して下さい。\n",
        "- セルを**実行して、その実行結果も提出**して下さい。"
      ],
      "metadata": {
        "id": "AxCxY1q-jgY7"
      }
    },
    {
      "cell_type": "markdown",
      "source": [
        "上級者用のおまけ問題 問１´：問１において、リストの要素が文字列だった場合、どうなりますか？文字列でも数値でも動作するようにできますか？文字列でも動作するとは、リスト`['a', 'b', 'c']`の要素を足し合わせると`'abc'`になるといった具合です。ヒント：文字列と数値で場合分けする必要があると思います。場合分け不要の洗練された方法があるかもしれませんが。\n",
        "\n",
        "この「問１´」のような、**普通見ないような問題は、生成AIは苦手で、エラーが出るプログラムや、仕様通りの答が出ないプログラムを生成する可能性が高くなります**。それを経験してもらうための問題として「問１´」を作りました。**このような場合に、望むプログラムを作るためには、AIとどのようにやりとりをしたらいいか**、ぜひ、試行錯誤してみて下さい。→1年前は、こういう状態だったのですが、今、確認すると、**この程度の問題であれば、正しいプログラムを生成してくれる**（ことが多い？）ようです。**AIは急速に進歩**していますからね。特に、プログラム生成は、生成AIが実用的に役立つ用途（生成AI向きの用途）なので、各社が競っていて、性能向上も極めて急速です。"
      ],
      "metadata": {
        "id": "ktmyauhwfIBw"
      }
    },
    {
      "cell_type": "code",
      "source": [
        "# prompt: 問１において、リストの要素が文字列だった場合、どうなりますか？文字列でも数値でも動作するようにできますか？文字列でも動作するとは、リスト['a', 'b', 'c']の要素を足し合わせると'abc'になるといった具合です。ヒント：文字列と数値で場合分けする必要があると思います。場合分け不要の洗練された方法があるかもしれませんが。\n",
        "\n",
        "def sum_list(a):\n",
        "  \"\"\"\n",
        "  This function calculates the sum of elements in a list.\n",
        "  It handles both numeric and string elements.\n",
        "\n",
        "  Args:\n",
        "    a: A list of numbers or strings.\n",
        "\n",
        "  Returns:\n",
        "    Returns 0 for an empty list.\n",
        "    Returns the sum of numeric elements for a list of numbers.\n",
        "    Returns the concatenated string for a list of strings.\n",
        "    Returns \"Mixed data types\" for a mixed list.\n",
        "  \"\"\"\n",
        "  if not a:\n",
        "    return 0\n",
        "\n",
        "  if all(isinstance(item, (int, float)) for item in a):\n",
        "    total = 0\n",
        "    for element in a:\n",
        "        total += element\n",
        "    return total\n",
        "  elif all(isinstance(item,str) for item in a):\n",
        "      total = ''\n",
        "      for element in a:\n",
        "          total += element\n",
        "      return total\n",
        "  else:\n",
        "      # Handle mixed type lists (or other scenarios) appropriately\n",
        "      # Example: raise an error or return a specific value\n",
        "      return \"Mixed data types\"\n",
        "\n",
        "\n",
        "# Test cases\n",
        "print(sum_list([1, 2, 3, 4, 5]))  # Output: 15\n",
        "print(sum_list([-1, 0, 1]))  # Output: 0\n",
        "print(sum_list([]))  # Output: 0\n",
        "print(sum_list([1.5, 2.5, 3.0])) # Output 7.0\n",
        "print(sum_list(['a', 'b', 'c'])) # Output abc\n",
        "print(sum_list(['a', 1])) # Output: Mixed data types\n",
        "print(sum_list([1,'a'])) # Output: Mixed data types\n",
        "print(sum_list([1, [1, 2]])) # Output: Mixed data types\n",
        "print(sum_list([1, []])) # Output: Mixed data types\n"
      ],
      "metadata": {
        "id": "owJJUCkfgVbz",
        "colab": {
          "base_uri": "https://localhost:8080/"
        },
        "outputId": "0bf3a01a-7871-4d7a-e099-734f2ce1598e"
      },
      "execution_count": 9,
      "outputs": [
        {
          "output_type": "stream",
          "name": "stdout",
          "text": [
            "15\n",
            "0\n",
            "0\n",
            "7.0\n",
            "abc\n",
            "Mixed data types\n",
            "Mixed data types\n",
            "Mixed data types\n",
            "Mixed data types\n"
          ]
        }
      ]
    },
    {
      "cell_type": "markdown",
      "source": [
        "- 「ヒント：文字列と数値で場合分けする必要があると思います。場合分け不要の洗練された方法があるかもしれませんが。」この部分も、プロンプトに入れて試してみましたが、どうも、このヒントが悪さしている（あまり適切なヒントでなかった）ようで、かなりの確率で、バグがあるコードや、冗長はコードを作ってきました。上記は、私が手で修正したものです。\n",
        "- 上記の例では、**数値と文字列以外の要素も試しています**。リストの要素としてリストが混ざっている場合を例にしています。\n",
        "- 上記は**あくまで仕様の一例、コードの一例**です。これ以外にも、様々な仕様や様々なコードがありえます。ソフトウェア作成というのは、そういう**多様な解がある中で、適切な解の1つを見つける活動**です。"
      ],
      "metadata": {
        "id": "WylI9gtHwh-7"
      }
    },
    {
      "cell_type": "markdown",
      "source": [
        "問２：リスト a の要素を小さい順にソートするPythonプログラムを下のコードセルに書きなさい。また、いろいろなリストに対してそのプログラムが正しく動作することを確認しなさい。"
      ],
      "metadata": {
        "id": "9DxeY53dcsku"
      }
    },
    {
      "cell_type": "code",
      "source": [],
      "metadata": {
        "id": "Z22yZTyEcYJs"
      },
      "execution_count": null,
      "outputs": []
    },
    {
      "cell_type": "markdown",
      "source": [
        "問３：リスト a の要素を大きい順にソートするPythonプログラムを下のコードセルに書きなさい。また、いろいろなリストに対してそのプログラムが正しく動作することを確認しなさい。"
      ],
      "metadata": {
        "id": "h3UnpfxyeAdw"
      }
    },
    {
      "cell_type": "code",
      "source": [],
      "metadata": {
        "id": "qZOx-JJEeEj-"
      },
      "execution_count": null,
      "outputs": []
    },
    {
      "cell_type": "markdown",
      "source": [
        "問４：リスト a の先頭の要素を１つ削除して、末尾に35という値の要素を付け加えるPythonプログラムを下のコードセルに書きなさい。また、いろいろなリストに対してそのプログラムが正しく動作することを確認しなさい。"
      ],
      "metadata": {
        "id": "xjAf30HXe3nR"
      }
    },
    {
      "cell_type": "code",
      "source": [],
      "metadata": {
        "id": "QjgYZhWNfexL"
      },
      "execution_count": null,
      "outputs": []
    },
    {
      "cell_type": "markdown",
      "source": [
        "問５：0 から 19 までの数をスペース区切りで並べた文字列 \"0 1 2 3 4 ... 19\" を作るPythonプログラムを下のコードセルに書きなさい。"
      ],
      "metadata": {
        "id": "psjUR6Dmgmo2"
      }
    },
    {
      "cell_type": "code",
      "source": [],
      "metadata": {
        "id": "KKLIuGzLgj75"
      },
      "execution_count": null,
      "outputs": []
    },
    {
      "cell_type": "markdown",
      "source": [
        "問６：次のプログラムは、リストの先頭の要素10を40に変更することを意図したものですが、バグがあるので修正して下さい。"
      ],
      "metadata": {
        "id": "IVZuwn8sZb-H"
      }
    },
    {
      "cell_type": "code",
      "source": [
        "list1 = (10, 20, 30)\n",
        "list1[1] = 40\n",
        "print(list1)"
      ],
      "metadata": {
        "id": "5fX4Udzxgljo"
      },
      "execution_count": null,
      "outputs": []
    }
  ]
}