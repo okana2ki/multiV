{
  "nbformat": 4,
  "nbformat_minor": 0,
  "metadata": {
    "colab": {
      "provenance": [],
      "toc_visible": true,
      "include_colab_link": true
    },
    "kernelspec": {
      "name": "python3",
      "display_name": "Python 3"
    },
    "language_info": {
      "name": "python"
    }
  },
  "cells": [
    {
      "cell_type": "markdown",
      "metadata": {
        "id": "view-in-github",
        "colab_type": "text"
      },
      "source": [
        "<a href=\"https://colab.research.google.com/github/okana2ki/multiV/blob/main/quiz2ans.ipynb\" target=\"_parent\"><img src=\"https://colab.research.google.com/assets/colab-badge.svg\" alt=\"Open In Colab\"/></a>"
      ]
    },
    {
      "cell_type": "markdown",
      "source": [
        "まず、↑上の「**ドライブにコピー**」をクリックして、このノートブックを自分のGoogleドライブにコピーして下さい。コピーを終えたら、以下の通り進めて下さい。\n",
        "\n",
        "以下の各問に答えなさい。それぞれの問題は以下の手順で解いて下さい。\n",
        "1.   まず、自分で必要な関数などを調べて、プログラムを書いて、実行してみて下さい。\n",
        "2.   行き詰った場合、エラーが出て分からない場合、どうしてよいか分からない場合は、Colab AI (Gemini) や[ChatGPTなど](https://okana2ki.wordpress.com/llm-chatbot/#%E8%A8%80%E8%AA%9E%E7%94%9F%E6%88%90%E5%9E%8Bai-%E3%83%81%E3%83%A3%E3%83%83%E3%83%88%E3%83%9C%E3%83%83%E3%83%88-%E3%81%AE%E4%BE%8B)で尋ねてもらって構いません。しかし、その場合は、以下の点に注意して下さい：\n",
        "\n",
        "*   プログラムが**実行できて期待した結果が出る**ことを必ず確認して下さい。エラーが出る場合や、期待した結果と異なる場合は、自分で原因を突き止めるか、Colab AIやChatGPTなどに相談して、解決して下さい。\n",
        "*   知らない関数や、その他、分からない点は、自分で調べるか、Colab AIやChatGPTなどに尋ねることによって、**プログラムを理解した上で**、解答を提出して下さい。\n",
        "\n",
        "提出方法は次の通りです：\n",
        "\n",
        "1.   Colabノートブックの画面右上部の「共有」をクリック。\n",
        "3.   「一般的なアクセス」の「制限付き」をクリックして、「リンクを知っている全員」をクリック。\n",
        "4.   （「閲覧者」と表示されていることを確認して）\n",
        "5.   「リンクをコピー」をクリック。\n",
        "6.   コピーされたリンクを、moodleの提出先に、**リンクとしてペースト**して提出。**クリックできるリンクを作成するには**、「鎖マークのボタン」をクリックし、そこのURL欄にリンクをペースト（貼り付け）して下さい。\n",
        "\n",
        "以下の問題は、ChainerチュートリアルのStep 1 の[演習問題](https://tutorials.chainer.org/ja/Exercise_Step_01.html)を参考に作成しました。"
      ],
      "metadata": {
        "id": "97o-gat8muKA"
      }
    },
    {
      "cell_type": "markdown",
      "source": [
        "\n",
        "\n",
        "---"
      ],
      "metadata": {
        "id": "Hu1yq5UkpmbF"
      }
    },
    {
      "cell_type": "markdown",
      "source": [
        "# 問１\n",
        "リスト a の要素を合計するPythonプログラムを下のコードセルに書きなさい。また、いろいろなリストに対してそのプログラムが正しく動作することを確認しなさい。ヒント：空リストもリストの一種ですが、空リストでも正しく動作しますか？"
      ],
      "metadata": {
        "id": "kUzcZE44Zvat"
      }
    },
    {
      "cell_type": "code",
      "execution_count": 1,
      "metadata": {
        "id": "02K0uQF6Za-4",
        "colab": {
          "base_uri": "https://localhost:8080/"
        },
        "outputId": "7e67677b-05f4-479d-ba8e-9e6c17763931"
      },
      "outputs": [
        {
          "output_type": "stream",
          "name": "stdout",
          "text": [
            "15\n",
            "0\n",
            "0\n",
            "7.0\n"
          ]
        }
      ],
      "source": [
        "# prompt: リスト a の要素を合計するPythonプログラムを下のコードセルに書きなさい。また、いろいろなリストに対してそのプログラムが正しく動作することを確認しなさい。ヒント：空リストもリストの一種ですが、空リストでも正しく動作しますか？\n",
        "\n",
        "def sum_list(a):\n",
        "  \"\"\"\n",
        "  This function calculates the sum of elements in a list.\n",
        "\n",
        "  Args:\n",
        "    a: A list of numbers.\n",
        "\n",
        "  Returns:\n",
        "    The sum of the elements in the list. Returns 0 if the list is empty.\n",
        "  \"\"\"\n",
        "  total = 0\n",
        "  for element in a:\n",
        "    total += element\n",
        "  return total\n",
        "\n",
        "# Test cases\n",
        "print(sum_list([1, 2, 3, 4, 5]))  # Output: 15\n",
        "print(sum_list([-1, 0, 1]))  # Output: 0\n",
        "print(sum_list([]))  # Output: 0\n",
        "print(sum_list([1.5, 2.5, 3.0])) # Output 7.0\n"
      ]
    },
    {
      "cell_type": "markdown",
      "source": [
        "- 空リストでの動作も確認していることは重要。\n",
        "- **一般的に、極端な例での動作確認が必要。極端な例の扱いはバグを含みやすいので。**ここでは空リストが極端な例。"
      ],
      "metadata": {
        "id": "acFpt4vzjGNW"
      }
    },
    {
      "cell_type": "markdown",
      "source": [
        "- Geminiに生成を頼んだ場合は、上記のように、先頭にコメント行として**プロンプトが残るので、それをそのまま残して、提出**して下さい。\n",
        "- セルを**実行して、その実行結果も提出**して下さい。"
      ],
      "metadata": {
        "id": "AxCxY1q-jgY7"
      }
    },
    {
      "cell_type": "markdown",
      "source": [
        "# 上級者用のおまけ問題 問１´\n",
        "問１において、リストの要素が文字列だった場合、どうなりますか？文字列でも数値でも動作するようにできますか？文字列でも動作するとは、リスト`['a', 'b', 'c']`の要素を足し合わせると`'abc'`になるといった具合です。ヒント：文字列と数値で場合分けする必要があると思います。場合分け不要の洗練された方法があるかもしれませんが。\n",
        "\n",
        "この「問１´」のような、**普通見ないような問題は、生成AIは苦手で、エラーが出るプログラムや、仕様通りの答が出ないプログラムを生成する可能性が高くなります**。それを経験してもらうための問題として「問１´」を作りました。**このような場合に、望むプログラムを作るためには、AIとどのようにやりとりをしたらいいか**、ぜひ、試行錯誤してみて下さい。→1年前は、こういう状態だったのですが、今、確認すると、**この程度の問題であれば、正しいプログラムを生成してくれる**（ことが多い？）ようです。**AIは急速に進歩**していますからね。特に、プログラム生成は、生成AIが実用的に役立つ用途（生成AI向きの用途）なので、各社が競っていて、性能向上も極めて急速です。"
      ],
      "metadata": {
        "id": "ktmyauhwfIBw"
      }
    },
    {
      "cell_type": "code",
      "source": [
        "# prompt: 問１において、リストの要素が文字列だった場合、どうなりますか？文字列でも数値でも動作するようにできますか？文字列でも動作するとは、リスト['a', 'b', 'c']の要素を足し合わせると'abc'になるといった具合です。ヒント：文字列と数値で場合分けする必要があると思います。場合分け不要の洗練された方法があるかもしれませんが。\n",
        "\n",
        "def sum_list(a):\n",
        "  \"\"\"\n",
        "  This function calculates the sum of elements in a list.\n",
        "  It handles both numeric and string elements.\n",
        "\n",
        "  Args:\n",
        "    a: A list of numbers or strings.\n",
        "\n",
        "  Returns:\n",
        "    Returns 0 for an empty list.\n",
        "    Returns the sum of numeric elements for a list of numbers.\n",
        "    Returns the concatenated string for a list of strings.\n",
        "    Returns \"Mixed data types\" for a mixed list.\n",
        "  \"\"\"\n",
        "  if not a:\n",
        "    return 0\n",
        "\n",
        "  if all(isinstance(item, (int, float)) for item in a):\n",
        "    total = 0\n",
        "    for element in a:\n",
        "        total += element\n",
        "    return total\n",
        "  elif all(isinstance(item,str) for item in a):\n",
        "      total = ''\n",
        "      for element in a:\n",
        "          total += element\n",
        "      return total\n",
        "  else:\n",
        "      # Handle mixed type lists (or other scenarios) appropriately\n",
        "      # Example: raise an error or return a specific value\n",
        "      return \"Mixed data types\"\n",
        "\n",
        "\n",
        "# Test cases\n",
        "print(sum_list([1, 2, 3, 4, 5]))  # Output: 15\n",
        "print(sum_list([-1, 0, 1]))  # Output: 0\n",
        "print(sum_list([]))  # Output: 0\n",
        "print(sum_list([1.5, 2.5, 3.0])) # Output 7.0\n",
        "print(sum_list(['a', 'b', 'c'])) # Output abc\n",
        "print(sum_list(['a', 1])) # Output: Mixed data types\n",
        "print(sum_list([1,'a'])) # Output: Mixed data types\n",
        "print(sum_list([1, [1, 2]])) # Output: Mixed data types\n",
        "print(sum_list([1, []])) # Output: Mixed data types\n"
      ],
      "metadata": {
        "id": "owJJUCkfgVbz",
        "colab": {
          "base_uri": "https://localhost:8080/"
        },
        "outputId": "0bf3a01a-7871-4d7a-e099-734f2ce1598e"
      },
      "execution_count": 9,
      "outputs": [
        {
          "output_type": "stream",
          "name": "stdout",
          "text": [
            "15\n",
            "0\n",
            "0\n",
            "7.0\n",
            "abc\n",
            "Mixed data types\n",
            "Mixed data types\n",
            "Mixed data types\n",
            "Mixed data types\n"
          ]
        }
      ]
    },
    {
      "cell_type": "markdown",
      "source": [
        "- 「ヒント：文字列と数値で場合分けする必要があると思います。場合分け不要の洗練された方法があるかもしれませんが。」この部分も、プロンプトに入れて試してみましたが、どうも、このヒントが悪さしている（あまり適切なヒントでなかった）ようで、かなりの確率で、バグがあるコードや、冗長はコードを作ってきました。上記は、私が手で修正したものです。\n",
        "- 上記の例では、**数値と文字列以外の要素も試しています**。リストの要素としてリストが混ざっている場合を例にしています。\n",
        "- 上記は**あくまで仕様の一例、コードの一例**です。これ以外にも、様々な仕様や様々なコードがありえます。ソフトウェア作成というのは、そういう**多様な解がある中で、適切な解の1つを見つける活動**です。"
      ],
      "metadata": {
        "id": "WylI9gtHwh-7"
      }
    },
    {
      "cell_type": "markdown",
      "source": [
        "# 問２\n",
        "リスト a の要素を小さい順にソートするPythonプログラムを下のコードセルに書きなさい。また、いろいろなリストに対してそのプログラムが正しく動作することを確認しなさい。"
      ],
      "metadata": {
        "id": "9DxeY53dcsku"
      }
    },
    {
      "cell_type": "code",
      "source": [
        "# prompt: リスト a の要素を小さい順にソートするPythonプログラムを下のコードセルに書きなさい。また、いろいろなリストに対してそのプログラムが正しく動作することを確認しなさい。\n",
        "\n",
        "def sort_list(a):\n",
        "    \"\"\"Sorts a list in ascending order.\n",
        "\n",
        "    Args:\n",
        "      a: A list of comparable elements.\n",
        "\n",
        "    Returns:\n",
        "      A new list with the elements of 'a' sorted in ascending order.\n",
        "      Returns an empty list if the input list is empty.\n",
        "    \"\"\"\n",
        "    return sorted(a)\n",
        "\n",
        "# Test cases\n",
        "print(sort_list([3, 1, 4, 1, 5, 9, 2, 6]))  # Output: [1, 1, 2, 3, 4, 5, 6, 9]\n",
        "print(sort_list([5, 2, 8, 1, 9, 4])) # Output: [1, 2, 4, 5, 8, 9]\n",
        "print(sort_list([]))  # Output: []\n",
        "print(sort_list([1]))  # Output: [1]\n",
        "print(sort_list([-1, 0, 1])) # Output: [-1, 0, 1]\n",
        "print(sort_list(['apple', 'banana', 'cherry'])) # Output: ['apple', 'banana', 'cherry']\n",
        "print(sort_list(['cherry', 'apple', 'banana'])) # Output: ['apple', 'banana', 'cherry']\n"
      ],
      "metadata": {
        "id": "Z22yZTyEcYJs",
        "colab": {
          "base_uri": "https://localhost:8080/"
        },
        "outputId": "c0795f1d-afe2-49e3-927f-a9e5f4f64fae"
      },
      "execution_count": 28,
      "outputs": [
        {
          "output_type": "stream",
          "name": "stdout",
          "text": [
            "[1, 1, 2, 3, 4, 5, 6, 9]\n",
            "[1, 2, 4, 5, 8, 9]\n",
            "[]\n",
            "[1]\n",
            "[-1, 0, 1]\n",
            "['apple', 'banana', 'cherry']\n",
            "['apple', 'banana', 'cherry']\n"
          ]
        }
      ]
    },
    {
      "cell_type": "markdown",
      "source": [
        "上記のように、**様々な入力に対する動作確認**も必ずして下さい。Geminiに頼んでもある程度動作確認してくれますが、必ずしも網羅的ではありません。ここでのポイントは、文字列が要素のリストもソートできていることですが、自分で例を作って他の例も試してみましょう。文字コードでソートされるので、辞書順と似ていますが異なる点もあるので注意。下記では、リストのリストも試しています。"
      ],
      "metadata": {
        "id": "qPuYUCkD2paM"
      }
    },
    {
      "cell_type": "code",
      "source": [
        "print(sort_list(['a', 'aa', 'ab', 'b', 'ba', 'A', 'ABC', '1', '2', '0', '10']))\n",
        "print(sort_list(['apple', 'apricot', 'aardvark']))\n",
        "print(sort_list([[2], [1]]))\n",
        "print(sort_list([[1, 2, 3], [1, 4], [1, 2]]))\n",
        "print(sort_list([[4, 2, 3], [1, 4], [3, 2]]))"
      ],
      "metadata": {
        "colab": {
          "base_uri": "https://localhost:8080/"
        },
        "id": "jjbX6gS86s9i",
        "outputId": "28c229e9-55d6-4ec7-bc5f-a42a1f2edd73"
      },
      "execution_count": 30,
      "outputs": [
        {
          "output_type": "stream",
          "name": "stdout",
          "text": [
            "['0', '1', '10', '2', 'A', 'ABC', 'a', 'aa', 'ab', 'b', 'ba']\n",
            "['aardvark', 'apple', 'apricot']\n",
            "[[1], [2]]\n",
            "[[1, 2], [1, 2, 3], [1, 4]]\n",
            "[[1, 4], [3, 2], [4, 2, 3]]\n"
          ]
        }
      ]
    },
    {
      "cell_type": "markdown",
      "source": [
        "想定していない入力でエラーが出る場合を見てみましょう。"
      ],
      "metadata": {
        "id": "xALEZb_d898J"
      }
    },
    {
      "cell_type": "code",
      "source": [
        "print(sort_list([1, 'apple', 2, 'banana']))"
      ],
      "metadata": {
        "colab": {
          "base_uri": "https://localhost:8080/",
          "height": 273
        },
        "id": "xaFRwSfl2nVc",
        "outputId": "850dc777-97f4-4de0-8148-b8712c220942"
      },
      "execution_count": 16,
      "outputs": [
        {
          "output_type": "error",
          "ename": "TypeError",
          "evalue": "'<' not supported between instances of 'str' and 'int'",
          "traceback": [
            "\u001b[0;31m---------------------------------------------------------------------------\u001b[0m",
            "\u001b[0;31mTypeError\u001b[0m                                 Traceback (most recent call last)",
            "\u001b[0;32m<ipython-input-16-de62d603f075>\u001b[0m in \u001b[0;36m<cell line: 0>\u001b[0;34m()\u001b[0m\n\u001b[0;32m----> 1\u001b[0;31m \u001b[0mprint\u001b[0m\u001b[0;34m(\u001b[0m\u001b[0msort_list\u001b[0m\u001b[0;34m(\u001b[0m\u001b[0;34m[\u001b[0m\u001b[0;36m1\u001b[0m\u001b[0;34m,\u001b[0m \u001b[0;34m'apple'\u001b[0m\u001b[0;34m,\u001b[0m \u001b[0;36m2\u001b[0m\u001b[0;34m,\u001b[0m \u001b[0;34m'banana'\u001b[0m\u001b[0;34m]\u001b[0m\u001b[0;34m)\u001b[0m\u001b[0;34m)\u001b[0m\u001b[0;34m\u001b[0m\u001b[0;34m\u001b[0m\u001b[0m\n\u001b[0m",
            "\u001b[0;32m<ipython-input-15-2014878a30d3>\u001b[0m in \u001b[0;36msort_list\u001b[0;34m(a)\u001b[0m\n\u001b[1;32m     11\u001b[0m       \u001b[0mReturns\u001b[0m \u001b[0man\u001b[0m \u001b[0mempty\u001b[0m \u001b[0mlist\u001b[0m \u001b[0;32mif\u001b[0m \u001b[0mthe\u001b[0m \u001b[0minput\u001b[0m \u001b[0mlist\u001b[0m \u001b[0;32mis\u001b[0m \u001b[0mempty\u001b[0m\u001b[0;34m.\u001b[0m\u001b[0;34m\u001b[0m\u001b[0;34m\u001b[0m\u001b[0m\n\u001b[1;32m     12\u001b[0m     \"\"\"\n\u001b[0;32m---> 13\u001b[0;31m     \u001b[0;32mreturn\u001b[0m \u001b[0msorted\u001b[0m\u001b[0;34m(\u001b[0m\u001b[0ma\u001b[0m\u001b[0;34m)\u001b[0m\u001b[0;34m\u001b[0m\u001b[0;34m\u001b[0m\u001b[0m\n\u001b[0m\u001b[1;32m     14\u001b[0m \u001b[0;34m\u001b[0m\u001b[0m\n\u001b[1;32m     15\u001b[0m \u001b[0;31m# Test cases\u001b[0m\u001b[0;34m\u001b[0m\u001b[0;34m\u001b[0m\u001b[0m\n",
            "\u001b[0;31mTypeError\u001b[0m: '<' not supported between instances of 'str' and 'int'"
          ]
        }
      ]
    },
    {
      "cell_type": "markdown",
      "source": [
        "AIにエラー対応してもらった例↓"
      ],
      "metadata": {
        "id": "XpM0UoUC9TMe"
      }
    },
    {
      "source": [
        "def sort_list(a):\n",
        "    \"\"\"Sorts a list in ascending order.\n",
        "\n",
        "    Args:\n",
        "      a: A list of comparable elements.\n",
        "\n",
        "    Returns:\n",
        "      A new list with the elements of 'a' sorted in ascending order.\n",
        "      Returns an empty list if the input list is empty.\n",
        "      Returns \"Cannot sort a list with mixed data types.\" if the list contains mixed data types.\n",
        "    \"\"\"\n",
        "    try:\n",
        "        return sorted(a)\n",
        "    except TypeError:\n",
        "        return \"Cannot sort a list with mixed data types.\"\n",
        "\n",
        "print(sort_list([1, 'apple', 2, 'banana']))"
      ],
      "cell_type": "code",
      "metadata": {
        "colab": {
          "base_uri": "https://localhost:8080/"
        },
        "id": "7JxyUjzy9MbW",
        "outputId": "04b85cde-f9a4-4fee-8d41-72dcc2f29c53"
      },
      "execution_count": 32,
      "outputs": [
        {
          "output_type": "stream",
          "name": "stdout",
          "text": [
            "Cannot sort a list with mixed data types.\n"
          ]
        }
      ]
    },
    {
      "cell_type": "markdown",
      "source": [
        "# 問３\n",
        "リスト a の要素を大きい順にソートするPythonプログラムを下のコードセルに書きなさい。また、いろいろなリストに対してそのプログラムが正しく動作することを確認しなさい。"
      ],
      "metadata": {
        "id": "h3UnpfxyeAdw"
      }
    },
    {
      "cell_type": "code",
      "source": [
        "# prompt: リスト a の要素を大きい順にソートするPythonプログラムを下のコードセルに書きなさい。また、いろいろなリストに対してそのプログラムが正しく動作することを確認しなさい。\n",
        "\n",
        "def sort_list_descending(a):\n",
        "    \"\"\"Sorts a list in descending order.\n",
        "\n",
        "    Args:\n",
        "      a: A list of comparable elements.\n",
        "\n",
        "    Returns:\n",
        "      A new list with the elements of 'a' sorted in descending order.\n",
        "      Returns an empty list if the input list is empty.\n",
        "      Returns \"Cannot sort a list with mixed data types.\" if the list contains mixed data types.\n",
        "    \"\"\"\n",
        "    try:\n",
        "        return sorted(a, reverse=True)\n",
        "    except TypeError:\n",
        "        return \"Cannot sort a list with mixed data types.\"\n",
        "\n",
        "# Test cases\n",
        "print(sort_list_descending([3, 1, 4, 1, 5, 9, 2, 6]))  # Output: [9, 6, 5, 4, 3, 2, 1, 1]\n",
        "print(sort_list_descending([5, 2, 8, 1, 9, 4])) # Output: [9, 8, 5, 4, 2, 1]\n",
        "print(sort_list_descending([]))  # Output: []\n",
        "print(sort_list_descending([1]))  # Output: [1]\n",
        "print(sort_list_descending([-1, 0, 1])) # Output: [1, 0, -1]\n",
        "print(sort_list_descending(['apple', 'banana', 'cherry'])) # Output: ['cherry', 'banana', 'apple']\n",
        "print(sort_list_descending(['cherry', 'apple', 'banana'])) # Output: ['cherry', 'banana', 'apple']\n",
        "print(sort_list_descending(['a', 'aa', 'ab', 'b', 'ba', 'A', 'ABC', '1', '2', '0', '10']))\n",
        "print(sort_list_descending(['apple', 'apricot', 'aardvark']))\n",
        "print(sort_list_descending([[2], [1]]))\n",
        "print(sort_list_descending([[1, 2, 3], [1, 4], [1, 2]]))\n",
        "print(sort_list_descending([[4, 2, 3], [1, 4], [3, 2]]))\n",
        "# 想定していない入力でエラーが出る場合を見てみましょう。\n",
        "print(sort_list_descending([1, 'apple', 2, 'banana']))\n"
      ],
      "metadata": {
        "id": "qZOx-JJEeEj-",
        "colab": {
          "base_uri": "https://localhost:8080/"
        },
        "outputId": "5087816c-9cf2-470a-a692-0521d16a99e3"
      },
      "execution_count": 33,
      "outputs": [
        {
          "output_type": "stream",
          "name": "stdout",
          "text": [
            "[9, 6, 5, 4, 3, 2, 1, 1]\n",
            "[9, 8, 5, 4, 2, 1]\n",
            "[]\n",
            "[1]\n",
            "[1, 0, -1]\n",
            "['cherry', 'banana', 'apple']\n",
            "['cherry', 'banana', 'apple']\n",
            "['ba', 'b', 'ab', 'aa', 'a', 'ABC', 'A', '2', '10', '1', '0']\n",
            "['apricot', 'apple', 'aardvark']\n",
            "[[2], [1]]\n",
            "[[1, 4], [1, 2, 3], [1, 2]]\n",
            "[[4, 2, 3], [3, 2], [1, 4]]\n",
            "Cannot sort a list with mixed data types.\n"
          ]
        }
      ]
    },
    {
      "cell_type": "markdown",
      "source": [
        "# 問４\n",
        "リスト a の先頭の要素を１つ削除して、末尾に35という値の要素を付け加えるPythonプログラムを下のコードセルに書きなさい。また、いろいろなリストに対してそのプログラムが正しく動作することを確認しなさい。"
      ],
      "metadata": {
        "id": "xjAf30HXe3nR"
      }
    },
    {
      "cell_type": "code",
      "source": [
        "# prompt: リスト a の先頭の要素を１つ削除して、末尾に35という値の要素を付け加えるPythonプログラムを下のコードセルに書きなさい。また、いろいろなリストに対してそのプログラムが正しく動作することを確認しなさい。\n",
        "\n",
        "def modify_list(a):\n",
        "    \"\"\"Removes the first element of a list and appends 35 to the end.\n",
        "\n",
        "    Args:\n",
        "      a: A list.\n",
        "\n",
        "    Returns:\n",
        "      A new list with the first element removed and 35 appended,\n",
        "      or the original list if it's empty.\n",
        "    \"\"\"\n",
        "    if not a:\n",
        "        return a  # Return the empty list as is\n",
        "    new_list = a[1:]  # Create a new list without the first element\n",
        "    new_list.append(35) # Append 35 to the new list\n",
        "    return new_list\n",
        "\n",
        "\n",
        "# Test cases\n",
        "print(modify_list([1, 2, 3, 4, 5]))  # Output: [2, 3, 4, 5, 35]\n",
        "print(modify_list([10, 20, 30]))  # Output: [20, 30, 35]\n",
        "print(modify_list([]))  # Output: []\n",
        "print(modify_list([1])) # Output: [35]\n",
        "print(modify_list(['a', 'b', 'c'])) # Output: ['b', 'c', 35]\n",
        "print(modify_list([1, 'a'])) # Output: ['a', 35]\n"
      ],
      "metadata": {
        "id": "QjgYZhWNfexL",
        "colab": {
          "base_uri": "https://localhost:8080/"
        },
        "outputId": "e5c0bd6a-48b3-4aa5-a91c-69850284b64f"
      },
      "execution_count": 34,
      "outputs": [
        {
          "output_type": "stream",
          "name": "stdout",
          "text": [
            "[2, 3, 4, 5, 35]\n",
            "[20, 30, 35]\n",
            "[]\n",
            "[35]\n",
            "['b', 'c', 35]\n",
            "['a', 35]\n"
          ]
        }
      ]
    },
    {
      "cell_type": "markdown",
      "source": [
        "# 問５\n",
        "0 から 19 までの数をスペース区切りで並べた文字列 \"0 1 2 3 4 ... 19\" を作るPythonプログラムを下のコードセルに書きなさい。"
      ],
      "metadata": {
        "id": "psjUR6Dmgmo2"
      }
    },
    {
      "cell_type": "code",
      "source": [
        "# prompt: 0 から 19 までの数をスペース区切りで並べた文字列 \"0 1 2 3 4 ... 19\" を作るPythonプログラム\n",
        "\n",
        "def create_number_string():\n",
        "  \"\"\"Creates a string of numbers from 0 to 19 separated by spaces.\"\"\"\n",
        "  numbers = list(range(20))  # Create a list of numbers from 0 to 19\n",
        "  return \" \".join(map(str, numbers))  # Convert to strings and join with spaces\n",
        "\n",
        "# Example usage:\n",
        "number_string = create_number_string()\n",
        "number_string\n"
      ],
      "metadata": {
        "id": "KKLIuGzLgj75",
        "colab": {
          "base_uri": "https://localhost:8080/",
          "height": 35
        },
        "outputId": "19d1e3fc-4b88-4093-fa2e-3844384f36fb"
      },
      "execution_count": 35,
      "outputs": [
        {
          "output_type": "execute_result",
          "data": {
            "text/plain": [
              "'0 1 2 3 4 5 6 7 8 9 10 11 12 13 14 15 16 17 18 19'"
            ],
            "application/vnd.google.colaboratory.intrinsic+json": {
              "type": "string"
            }
          },
          "metadata": {},
          "execution_count": 35
        }
      ]
    },
    {
      "cell_type": "markdown",
      "source": [
        "# 問６\n",
        "次のプログラムは、リストの先頭の要素10を40に変更することを意図したものですが、バグがあるので修正して下さい。"
      ],
      "metadata": {
        "id": "IVZuwn8sZb-H"
      }
    },
    {
      "cell_type": "code",
      "source": [
        "list1 = (10, 20, 30)\n",
        "list1[1] = 40\n",
        "print(list1)"
      ],
      "metadata": {
        "id": "5fX4Udzxgljo"
      },
      "execution_count": null,
      "outputs": []
    }
  ]
}