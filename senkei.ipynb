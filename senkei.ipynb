{
  "cells": [
    {
      "cell_type": "markdown",
      "metadata": {
        "id": "view-in-github",
        "colab_type": "text"
      },
      "source": [
        "<a href=\"https://colab.research.google.com/github/okana2ki/multiV/blob/main/senkei.ipynb\" target=\"_parent\"><img src=\"https://colab.research.google.com/assets/colab-badge.svg\" alt=\"Open In Colab\"/></a>"
      ]
    },
    {
      "cell_type": "markdown",
      "source": [
        "このノートブックは、以下からダウンロードしたものを改変したものです：\n",
        "\n",
        "[高等学校における「情報II」のためのデータサイエンス・データ解析入門](https://www.stat.go.jp/teacher/comp-learn-04.html)（総務省統計局）"
      ],
      "metadata": {
        "id": "5XoKqeSav8TH"
      }
    },
    {
      "cell_type": "markdown",
      "metadata": {
        "id": "WgyHQa13aKP-"
      },
      "source": [
        "# 1.線形回帰"
      ]
    },
    {
      "cell_type": "markdown",
      "source": [
        "## ライブラリーのインポート"
      ],
      "metadata": {
        "id": "hF7VZ7LAgSrF"
      }
    },
    {
      "cell_type": "code",
      "execution_count": 1,
      "metadata": {
        "id": "FSHdPJfuaKQH"
      },
      "outputs": [],
      "source": [
        "import pandas as pd\n",
        "import numpy as np\n",
        "import matplotlib.pyplot as plt\n",
        "%matplotlib inline"
      ]
    },
    {
      "cell_type": "markdown",
      "source": [
        "## データの読み込み"
      ],
      "metadata": {
        "id": "8SZH8ofHggst"
      }
    },
    {
      "cell_type": "markdown",
      "metadata": {
        "id": "Viop-0-_aKQI"
      },
      "source": [
        "データ内容は以下の通りです。\n",
        "\n",
        "ID：ID  \n",
        "sales：売上個数  \n",
        "insta_post：Instagram投稿数  \n",
        "insta_good：Instagramいいね！数  \n",
        "flyer：チラシ配布枚数  \n",
        "event：イベントあり＝１、イベントなし＝０  \n",
        "new_item：新作発売日＝１  \n",
        "holiday：土日祝＝１"
      ]
    },
    {
      "cell_type": "code",
      "execution_count": 2,
      "metadata": {
        "colab": {
          "base_uri": "https://localhost:8080/",
          "height": 237
        },
        "id": "F7dpbrw-aKQJ",
        "outputId": "aeaf4c5c-a31f-4ca8-e076-39ea57e33347"
      },
      "outputs": [
        {
          "output_type": "execute_result",
          "data": {
            "text/plain": [
              "    sales  insta_post  insta_good  flyer  event  new_item  holiday\n",
              "ID                                                                \n",
              "1      62           0          20      0      0         0        0\n",
              "2      60           0          24      0      0         0        0\n",
              "3     104           0          26      0      0         0        0\n",
              "4     102           0          22      0      0         0        0\n",
              "5     178           0          39      0      0         0        1"
            ],
            "text/html": [
              "\n",
              "  <div id=\"df-bb057d5c-c766-4dd9-b02e-b45a7b11be6e\" class=\"colab-df-container\">\n",
              "    <div>\n",
              "<style scoped>\n",
              "    .dataframe tbody tr th:only-of-type {\n",
              "        vertical-align: middle;\n",
              "    }\n",
              "\n",
              "    .dataframe tbody tr th {\n",
              "        vertical-align: top;\n",
              "    }\n",
              "\n",
              "    .dataframe thead th {\n",
              "        text-align: right;\n",
              "    }\n",
              "</style>\n",
              "<table border=\"1\" class=\"dataframe\">\n",
              "  <thead>\n",
              "    <tr style=\"text-align: right;\">\n",
              "      <th></th>\n",
              "      <th>sales</th>\n",
              "      <th>insta_post</th>\n",
              "      <th>insta_good</th>\n",
              "      <th>flyer</th>\n",
              "      <th>event</th>\n",
              "      <th>new_item</th>\n",
              "      <th>holiday</th>\n",
              "    </tr>\n",
              "    <tr>\n",
              "      <th>ID</th>\n",
              "      <th></th>\n",
              "      <th></th>\n",
              "      <th></th>\n",
              "      <th></th>\n",
              "      <th></th>\n",
              "      <th></th>\n",
              "      <th></th>\n",
              "    </tr>\n",
              "  </thead>\n",
              "  <tbody>\n",
              "    <tr>\n",
              "      <th>1</th>\n",
              "      <td>62</td>\n",
              "      <td>0</td>\n",
              "      <td>20</td>\n",
              "      <td>0</td>\n",
              "      <td>0</td>\n",
              "      <td>0</td>\n",
              "      <td>0</td>\n",
              "    </tr>\n",
              "    <tr>\n",
              "      <th>2</th>\n",
              "      <td>60</td>\n",
              "      <td>0</td>\n",
              "      <td>24</td>\n",
              "      <td>0</td>\n",
              "      <td>0</td>\n",
              "      <td>0</td>\n",
              "      <td>0</td>\n",
              "    </tr>\n",
              "    <tr>\n",
              "      <th>3</th>\n",
              "      <td>104</td>\n",
              "      <td>0</td>\n",
              "      <td>26</td>\n",
              "      <td>0</td>\n",
              "      <td>0</td>\n",
              "      <td>0</td>\n",
              "      <td>0</td>\n",
              "    </tr>\n",
              "    <tr>\n",
              "      <th>4</th>\n",
              "      <td>102</td>\n",
              "      <td>0</td>\n",
              "      <td>22</td>\n",
              "      <td>0</td>\n",
              "      <td>0</td>\n",
              "      <td>0</td>\n",
              "      <td>0</td>\n",
              "    </tr>\n",
              "    <tr>\n",
              "      <th>5</th>\n",
              "      <td>178</td>\n",
              "      <td>0</td>\n",
              "      <td>39</td>\n",
              "      <td>0</td>\n",
              "      <td>0</td>\n",
              "      <td>0</td>\n",
              "      <td>1</td>\n",
              "    </tr>\n",
              "  </tbody>\n",
              "</table>\n",
              "</div>\n",
              "    <div class=\"colab-df-buttons\">\n",
              "\n",
              "  <div class=\"colab-df-container\">\n",
              "    <button class=\"colab-df-convert\" onclick=\"convertToInteractive('df-bb057d5c-c766-4dd9-b02e-b45a7b11be6e')\"\n",
              "            title=\"Convert this dataframe to an interactive table.\"\n",
              "            style=\"display:none;\">\n",
              "\n",
              "  <svg xmlns=\"http://www.w3.org/2000/svg\" height=\"24px\" viewBox=\"0 -960 960 960\">\n",
              "    <path d=\"M120-120v-720h720v720H120Zm60-500h600v-160H180v160Zm220 220h160v-160H400v160Zm0 220h160v-160H400v160ZM180-400h160v-160H180v160Zm440 0h160v-160H620v160ZM180-180h160v-160H180v160Zm440 0h160v-160H620v160Z\"/>\n",
              "  </svg>\n",
              "    </button>\n",
              "\n",
              "  <style>\n",
              "    .colab-df-container {\n",
              "      display:flex;\n",
              "      gap: 12px;\n",
              "    }\n",
              "\n",
              "    .colab-df-convert {\n",
              "      background-color: #E8F0FE;\n",
              "      border: none;\n",
              "      border-radius: 50%;\n",
              "      cursor: pointer;\n",
              "      display: none;\n",
              "      fill: #1967D2;\n",
              "      height: 32px;\n",
              "      padding: 0 0 0 0;\n",
              "      width: 32px;\n",
              "    }\n",
              "\n",
              "    .colab-df-convert:hover {\n",
              "      background-color: #E2EBFA;\n",
              "      box-shadow: 0px 1px 2px rgba(60, 64, 67, 0.3), 0px 1px 3px 1px rgba(60, 64, 67, 0.15);\n",
              "      fill: #174EA6;\n",
              "    }\n",
              "\n",
              "    .colab-df-buttons div {\n",
              "      margin-bottom: 4px;\n",
              "    }\n",
              "\n",
              "    [theme=dark] .colab-df-convert {\n",
              "      background-color: #3B4455;\n",
              "      fill: #D2E3FC;\n",
              "    }\n",
              "\n",
              "    [theme=dark] .colab-df-convert:hover {\n",
              "      background-color: #434B5C;\n",
              "      box-shadow: 0px 1px 3px 1px rgba(0, 0, 0, 0.15);\n",
              "      filter: drop-shadow(0px 1px 2px rgba(0, 0, 0, 0.3));\n",
              "      fill: #FFFFFF;\n",
              "    }\n",
              "  </style>\n",
              "\n",
              "    <script>\n",
              "      const buttonEl =\n",
              "        document.querySelector('#df-bb057d5c-c766-4dd9-b02e-b45a7b11be6e button.colab-df-convert');\n",
              "      buttonEl.style.display =\n",
              "        google.colab.kernel.accessAllowed ? 'block' : 'none';\n",
              "\n",
              "      async function convertToInteractive(key) {\n",
              "        const element = document.querySelector('#df-bb057d5c-c766-4dd9-b02e-b45a7b11be6e');\n",
              "        const dataTable =\n",
              "          await google.colab.kernel.invokeFunction('convertToInteractive',\n",
              "                                                    [key], {});\n",
              "        if (!dataTable) return;\n",
              "\n",
              "        const docLinkHtml = 'Like what you see? Visit the ' +\n",
              "          '<a target=\"_blank\" href=https://colab.research.google.com/notebooks/data_table.ipynb>data table notebook</a>'\n",
              "          + ' to learn more about interactive tables.';\n",
              "        element.innerHTML = '';\n",
              "        dataTable['output_type'] = 'display_data';\n",
              "        await google.colab.output.renderOutput(dataTable, element);\n",
              "        const docLink = document.createElement('div');\n",
              "        docLink.innerHTML = docLinkHtml;\n",
              "        element.appendChild(docLink);\n",
              "      }\n",
              "    </script>\n",
              "  </div>\n",
              "\n",
              "\n",
              "    <div id=\"df-5a4d70ac-cd67-4ec0-92b8-47283ed8bd5e\">\n",
              "      <button class=\"colab-df-quickchart\" onclick=\"quickchart('df-5a4d70ac-cd67-4ec0-92b8-47283ed8bd5e')\"\n",
              "                title=\"Suggest charts\"\n",
              "                style=\"display:none;\">\n",
              "\n",
              "<svg xmlns=\"http://www.w3.org/2000/svg\" height=\"24px\"viewBox=\"0 0 24 24\"\n",
              "     width=\"24px\">\n",
              "    <g>\n",
              "        <path d=\"M19 3H5c-1.1 0-2 .9-2 2v14c0 1.1.9 2 2 2h14c1.1 0 2-.9 2-2V5c0-1.1-.9-2-2-2zM9 17H7v-7h2v7zm4 0h-2V7h2v10zm4 0h-2v-4h2v4z\"/>\n",
              "    </g>\n",
              "</svg>\n",
              "      </button>\n",
              "\n",
              "<style>\n",
              "  .colab-df-quickchart {\n",
              "      --bg-color: #E8F0FE;\n",
              "      --fill-color: #1967D2;\n",
              "      --hover-bg-color: #E2EBFA;\n",
              "      --hover-fill-color: #174EA6;\n",
              "      --disabled-fill-color: #AAA;\n",
              "      --disabled-bg-color: #DDD;\n",
              "  }\n",
              "\n",
              "  [theme=dark] .colab-df-quickchart {\n",
              "      --bg-color: #3B4455;\n",
              "      --fill-color: #D2E3FC;\n",
              "      --hover-bg-color: #434B5C;\n",
              "      --hover-fill-color: #FFFFFF;\n",
              "      --disabled-bg-color: #3B4455;\n",
              "      --disabled-fill-color: #666;\n",
              "  }\n",
              "\n",
              "  .colab-df-quickchart {\n",
              "    background-color: var(--bg-color);\n",
              "    border: none;\n",
              "    border-radius: 50%;\n",
              "    cursor: pointer;\n",
              "    display: none;\n",
              "    fill: var(--fill-color);\n",
              "    height: 32px;\n",
              "    padding: 0;\n",
              "    width: 32px;\n",
              "  }\n",
              "\n",
              "  .colab-df-quickchart:hover {\n",
              "    background-color: var(--hover-bg-color);\n",
              "    box-shadow: 0 1px 2px rgba(60, 64, 67, 0.3), 0 1px 3px 1px rgba(60, 64, 67, 0.15);\n",
              "    fill: var(--button-hover-fill-color);\n",
              "  }\n",
              "\n",
              "  .colab-df-quickchart-complete:disabled,\n",
              "  .colab-df-quickchart-complete:disabled:hover {\n",
              "    background-color: var(--disabled-bg-color);\n",
              "    fill: var(--disabled-fill-color);\n",
              "    box-shadow: none;\n",
              "  }\n",
              "\n",
              "  .colab-df-spinner {\n",
              "    border: 2px solid var(--fill-color);\n",
              "    border-color: transparent;\n",
              "    border-bottom-color: var(--fill-color);\n",
              "    animation:\n",
              "      spin 1s steps(1) infinite;\n",
              "  }\n",
              "\n",
              "  @keyframes spin {\n",
              "    0% {\n",
              "      border-color: transparent;\n",
              "      border-bottom-color: var(--fill-color);\n",
              "      border-left-color: var(--fill-color);\n",
              "    }\n",
              "    20% {\n",
              "      border-color: transparent;\n",
              "      border-left-color: var(--fill-color);\n",
              "      border-top-color: var(--fill-color);\n",
              "    }\n",
              "    30% {\n",
              "      border-color: transparent;\n",
              "      border-left-color: var(--fill-color);\n",
              "      border-top-color: var(--fill-color);\n",
              "      border-right-color: var(--fill-color);\n",
              "    }\n",
              "    40% {\n",
              "      border-color: transparent;\n",
              "      border-right-color: var(--fill-color);\n",
              "      border-top-color: var(--fill-color);\n",
              "    }\n",
              "    60% {\n",
              "      border-color: transparent;\n",
              "      border-right-color: var(--fill-color);\n",
              "    }\n",
              "    80% {\n",
              "      border-color: transparent;\n",
              "      border-right-color: var(--fill-color);\n",
              "      border-bottom-color: var(--fill-color);\n",
              "    }\n",
              "    90% {\n",
              "      border-color: transparent;\n",
              "      border-bottom-color: var(--fill-color);\n",
              "    }\n",
              "  }\n",
              "</style>\n",
              "\n",
              "      <script>\n",
              "        async function quickchart(key) {\n",
              "          const quickchartButtonEl =\n",
              "            document.querySelector('#' + key + ' button');\n",
              "          quickchartButtonEl.disabled = true;  // To prevent multiple clicks.\n",
              "          quickchartButtonEl.classList.add('colab-df-spinner');\n",
              "          try {\n",
              "            const charts = await google.colab.kernel.invokeFunction(\n",
              "                'suggestCharts', [key], {});\n",
              "          } catch (error) {\n",
              "            console.error('Error during call to suggestCharts:', error);\n",
              "          }\n",
              "          quickchartButtonEl.classList.remove('colab-df-spinner');\n",
              "          quickchartButtonEl.classList.add('colab-df-quickchart-complete');\n",
              "        }\n",
              "        (() => {\n",
              "          let quickchartButtonEl =\n",
              "            document.querySelector('#df-5a4d70ac-cd67-4ec0-92b8-47283ed8bd5e button');\n",
              "          quickchartButtonEl.style.display =\n",
              "            google.colab.kernel.accessAllowed ? 'block' : 'none';\n",
              "        })();\n",
              "      </script>\n",
              "    </div>\n",
              "\n",
              "    </div>\n",
              "  </div>\n"
            ],
            "application/vnd.google.colaboratory.intrinsic+json": {
              "type": "dataframe",
              "variable_name": "df",
              "summary": "{\n  \"name\": \"df\",\n  \"rows\": 53,\n  \"fields\": [\n    {\n      \"column\": \"ID\",\n      \"properties\": {\n        \"dtype\": \"number\",\n        \"std\": 15,\n        \"min\": 1,\n        \"max\": 53,\n        \"num_unique_values\": 53,\n        \"samples\": [\n          20,\n          42,\n          48\n        ],\n        \"semantic_type\": \"\",\n        \"description\": \"\"\n      }\n    },\n    {\n      \"column\": \"sales\",\n      \"properties\": {\n        \"dtype\": \"number\",\n        \"std\": 99,\n        \"min\": 60,\n        \"max\": 632,\n        \"num_unique_values\": 49,\n        \"samples\": [\n          205,\n          244,\n          140\n        ],\n        \"semantic_type\": \"\",\n        \"description\": \"\"\n      }\n    },\n    {\n      \"column\": \"insta_post\",\n      \"properties\": {\n        \"dtype\": \"number\",\n        \"std\": 0,\n        \"min\": 0,\n        \"max\": 1,\n        \"num_unique_values\": 2,\n        \"samples\": [\n          1,\n          0\n        ],\n        \"semantic_type\": \"\",\n        \"description\": \"\"\n      }\n    },\n    {\n      \"column\": \"insta_good\",\n      \"properties\": {\n        \"dtype\": \"number\",\n        \"std\": 34,\n        \"min\": 11,\n        \"max\": 158,\n        \"num_unique_values\": 35,\n        \"samples\": [\n          32,\n          35\n        ],\n        \"semantic_type\": \"\",\n        \"description\": \"\"\n      }\n    },\n    {\n      \"column\": \"flyer\",\n      \"properties\": {\n        \"dtype\": \"number\",\n        \"std\": 204,\n        \"min\": 0,\n        \"max\": 500,\n        \"num_unique_values\": 2,\n        \"samples\": [\n          500,\n          0\n        ],\n        \"semantic_type\": \"\",\n        \"description\": \"\"\n      }\n    },\n    {\n      \"column\": \"event\",\n      \"properties\": {\n        \"dtype\": \"number\",\n        \"std\": 0,\n        \"min\": 0,\n        \"max\": 1,\n        \"num_unique_values\": 2,\n        \"samples\": [\n          1,\n          0\n        ],\n        \"semantic_type\": \"\",\n        \"description\": \"\"\n      }\n    },\n    {\n      \"column\": \"new_item\",\n      \"properties\": {\n        \"dtype\": \"number\",\n        \"std\": 0,\n        \"min\": 0,\n        \"max\": 1,\n        \"num_unique_values\": 2,\n        \"samples\": [\n          1,\n          0\n        ],\n        \"semantic_type\": \"\",\n        \"description\": \"\"\n      }\n    },\n    {\n      \"column\": \"holiday\",\n      \"properties\": {\n        \"dtype\": \"number\",\n        \"std\": 0,\n        \"min\": 0,\n        \"max\": 1,\n        \"num_unique_values\": 2,\n        \"samples\": [\n          1,\n          0\n        ],\n        \"semantic_type\": \"\",\n        \"description\": \"\"\n      }\n    }\n  ]\n}"
            }
          },
          "metadata": {},
          "execution_count": 2
        }
      ],
      "source": [
        "df = pd.read_csv(\"senkei.csv\", index_col=0)  # ← データファイルのパスを正しく指定して下さい。\n",
        "df.head()"
      ]
    },
    {
      "cell_type": "markdown",
      "source": [
        "↑Colab AIが次のステップとして提案してきた「Generate code with df」や「View recommended plots」をクリックしてみよう！"
      ],
      "metadata": {
        "id": "Tx9nounNSm0l"
      }
    },
    {
      "cell_type": "code",
      "source": [
        "# dfのサイズを表示\n",
        "df.shape"
      ],
      "metadata": {
        "colab": {
          "base_uri": "https://localhost:8080/"
        },
        "id": "AQxPquX3d_IJ",
        "outputId": "b6258f05-5e47-4da9-e15c-fcd60a1da838"
      },
      "execution_count": 3,
      "outputs": [
        {
          "output_type": "execute_result",
          "data": {
            "text/plain": [
              "(53, 7)"
            ]
          },
          "metadata": {},
          "execution_count": 3
        }
      ]
    },
    {
      "cell_type": "markdown",
      "metadata": {
        "id": "rNKoPRwEaKQL"
      },
      "source": [
        "## 単回帰分析"
      ]
    },
    {
      "cell_type": "markdown",
      "metadata": {
        "id": "r91W7EPvaKQM"
      },
      "source": [
        "説明変数をinsta_good、目的変数をsalesとして、単回帰分析を行います。"
      ]
    },
    {
      "cell_type": "code",
      "execution_count": 4,
      "metadata": {
        "id": "evSBR3kzaKQM"
      },
      "outputs": [],
      "source": [
        "# 説明変数insta_good\n",
        "X = df.iloc[:, 2].values  # ← Colab AIで教えてもらおう\n",
        "X = X.reshape(-1,1)  # reshapeでどのような変換をしているか？なぜそれが必要か？Colab AIに尋ねてみましょう\n",
        "\n",
        "# 目的変数sales\n",
        "Y = df.iloc[:, 0].values"
      ]
    },
    {
      "cell_type": "markdown",
      "source": [
        "以下のプログラムもColab AIで教えてもらおう"
      ],
      "metadata": {
        "id": "V0ambsO75Ta8"
      }
    },
    {
      "cell_type": "code",
      "execution_count": 5,
      "metadata": {
        "colab": {
          "base_uri": "https://localhost:8080/"
        },
        "id": "rdLmpcOSaKQN",
        "outputId": "4dc69933-4367-4fb0-e2a8-f9c545686dcd"
      },
      "outputs": [
        {
          "output_type": "stream",
          "name": "stdout",
          "text": [
            "[2.05852128]\n",
            "101.71515440413765\n",
            "0.5218980221448157\n"
          ]
        }
      ],
      "source": [
        "# sklearn.linear_model.LinearRegression クラスを読み込み\n",
        "from sklearn import linear_model\n",
        "clf = linear_model.LinearRegression()\n",
        "\n",
        "# 予測モデルを作成\n",
        "clf.fit(X, Y)\n",
        "\n",
        "# 回帰係数\n",
        "print(clf.coef_)\n",
        "\n",
        "# 切片\n",
        "print(clf.intercept_)\n",
        "\n",
        "# 決定係数\n",
        "print(clf.score(X, Y))"
      ]
    },
    {
      "cell_type": "markdown",
      "metadata": {
        "id": "pZY7M7qwaKQO"
      },
      "source": [
        "insta_goodの回帰係数と、単回帰の式の切片が分かりました。  \n",
        "決定係数は、0～1の範囲の値をとり、値が大きいほどモデルが適切にデータを表現できているといえます。"
      ]
    },
    {
      "cell_type": "markdown",
      "source": [
        "対応する散布図を作成し、回帰直線を描き加えてみましょう。"
      ],
      "metadata": {
        "id": "67NlWgudUGBN"
      }
    },
    {
      "cell_type": "code",
      "source": [
        "# prompt: salesとinsta_goodの散布図を作成し、単回帰分析の回帰式を散布図に書き加えて下さい。\n",
        "\n",
        "# 散布図を作成\n",
        "plt.scatter(X, Y)\n",
        "\n",
        "# 回帰直線を作成\n",
        "x_min, x_max = X.min(), X.max()\n",
        "y_min = clf.predict([[x_min]])\n",
        "y_max = clf.predict([[x_max]])\n",
        "\n",
        "# 回帰直線を散布図に追加\n",
        "plt.plot([x_min, x_max], [y_min, y_max], color=\"r\")\n",
        "\n",
        "# 回帰式の切片と回帰係数を散布図に書き加える\n",
        "plt.text(x_min, y_min, f\"y = {clf.coef_[0]:.3f}x + {clf.intercept_:.3f}\", fontsize=12)\n",
        "\n",
        "# グラフのタイトルとラベルを設定\n",
        "plt.title(\"Sales vs. Instagram Likes\")\n",
        "plt.xlabel(\"Instagram Likes\")\n",
        "plt.ylabel(\"Sales\")\n",
        "\n",
        "# グラフを表示\n",
        "plt.show()\n"
      ],
      "metadata": {
        "colab": {
          "base_uri": "https://localhost:8080/",
          "height": 472
        },
        "id": "zssEMMv-4_5l",
        "outputId": "f4592a50-7510-4237-9ef7-307a774f1048"
      },
      "execution_count": 6,
      "outputs": [
        {
          "output_type": "display_data",
          "data": {
            "text/plain": [
              "<Figure size 640x480 with 1 Axes>"
            ],
            "image/png": "[encoded data removed]"
          },
          "metadata": {}
        }
      ]
    },
    {
      "cell_type": "markdown",
      "metadata": {
        "id": "wgBzIqEXaKQP"
      },
      "source": [
        "## 重回帰分析"
      ]
    },
    {
      "cell_type": "markdown",
      "metadata": {
        "id": "TKa5RlLkaKQR"
      },
      "source": [
        "insta_post以降6カラムを説明変数、目的変数をsalesとして、重回帰分析を行います。"
      ]
    },
    {
      "cell_type": "code",
      "execution_count": 7,
      "metadata": {
        "id": "VzyqIXkVaKQS"
      },
      "outputs": [],
      "source": [
        "# 説明変数\n",
        "X = df.iloc[:, 1:7].values\n",
        "\n",
        "# 目的変数\n",
        "Y = df.iloc[:, 0].values"
      ]
    },
    {
      "cell_type": "code",
      "source": [
        "# sklearn.linear_model.LinearRegression クラスを読み込み\n",
        "from sklearn import linear_model\n",
        "clf = linear_model.LinearRegression()\n",
        "\n",
        "# 予測モデルを作成\n",
        "clf.fit(X, Y)\n",
        "\n",
        "# 偏回帰係数\n",
        "df_except_sales = df.iloc[:, 1:7]\n",
        "print(pd.DataFrame({\"Name\":df_except_sales.columns,\n",
        "                    \"Coefficients\":clf.coef_}))\n",
        "\n",
        "# 切片\n",
        "print(clf.intercept_)"
      ],
      "metadata": {
        "colab": {
          "base_uri": "https://localhost:8080/"
        },
        "id": "rZwoma4bT5Fp",
        "outputId": "bb3d0b55-6a59-4f55-ac49-e9ce5db23995"
      },
      "execution_count": 8,
      "outputs": [
        {
          "output_type": "stream",
          "name": "stdout",
          "text": [
            "         Name  Coefficients\n",
            "0  insta_post     48.871107\n",
            "1  insta_good      0.684993\n",
            "2       flyer      0.206098\n",
            "3       event    245.436745\n",
            "4    new_item    -38.905751\n",
            "5     holiday     26.549665\n",
            "131.89410662096918\n"
          ]
        }
      ]
    },
    {
      "cell_type": "markdown",
      "metadata": {
        "id": "J-kKjXNfaKQT"
      },
      "source": [
        "各変数の偏回帰係数と重回帰の式の切片が分かりました。"
      ]
    },
    {
      "cell_type": "markdown",
      "metadata": {
        "id": "4bJbwdh1aKQT"
      },
      "source": [
        "### 標準化\n",
        "各変数がどの程度目的変数に影響しているかを**比較**する（**他の変数と比べて**どれくらい影響しているかを知る）には、各変数を**標準化**（平均を0、分散を1に揃える）します。"
      ]
    },
    {
      "cell_type": "code",
      "execution_count": 9,
      "metadata": {
        "colab": {
          "base_uri": "https://localhost:8080/",
          "height": 237
        },
        "id": "pwcl276xaKQU",
        "outputId": "728669dc-2860-4803-b573-754bcf113cb1"
      },
      "outputs": [
        {
          "output_type": "execute_result",
          "data": {
            "text/plain": [
              "       sales  insta_post  insta_good     flyer     event  new_item   holiday\n",
              "ID                                                                          \n",
              "1  -1.427147   -0.322749   -0.839503 -0.511766 -0.138675  -0.19803 -0.657596\n",
              "2  -1.447439   -0.322749   -0.723860 -0.511766 -0.138675  -0.19803 -0.657596\n",
              "3  -1.001013   -0.322749   -0.666038 -0.511766 -0.138675  -0.19803 -0.657596\n",
              "4  -1.021305   -0.322749   -0.781681 -0.511766 -0.138675  -0.19803 -0.657596\n",
              "5  -0.250205   -0.322749   -0.290198 -0.511766 -0.138675  -0.19803  1.520691"
            ],
            "text/html": [
              "\n",
              "  <div id=\"df-af2d6cc3-693d-4ea1-b832-cf3624276af9\" class=\"colab-df-container\">\n",
              "    <div>\n",
              "<style scoped>\n",
              "    .dataframe tbody tr th:only-of-type {\n",
              "        vertical-align: middle;\n",
              "    }\n",
              "\n",
              "    .dataframe tbody tr th {\n",
              "        vertical-align: top;\n",
              "    }\n",
              "\n",
              "    .dataframe thead th {\n",
              "        text-align: right;\n",
              "    }\n",
              "</style>\n",
              "<table border=\"1\" class=\"dataframe\">\n",
              "  <thead>\n",
              "    <tr style=\"text-align: right;\">\n",
              "      <th></th>\n",
              "      <th>sales</th>\n",
              "      <th>insta_post</th>\n",
              "      <th>insta_good</th>\n",
              "      <th>flyer</th>\n",
              "      <th>event</th>\n",
              "      <th>new_item</th>\n",
              "      <th>holiday</th>\n",
              "    </tr>\n",
              "    <tr>\n",
              "      <th>ID</th>\n",
              "      <th></th>\n",
              "      <th></th>\n",
              "      <th></th>\n",
              "      <th></th>\n",
              "      <th></th>\n",
              "      <th></th>\n",
              "      <th></th>\n",
              "    </tr>\n",
              "  </thead>\n",
              "  <tbody>\n",
              "    <tr>\n",
              "      <th>1</th>\n",
              "      <td>-1.427147</td>\n",
              "      <td>-0.322749</td>\n",
              "      <td>-0.839503</td>\n",
              "      <td>-0.511766</td>\n",
              "      <td>-0.138675</td>\n",
              "      <td>-0.19803</td>\n",
              "      <td>-0.657596</td>\n",
              "    </tr>\n",
              "    <tr>\n",
              "      <th>2</th>\n",
              "      <td>-1.447439</td>\n",
              "      <td>-0.322749</td>\n",
              "      <td>-0.723860</td>\n",
              "      <td>-0.511766</td>\n",
              "      <td>-0.138675</td>\n",
              "      <td>-0.19803</td>\n",
              "      <td>-0.657596</td>\n",
              "    </tr>\n",
              "    <tr>\n",
              "      <th>3</th>\n",
              "      <td>-1.001013</td>\n",
              "      <td>-0.322749</td>\n",
              "      <td>-0.666038</td>\n",
              "      <td>-0.511766</td>\n",
              "      <td>-0.138675</td>\n",
              "      <td>-0.19803</td>\n",
              "      <td>-0.657596</td>\n",
              "    </tr>\n",
              "    <tr>\n",
              "      <th>4</th>\n",
              "      <td>-1.021305</td>\n",
              "      <td>-0.322749</td>\n",
              "      <td>-0.781681</td>\n",
              "      <td>-0.511766</td>\n",
              "      <td>-0.138675</td>\n",
              "      <td>-0.19803</td>\n",
              "      <td>-0.657596</td>\n",
              "    </tr>\n",
              "    <tr>\n",
              "      <th>5</th>\n",
              "      <td>-0.250205</td>\n",
              "      <td>-0.322749</td>\n",
              "      <td>-0.290198</td>\n",
              "      <td>-0.511766</td>\n",
              "      <td>-0.138675</td>\n",
              "      <td>-0.19803</td>\n",
              "      <td>1.520691</td>\n",
              "    </tr>\n",
              "  </tbody>\n",
              "</table>\n",
              "</div>\n",
              "    <div class=\"colab-df-buttons\">\n",
              "\n",
              "  <div class=\"colab-df-container\">\n",
              "    <button class=\"colab-df-convert\" onclick=\"convertToInteractive('df-af2d6cc3-693d-4ea1-b832-cf3624276af9')\"\n",
              "            title=\"Convert this dataframe to an interactive table.\"\n",
              "            style=\"display:none;\">\n",
              "\n",
              "  <svg xmlns=\"http://www.w3.org/2000/svg\" height=\"24px\" viewBox=\"0 -960 960 960\">\n",
              "    <path d=\"M120-120v-720h720v720H120Zm60-500h600v-160H180v160Zm220 220h160v-160H400v160Zm0 220h160v-160H400v160ZM180-400h160v-160H180v160Zm440 0h160v-160H620v160ZM180-180h160v-160H180v160Zm440 0h160v-160H620v160Z\"/>\n",
              "  </svg>\n",
              "    </button>\n",
              "\n",
              "  <style>\n",
              "    .colab-df-container {\n",
              "      display:flex;\n",
              "      gap: 12px;\n",
              "    }\n",
              "\n",
              "    .colab-df-convert {\n",
              "      background-color: #E8F0FE;\n",
              "      border: none;\n",
              "      border-radius: 50%;\n",
              "      cursor: pointer;\n",
              "      display: none;\n",
              "      fill: #1967D2;\n",
              "      height: 32px;\n",
              "      padding: 0 0 0 0;\n",
              "      width: 32px;\n",
              "    }\n",
              "\n",
              "    .colab-df-convert:hover {\n",
              "      background-color: #E2EBFA;\n",
              "      box-shadow: 0px 1px 2px rgba(60, 64, 67, 0.3), 0px 1px 3px 1px rgba(60, 64, 67, 0.15);\n",
              "      fill: #174EA6;\n",
              "    }\n",
              "\n",
              "    .colab-df-buttons div {\n",
              "      margin-bottom: 4px;\n",
              "    }\n",
              "\n",
              "    [theme=dark] .colab-df-convert {\n",
              "      background-color: #3B4455;\n",
              "      fill: #D2E3FC;\n",
              "    }\n",
              "\n",
              "    [theme=dark] .colab-df-convert:hover {\n",
              "      background-color: #434B5C;\n",
              "      box-shadow: 0px 1px 3px 1px rgba(0, 0, 0, 0.15);\n",
              "      filter: drop-shadow(0px 1px 2px rgba(0, 0, 0, 0.3));\n",
              "      fill: #FFFFFF;\n",
              "    }\n",
              "  </style>\n",
              "\n",
              "    <script>\n",
              "      const buttonEl =\n",
              "        document.querySelector('#df-af2d6cc3-693d-4ea1-b832-cf3624276af9 button.colab-df-convert');\n",
              "      buttonEl.style.display =\n",
              "        google.colab.kernel.accessAllowed ? 'block' : 'none';\n",
              "\n",
              "      async function convertToInteractive(key) {\n",
              "        const element = document.querySelector('#df-af2d6cc3-693d-4ea1-b832-cf3624276af9');\n",
              "        const dataTable =\n",
              "          await google.colab.kernel.invokeFunction('convertToInteractive',\n",
              "                                                    [key], {});\n",
              "        if (!dataTable) return;\n",
              "\n",
              "        const docLinkHtml = 'Like what you see? Visit the ' +\n",
              "          '<a target=\"_blank\" href=https://colab.research.google.com/notebooks/data_table.ipynb>data table notebook</a>'\n",
              "          + ' to learn more about interactive tables.';\n",
              "        element.innerHTML = '';\n",
              "        dataTable['output_type'] = 'display_data';\n",
              "        await google.colab.output.renderOutput(dataTable, element);\n",
              "        const docLink = document.createElement('div');\n",
              "        docLink.innerHTML = docLinkHtml;\n",
              "        element.appendChild(docLink);\n",
              "      }\n",
              "    </script>\n",
              "  </div>\n",
              "\n",
              "\n",
              "    <div id=\"df-3187c43c-4c85-4b29-95ec-8ec40d3bb5f9\">\n",
              "      <button class=\"colab-df-quickchart\" onclick=\"quickchart('df-3187c43c-4c85-4b29-95ec-8ec40d3bb5f9')\"\n",
              "                title=\"Suggest charts\"\n",
              "                style=\"display:none;\">\n",
              "\n",
              "<svg xmlns=\"http://www.w3.org/2000/svg\" height=\"24px\"viewBox=\"0 0 24 24\"\n",
              "     width=\"24px\">\n",
              "    <g>\n",
              "        <path d=\"M19 3H5c-1.1 0-2 .9-2 2v14c0 1.1.9 2 2 2h14c1.1 0 2-.9 2-2V5c0-1.1-.9-2-2-2zM9 17H7v-7h2v7zm4 0h-2V7h2v10zm4 0h-2v-4h2v4z\"/>\n",
              "    </g>\n",
              "</svg>\n",
              "      </button>\n",
              "\n",
              "<style>\n",
              "  .colab-df-quickchart {\n",
              "      --bg-color: #E8F0FE;\n",
              "      --fill-color: #1967D2;\n",
              "      --hover-bg-color: #E2EBFA;\n",
              "      --hover-fill-color: #174EA6;\n",
              "      --disabled-fill-color: #AAA;\n",
              "      --disabled-bg-color: #DDD;\n",
              "  }\n",
              "\n",
              "  [theme=dark] .colab-df-quickchart {\n",
              "      --bg-color: #3B4455;\n",
              "      --fill-color: #D2E3FC;\n",
              "      --hover-bg-color: #434B5C;\n",
              "      --hover-fill-color: #FFFFFF;\n",
              "      --disabled-bg-color: #3B4455;\n",
              "      --disabled-fill-color: #666;\n",
              "  }\n",
              "\n",
              "  .colab-df-quickchart {\n",
              "    background-color: var(--bg-color);\n",
              "    border: none;\n",
              "    border-radius: 50%;\n",
              "    cursor: pointer;\n",
              "    display: none;\n",
              "    fill: var(--fill-color);\n",
              "    height: 32px;\n",
              "    padding: 0;\n",
              "    width: 32px;\n",
              "  }\n",
              "\n",
              "  .colab-df-quickchart:hover {\n",
              "    background-color: var(--hover-bg-color);\n",
              "    box-shadow: 0 1px 2px rgba(60, 64, 67, 0.3), 0 1px 3px 1px rgba(60, 64, 67, 0.15);\n",
              "    fill: var(--button-hover-fill-color);\n",
              "  }\n",
              "\n",
              "  .colab-df-quickchart-complete:disabled,\n",
              "  .colab-df-quickchart-complete:disabled:hover {\n",
              "    background-color: var(--disabled-bg-color);\n",
              "    fill: var(--disabled-fill-color);\n",
              "    box-shadow: none;\n",
              "  }\n",
              "\n",
              "  .colab-df-spinner {\n",
              "    border: 2px solid var(--fill-color);\n",
              "    border-color: transparent;\n",
              "    border-bottom-color: var(--fill-color);\n",
              "    animation:\n",
              "      spin 1s steps(1) infinite;\n",
              "  }\n",
              "\n",
              "  @keyframes spin {\n",
              "    0% {\n",
              "      border-color: transparent;\n",
              "      border-bottom-color: var(--fill-color);\n",
              "      border-left-color: var(--fill-color);\n",
              "    }\n",
              "    20% {\n",
              "      border-color: transparent;\n",
              "      border-left-color: var(--fill-color);\n",
              "      border-top-color: var(--fill-color);\n",
              "    }\n",
              "    30% {\n",
              "      border-color: transparent;\n",
              "      border-left-color: var(--fill-color);\n",
              "      border-top-color: var(--fill-color);\n",
              "      border-right-color: var(--fill-color);\n",
              "    }\n",
              "    40% {\n",
              "      border-color: transparent;\n",
              "      border-right-color: var(--fill-color);\n",
              "      border-top-color: var(--fill-color);\n",
              "    }\n",
              "    60% {\n",
              "      border-color: transparent;\n",
              "      border-right-color: var(--fill-color);\n",
              "    }\n",
              "    80% {\n",
              "      border-color: transparent;\n",
              "      border-right-color: var(--fill-color);\n",
              "      border-bottom-color: var(--fill-color);\n",
              "    }\n",
              "    90% {\n",
              "      border-color: transparent;\n",
              "      border-bottom-color: var(--fill-color);\n",
              "    }\n",
              "  }\n",
              "</style>\n",
              "\n",
              "      <script>\n",
              "        async function quickchart(key) {\n",
              "          const quickchartButtonEl =\n",
              "            document.querySelector('#' + key + ' button');\n",
              "          quickchartButtonEl.disabled = true;  // To prevent multiple clicks.\n",
              "          quickchartButtonEl.classList.add('colab-df-spinner');\n",
              "          try {\n",
              "            const charts = await google.colab.kernel.invokeFunction(\n",
              "                'suggestCharts', [key], {});\n",
              "          } catch (error) {\n",
              "            console.error('Error during call to suggestCharts:', error);\n",
              "          }\n",
              "          quickchartButtonEl.classList.remove('colab-df-spinner');\n",
              "          quickchartButtonEl.classList.add('colab-df-quickchart-complete');\n",
              "        }\n",
              "        (() => {\n",
              "          let quickchartButtonEl =\n",
              "            document.querySelector('#df-3187c43c-4c85-4b29-95ec-8ec40d3bb5f9 button');\n",
              "          quickchartButtonEl.style.display =\n",
              "            google.colab.kernel.accessAllowed ? 'block' : 'none';\n",
              "        })();\n",
              "      </script>\n",
              "    </div>\n",
              "\n",
              "    </div>\n",
              "  </div>\n"
            ],
            "application/vnd.google.colaboratory.intrinsic+json": {
              "type": "dataframe",
              "variable_name": "df2",
              "summary": "{\n  \"name\": \"df2\",\n  \"rows\": 53,\n  \"fields\": [\n    {\n      \"column\": \"ID\",\n      \"properties\": {\n        \"dtype\": \"number\",\n        \"std\": 15,\n        \"min\": 1,\n        \"max\": 53,\n        \"num_unique_values\": 53,\n        \"samples\": [\n          20,\n          42,\n          48\n        ],\n        \"semantic_type\": \"\",\n        \"description\": \"\"\n      }\n    },\n    {\n      \"column\": \"sales\",\n      \"properties\": {\n        \"dtype\": \"number\",\n        \"std\": 1.0095695960312836,\n        \"min\": -1.4474385960466725,\n        \"max\": 4.356099094437512,\n        \"num_unique_values\": 49,\n        \"samples\": [\n          0.023737916401241576,\n          0.4194336680251633,\n          -0.6357550029719613\n        ],\n        \"semantic_type\": \"\",\n        \"description\": \"\"\n      }\n    },\n    {\n      \"column\": \"insta_post\",\n      \"properties\": {\n        \"dtype\": \"number\",\n        \"std\": 1.0095695960312832,\n        \"min\": -0.3227486121839514,\n        \"max\": 3.098386676965933,\n        \"num_unique_values\": 2,\n        \"samples\": [\n          3.098386676965933,\n          -0.3227486121839514\n        ],\n        \"semantic_type\": \"\",\n        \"description\": \"\"\n      }\n    },\n    {\n      \"column\": \"insta_good\",\n      \"properties\": {\n        \"dtype\": \"number\",\n        \"std\": 1.0095695960312838,\n        \"min\": -1.0996993663998489,\n        \"max\": 3.1501804766662342,\n        \"num_unique_values\": 35,\n        \"samples\": [\n          -0.49257367453326567,\n          -0.4058414328380395\n        ],\n        \"semantic_type\": \"\",\n        \"description\": \"\"\n      }\n    },\n    {\n      \"column\": \"flyer\",\n      \"properties\": {\n        \"dtype\": \"number\",\n        \"std\": 1.0095695960312838,\n        \"min\": -0.5117663157191591,\n        \"max\": 1.9540168418367894,\n        \"num_unique_values\": 2,\n        \"samples\": [\n          1.9540168418367894,\n          -0.5117663157191591\n        ],\n        \"semantic_type\": \"\",\n        \"description\": \"\"\n      }\n    },\n    {\n      \"column\": \"event\",\n      \"properties\": {\n        \"dtype\": \"number\",\n        \"std\": 1.0095695960312836,\n        \"min\": -0.13867504905630734,\n        \"max\": 7.211102550927983,\n        \"num_unique_values\": 2,\n        \"samples\": [\n          7.211102550927983,\n          -0.13867504905630734\n        ],\n        \"semantic_type\": \"\",\n        \"description\": \"\"\n      }\n    },\n    {\n      \"column\": \"new_item\",\n      \"properties\": {\n        \"dtype\": \"number\",\n        \"std\": 1.0095695960312838,\n        \"min\": -0.19802950859533489,\n        \"max\": 5.04975246918104,\n        \"num_unique_values\": 2,\n        \"samples\": [\n          5.04975246918104,\n          -0.19802950859533489\n        ],\n        \"semantic_type\": \"\",\n        \"description\": \"\"\n      }\n    },\n    {\n      \"column\": \"holiday\",\n      \"properties\": {\n        \"dtype\": \"number\",\n        \"std\": 1.0095695960312838,\n        \"min\": -0.657595949221429,\n        \"max\": 1.5206906325745548,\n        \"num_unique_values\": 2,\n        \"samples\": [\n          1.5206906325745548,\n          -0.657595949221429\n        ],\n        \"semantic_type\": \"\",\n        \"description\": \"\"\n      }\n    }\n  ]\n}"
            }
          },
          "metadata": {},
          "execution_count": 9
        }
      ],
      "source": [
        "# データフレームの各列を標準化\n",
        "df2 = df.apply(lambda x: (x - np.mean(x)) / np.std(x))\n",
        "df2.head()"
      ]
    },
    {
      "cell_type": "code",
      "execution_count": 10,
      "metadata": {
        "id": "yoorcsthaKQU"
      },
      "outputs": [],
      "source": [
        "# 説明変数\n",
        "X = df2.iloc[:, 1:7].values\n",
        "\n",
        "# 目的変数\n",
        "Y = df2.iloc[:, 0].values"
      ]
    },
    {
      "cell_type": "code",
      "source": [
        "# sklearn.linear_model.LinearRegression クラスを読み込み\n",
        "from sklearn import linear_model\n",
        "clf = linear_model.LinearRegression()\n",
        "\n",
        "# 予測モデルを作成\n",
        "clf.fit(X, Y)\n",
        "\n",
        "# 標準化偏回帰係数\n",
        "df2_except_sales = df2.iloc[:, 1:7]\n",
        "print(pd.DataFrame({\"Name\":df2_except_sales.columns,\n",
        "                    \"Coefficients\":clf.coef_}))\n",
        "\n",
        "# 切片\n",
        "print(clf.intercept_)"
      ],
      "metadata": {
        "colab": {
          "base_uri": "https://localhost:8080/"
        },
        "id": "XFvjXRbdXqI5",
        "outputId": "21f24981-c070-4a94-e319-1990760dd99a"
      },
      "execution_count": 11,
      "outputs": [
        {
          "output_type": "stream",
          "name": "stdout",
          "text": [
            "         Name  Coefficients\n",
            "0  insta_post      0.144937\n",
            "1  insta_good      0.240394\n",
            "2       flyer      0.424020\n",
            "3       event      0.338815\n",
            "4    new_item     -0.075220\n",
            "5     holiday      0.123663\n",
            "2.5844842985983608e-17\n"
          ]
        }
      ]
    },
    {
      "cell_type": "markdown",
      "metadata": {
        "id": "gV9VP5KVaKQU"
      },
      "source": [
        "↑標準化後の各変数の偏回帰係数と重回帰の式の切片が分かりました。\n",
        "\n",
        "↓**標準化偏回帰係数の絶対値**によって、売上個数への**各変数の相対的な影響の強さ**を確認することができます。"
      ]
    },
    {
      "cell_type": "code",
      "execution_count": 12,
      "metadata": {
        "colab": {
          "base_uri": "https://localhost:8080/"
        },
        "id": "md_am7mlaKQU",
        "outputId": "ae5cd1fc-33ac-4ff5-dbc0-dfe8fd594abf"
      },
      "outputs": [
        {
          "output_type": "stream",
          "name": "stdout",
          "text": [
            "         Name  Coefficients\n",
            "4    new_item      0.075220\n",
            "5     holiday      0.123663\n",
            "0  insta_post      0.144937\n",
            "1  insta_good      0.240394\n",
            "3       event      0.338815\n",
            "2       flyer      0.424020\n",
            "2.5844842985983608e-17\n"
          ]
        }
      ],
      "source": [
        "# 標準化偏回帰係数の絶対値をとって昇順にソート\n",
        "df2_except_sales = df2.iloc[:, 1:7]\n",
        "print(pd.DataFrame({\"Name\":df2_except_sales.columns,\n",
        "                    \"Coefficients\":np.abs(clf.coef_)}).sort_values(by='Coefficients'))\n",
        "\n",
        "# 切片\n",
        "print(clf.intercept_)"
      ]
    },
    {
      "cell_type": "markdown",
      "metadata": {
        "id": "ev3WMnu_aKQV"
      },
      "source": [
        "### 学習用データとテストデータ"
      ]
    },
    {
      "cell_type": "markdown",
      "metadata": {
        "id": "Tc0AzAe1aKQV"
      },
      "source": [
        "学習用データとテストデータを用いて、線形回帰（重回帰分析）を行います。  \n",
        "先程、標準化したデータを使います。"
      ]
    },
    {
      "cell_type": "code",
      "execution_count": 13,
      "metadata": {
        "id": "cgsoRey6aKQV"
      },
      "outputs": [],
      "source": [
        "# 説明変数\n",
        "X = df2.iloc[:, 1:7].values\n",
        "\n",
        "# 目的変数\n",
        "Y = df2.iloc[:, 0].values\n",
        "\n",
        "# 学習用データとテスト用データを7:3に分割する；ランダム性あり\n",
        "from sklearn.model_selection import train_test_split\n",
        "X_train, X_test, Y_train, Y_test = train_test_split(X, Y, test_size=0.3)"
      ]
    },
    {
      "cell_type": "code",
      "execution_count": 14,
      "metadata": {
        "colab": {
          "base_uri": "https://localhost:8080/"
        },
        "id": "KzDrynifaKQV",
        "outputId": "6785bc05-8778-4e79-8f46-15ea97ad63ae"
      },
      "outputs": [
        {
          "output_type": "stream",
          "name": "stdout",
          "text": [
            "         Name  Coefficients\n",
            "5     holiday      0.035639\n",
            "4    new_item      0.043985\n",
            "0  insta_post      0.153318\n",
            "3       event      0.267777\n",
            "1  insta_good      0.317046\n",
            "2       flyer      0.486942\n",
            "0.10532119067770214\n"
          ]
        }
      ],
      "source": [
        "# 予測モデルを作成\n",
        "model = linear_model.LinearRegression()\n",
        "model.fit(X_train, Y_train)\n",
        "\n",
        "# 標準化偏回帰係数\n",
        "df2_except_sales = df2.iloc[:, 1:7]\n",
        "print(pd.DataFrame({\"Name\":df2_except_sales.columns,\n",
        "                    \"Coefficients\":model.coef_}).sort_values(by='Coefficients') )\n",
        "\n",
        "# 切片\n",
        "print(model.intercept_)"
      ]
    },
    {
      "cell_type": "markdown",
      "metadata": {
        "id": "sGEacpcdaKQW"
      },
      "source": [
        "学習データにおける各変数の標準化偏回帰係数と重回帰の式の切片が分かりました。  "
      ]
    },
    {
      "cell_type": "markdown",
      "metadata": {
        "id": "ZO4cXxcObLx1"
      },
      "source": [
        "### 平均二乗誤差\n",
        "訓練データとテストデータのそれぞれに対して、予測値と実測値の平均二乗誤差を求めます。**データの分割時にランダム性があるため、分割をやり直し、その分割で改めて学習すると、そのたびに平均二乗誤差が変化します。**"
      ]
    },
    {
      "cell_type": "code",
      "execution_count": 15,
      "metadata": {
        "colab": {
          "base_uri": "https://localhost:8080/"
        },
        "id": "y4oGd1QEaKQW",
        "outputId": "e13d9aca-dd09-4916-fbc7-f265cd9ac1f1"
      },
      "outputs": [
        {
          "output_type": "stream",
          "name": "stdout",
          "text": [
            "訓練データに対する平均二乗誤差＝0.26\n",
            "テストデータに対する平均二乗誤差＝0.79\n"
          ]
        }
      ],
      "source": [
        "pred_train = model.predict(X_train)\n",
        "pred_test = model.predict(X_test)\n",
        "\n",
        "print('訓練データに対する平均二乗誤差＝{:0.2f}'.format(np.mean((np.array(Y_train, dtype = int) - pred_train) ** 2)))\n",
        "print('テストデータに対する平均二乗誤差＝{:0.2f}'.format(np.mean((np.array(Y_test, dtype = int) - pred_test) ** 2)))"
      ]
    },
    {
      "cell_type": "markdown",
      "source": [
        "### 残差プロット\n",
        "また、残差プロット（横軸に予測値、縦軸に実際の値との差をプロットしたもの）をプロットします。\n",
        "残差プロットは、y=0の水平線に近いほど、良い精度のデータといえます"
      ],
      "metadata": {
        "id": "mYiqUzoBVnKy"
      }
    },
    {
      "cell_type": "code",
      "execution_count": 16,
      "metadata": {
        "id": "EmgFifosaKQZ",
        "outputId": "e1480005-3c16-4b68-be24-b099ed8b49cb",
        "colab": {
          "base_uri": "https://localhost:8080/",
          "height": 470
        }
      },
      "outputs": [
        {
          "output_type": "execute_result",
          "data": {
            "text/plain": [
              "Text(0.5, 1.0, 'Residual Plots')"
            ]
          },
          "metadata": {},
          "execution_count": 16
        },
        {
          "output_type": "display_data",
          "data": {
            "text/plain": [
              "<Figure size 640x480 with 1 Axes>"
            ],
            "image/png": "[encoded data removed]"
          },
          "metadata": {}
        }
      ],
      "source": [
        "# 学習用データの残差プロット\n",
        "train = plt.scatter(pred_train,(pred_train-Y_train),c='b',alpha=0.5)\n",
        "\n",
        "# テスト用データの残差プロット\n",
        "test = plt.scatter(pred_test,(pred_test-Y_test),c='r',alpha=0.5)\n",
        "\n",
        "# y=0の水平線\n",
        "plt.hlines(y=0,xmin=-8,xmax=8)\n",
        "\n",
        "plt.legend((train,test),('Training','Test'),loc='lower left')\n",
        "plt.title('Residual Plots')"
      ]
    },
    {
      "cell_type": "markdown",
      "source": [
        "### P値を求める\n",
        "sklearn.linear_model.LinearRegressionでは各説明変数のp値が求められないので、statsmodelsを使って重回帰分析をします。ここでは先ほど作成した訓練データを用います。"
      ],
      "metadata": {
        "id": "tUptdy2mVKVw"
      }
    },
    {
      "cell_type": "code",
      "source": [
        "import statsmodels.api as sm\n",
        "\n",
        "# データをロード\n",
        "X_train_c = sm.add_constant(X_train)  # 定数項（切片）を追加\n",
        "\n",
        "# OLSモデルの構築とフィット\n",
        "ols_model = sm.OLS(Y_train, X_train_c)\n",
        "results = ols_model.fit()\n",
        "\n",
        "# 結果の要約を出力\n",
        "print(results.summary())"
      ],
      "metadata": {
        "colab": {
          "base_uri": "https://localhost:8080/"
        },
        "id": "xL2JXUovVnVa",
        "outputId": "6ee3258c-a84e-41b3-c128-d00452a26e44"
      },
      "execution_count": 17,
      "outputs": [
        {
          "output_type": "stream",
          "name": "stdout",
          "text": [
            "                            OLS Regression Results                            \n",
            "==============================================================================\n",
            "Dep. Variable:                      y   R-squared:                       0.823\n",
            "Model:                            OLS   Adj. R-squared:                  0.795\n",
            "Method:                 Least Squares   F-statistic:                     28.88\n",
            "Date:                Tue, 03 Jun 2025   Prob (F-statistic):           8.48e-11\n",
            "Time:                        16:17:09   Log-Likelihood:                -23.732\n",
            "No. Observations:                  37   AIC:                             59.46\n",
            "Df Residuals:                      31   BIC:                             69.13\n",
            "Df Model:                           5                                         \n",
            "Covariance Type:            nonrobust                                         \n",
            "==============================================================================\n",
            "                 coef    std err          t      P>|t|      [0.025      0.975]\n",
            "------------------------------------------------------------------------------\n",
            "const          0.1043      0.083      1.253      0.219      -0.065       0.274\n",
            "x1             0.1451      0.082      1.778      0.085      -0.021       0.312\n",
            "x2             0.3170      0.171      1.851      0.074      -0.032       0.666\n",
            "x3             0.4869      0.118      4.120      0.000       0.246       0.728\n",
            "x4             0.2716      0.078      3.476      0.002       0.112       0.431\n",
            "x5             0.0493      0.103      0.477      0.637      -0.162       0.260\n",
            "x6             0.0356      0.106      0.336      0.739      -0.181       0.252\n",
            "==============================================================================\n",
            "Omnibus:                        4.264   Durbin-Watson:                   1.769\n",
            "Prob(Omnibus):                  0.119   Jarque-Bera (JB):                2.887\n",
            "Skew:                           0.593   Prob(JB):                        0.236\n",
            "Kurtosis:                       3.683   Cond. No.                     1.12e+16\n",
            "==============================================================================\n",
            "\n",
            "Notes:\n",
            "[1] Standard Errors assume that the covariance matrix of the errors is correctly specified.\n",
            "[2] The smallest eigenvalue is 8.05e-31. This might indicate that there are\n",
            "strong multicollinearity problems or that the design matrix is singular.\n"
          ]
        }
      ]
    },
    {
      "cell_type": "markdown",
      "source": [
        "### 主な結果の見方\n",
        "*  **R-squared（決定係数）**は目的変数の変動の何％を説明変数全体が説明できているかを示す。大きい方がよい。\n",
        "*  **Adj. R-squared（自由度調整済み決定係数）**\n",
        "*  **Prob (F-statistic)（有意F）**は「重回帰式のすべての偏回帰係数が0」の検定のP値であり、重回帰式全体の有意性を示す。値が小さいほうが重回帰式の当てはまりがよいことを示す。\n",
        "*  **coef（偏回帰係数の値）**偏回帰係数は、”その説明変数の値が1増えた時に目的変数がどれくらい増える(または減る)か”を表しています。\n",
        "つまり偏回帰係数が5である変数の場合、その変数が1増えれば目的変数が5増えるという意味になります。\\\n",
        "また他の変数と比較してどの説明変数が目的変数に影響を与えているのか知りたい場合は、データを事前に標準化してから回帰分析を実行します。データを標準化することで変数間の尺度がそろうため、説明変数同士の比較が可能となります。標準化されたデータの偏回帰係数のことを**標準化偏回帰係数**と呼び、通常の偏回帰係数と区別します。**標準化偏回帰係数の絶対値**が大きければ大きいほど目的変数への影響が強いと解釈します。例えば、変数Aと変数Bの標準化偏回帰係数がそれぞれ0.5と-0.6であった場合、”変数Bの方が目的変数に強く影響しており、変数Bが増えれば増えるほど目的変数は減少する”と解釈します。\\\n",
        "まとめると、偏回帰係数はその説明変数が目的変数にどれくらい影響するか、標準化偏回帰係数はその説明変数が他の変数と比べてどれくらい目的変数に影響するかを意味します。偏回帰係数と標準化偏回帰係数は解釈の仕方が変わってくるため、結果を見る時は注意しましょう。\n",
        "*  **P(>|t|)（P値）**は、ある説明変数が目的変数に影響しているかどうかを示す。各偏回帰係数の統計的有意性を示す検定（帰無仮説：偏回帰係数βⱼ=0）のP値である。ここでのP値は、偏回帰係数が本当は0なのに、サンプルから計算した偏回帰係数が計算結果以上に0から隔たってしまう確率のこと。この確率が小さい場合、すなわち、偶然そういう結果が出ることは極めてまれであると言える場合は、前提とした仮説が誤っていたと言える。つまり、P値が有意水準（たとえば0.05）を下回っている変数は目的変数に影響している（偏回帰係数は0ではない）と言える。P値が有意水準以上の変数は「目的変数に影響しているとは言い切れない」と解釈。P値が有意水準以上の変数を説明変数から除くというのはモデル選択法の1つ。\n",
        "*  **[0.025      0.975]（95%信頼区間）**"
      ],
      "metadata": {
        "id": "qQe62N0gpcwO"
      }
    },
    {
      "cell_type": "markdown",
      "source": [
        "**P値**についての解説は、たとえば、[ここ](https://www.nri.com/jp/knowledge/glossary/lst/alphabet/p_value)を参照\n"
      ],
      "metadata": {
        "id": "oXQ4a62t6VvM"
      }
    },
    {
      "cell_type": "markdown",
      "source": [
        "## 演習問題\n"
      ],
      "metadata": {
        "id": "TN3cX2COD6Hx"
      }
    },
    {
      "cell_type": "markdown",
      "source": [
        "### 問題１\n",
        "A) 53個のデータ全てを用い、標準化された全ての説明変数を用いて重回帰分析した場合の、自由度調整済み決定係数と標準化偏回帰係数と各説明変数のP値を求めなさい。\\\n",
        "B) 5%有意水準以上のP値となった説明変数を挙げなさい。\\\n",
        "C) B)の説明変数を除き、53個のデータ全てを用い、重回帰分析した場合の、自由度調整済み決定係数と標準化偏回帰係数と各説明変数のP値を求めなさい。"
      ],
      "metadata": {
        "id": "d41jku7YFAcA"
      }
    },
    {
      "cell_type": "code",
      "source": [
        "# A)\n"
      ],
      "metadata": {
        "id": "boXY6vYFLzXV"
      },
      "execution_count": null,
      "outputs": []
    },
    {
      "cell_type": "markdown",
      "source": [
        "sklearn.linear_model.LinearRegressionでの結果（下記にコピー）と同じかの確認用\\\n",
        "（ここにコピー）"
      ],
      "metadata": {
        "id": "Iax6C-OETYSg"
      }
    },
    {
      "cell_type": "markdown",
      "source": [],
      "metadata": {
        "id": "BDLfacuWKTn4"
      }
    },
    {
      "cell_type": "markdown",
      "source": [
        "B)"
      ],
      "metadata": {
        "id": "WsDXubGRL_WC"
      }
    },
    {
      "cell_type": "code",
      "source": [
        "# C)\n"
      ],
      "metadata": {
        "id": "ep1C088kL8ef"
      },
      "execution_count": null,
      "outputs": []
    },
    {
      "cell_type": "markdown",
      "source": [
        "### 問題２\n",
        "学習用データとテスト用データを1:1で分割し、学習用データだけを用いて、問題１のA), B), C)を再実行しなさい。"
      ],
      "metadata": {
        "id": "4AZL-cxrHNs-"
      }
    },
    {
      "cell_type": "code",
      "source": [
        "# A)\n"
      ],
      "metadata": {
        "id": "sNZQTouEL0ZM"
      },
      "execution_count": null,
      "outputs": []
    },
    {
      "cell_type": "markdown",
      "source": [
        "B)"
      ],
      "metadata": {
        "id": "49p4nj8vMYcP"
      }
    },
    {
      "cell_type": "code",
      "source": [
        "# C)\n"
      ],
      "metadata": {
        "id": "OmvMIgmUMbcN"
      },
      "execution_count": null,
      "outputs": []
    },
    {
      "cell_type": "markdown",
      "source": [
        "### 問題３\n",
        "学習用データをもっと減らした場合にどうなるかを実験し、学習データ数が、自由度調整済み決定係数や標準化偏回帰係数や各説明変数のP値に与える影響について考察しなさい。\n",
        "* 学習用データ数をどれくらいに減らして実験すると、考察に役立つでしょうか？また、何通りくらいの数で実験するとよいでしょうか？これらのことも考えながら実験を設計しましょう。\n",
        "* 学習用データ数をより減らすと、（ランダムに選んで減らす訳ですが、）そこでたまたま選ばれたデータがどのようなものであったかの影響をより強く受けるようになると想像されます。この点も考慮して実験するとよいでしょう。\n",
        "* 実験結果はグラフで表示すると分かりやすいです。どのようなグラフを書くとよいかも考えましょう。AI (Gemini)に相談するとグラフの書き方、そのためのプログラムの書き方も教えてもらえると思います。"
      ],
      "metadata": {
        "id": "GeLF3-su5caV"
      }
    },
    {
      "cell_type": "code",
      "source": [],
      "metadata": {
        "id": "VUTyV_-16mqQ"
      },
      "execution_count": null,
      "outputs": []
    },
    {
      "cell_type": "markdown",
      "source": [],
      "metadata": {
        "id": "zNIp6Qj36pkg"
      }
    }
  ],
  "metadata": {
    "colab": {
      "provenance": [],
      "include_colab_link": true
    },
    "kernelspec": {
      "display_name": "Python 3",
      "language": "python",
      "name": "python3"
    },
    "language_info": {
      "codemirror_mode": {
        "name": "ipython",
        "version": 3
      },
      "file_extension": ".py",
      "mimetype": "text/x-python",
      "name": "python",
      "nbconvert_exporter": "python",
      "pygments_lexer": "ipython3",
      "version": "3.7.4"
    }
  },
  "nbformat": 4,
  "nbformat_minor": 0
}