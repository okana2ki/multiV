{
  "nbformat": 4,
  "nbformat_minor": 0,
  "metadata": {
    "colab": {
      "provenance": [],
      "include_colab_link": true
    },
    "kernelspec": {
      "name": "python3",
      "display_name": "Python 3"
    },
    "language_info": {
      "name": "python"
    }
  },
  "cells": [
    {
      "cell_type": "markdown",
      "metadata": {
        "id": "view-in-github",
        "colab_type": "text"
      },
      "source": [
        "<a href=\"https://colab.research.google.com/github/okana2ki/multiV/blob/main/Colab_intro_ipynb_%E3%81%AE%E3%82%B3%E3%83%94%E3%83%BC.ipynb\" target=\"_parent\"><img src=\"https://colab.research.google.com/assets/colab-badge.svg\" alt=\"Open In Colab\"/></a>"
      ]
    },
    {
      "cell_type": "markdown",
      "source": [
        "Colabで開いたら、まず、↑上部の**「ドライブにコピー」をクリック**して下さい。Googleドライブの [マイドライブ > Colab Notebooks] に保存され、その後加えた変更がそこに自動保存されるようになります。"
      ],
      "metadata": {
        "id": "IaX9Oo3Bkheq"
      }
    },
    {
      "cell_type": "markdown",
      "source": [
        "# Google Colabの使い方\n",
        "[ここ](https://colab.research.google.com/notebooks/intro.ipynb?hl=ja)や[ここ](https://colab.research.google.com/corgiredirector?site=https%3A%2F%2Ftutorials.chainer.org%2Fja%2F01_Welcome_to_Chainer_Tutorial.html)を参照。"
      ],
      "metadata": {
        "id": "Bt1yYgAq3X7n"
      }
    },
    {
      "cell_type": "markdown",
      "source": [
        "# Colab AIの使い方\n",
        "期間限定（2024年は使えるようです）ですが、無料版のGoogle Colabでも、Colab AIが使えて便利です。2024年4月9日時点では、Google Workspace for Educationのアカウント**（大学で提供されているGoogleアカウント）には対応していません**（近日中に対応できるよう取り組んでいるとのこと）。**個人のアカウント（18歳以上）で試して下さい**。Pythonに対応しています。\n",
        "\n",
        "Colab AIの使い方は以下の通り（下記の1.から3.が表示されない場合は、使用アカウントがColab AIに対応していないと思われます。個人アカウントに切り替えて下さい）：\n",
        "\n",
        "1. 新しくコードセルを作成すると「コーディングを開始するか、AIで生成します。」と表示され、この「生成」のところをクリックして、生成して欲しいプログラムを言葉で指示できます。生成の前候補、次候補は、「<」「 >」で表示できます。\n",
        "\n",
        "2. 実行エラーが出た場合に表示される「Fix error」ボタンを押すと修正案が提示されます。「Explain error」ボタンを押すとエラーが説明されます。\n",
        "\n",
        "3. 画面右上の「Colab AI」をクリックすると対話ウインドウが開くので、「これこれのプログラムを書いて」と頼んだり、プログラムについて質問したり、エラーメッセージをコピペして説明してもらったりできます。英語で応答が返ってきたときは、「日本語にして」などと依頼すると日本語で説明してくれます。\n",
        "\n",
        "4. 「ツール」-「設定」-「ColabAI」で生成AI機能を使うかどうかを選択できます。\n"
      ],
      "metadata": {
        "id": "ulhkLyWglsd1"
      }
    },
    {
      "cell_type": "markdown",
      "source": [
        "#最初の練習：電卓代わり\n",
        "\n",
        "* このセルはテキストセルで、文章を書く場所です。このセル内でダブルクリックすると左側のカラムで書き換えができるようになります。\n",
        "* 下記のセルはプログラムセルで、プログラムを書く場所です。簡単なPythonプログラムが記入してあります。セル内でクリックするとカーソルが現れ書き換えられるようになります。自由に書き換えてみて下さい。\n",
        "* プログラムセル左端の再生ボタン（カーソルをセル上に置くと現れます）を押すとプログラムが実行されます。各セルを実行してみましょう。"
      ],
      "metadata": {
        "id": "qCxrBvNyBlxG"
      }
    },
    {
      "cell_type": "code",
      "execution_count": null,
      "metadata": {
        "id": "g9AwnBl3Bht5"
      },
      "outputs": [],
      "source": [
        "1 / 3"
      ]
    },
    {
      "cell_type": "code",
      "source": [
        "2 * (7 - 3)"
      ],
      "metadata": {
        "id": "jAuYQJENDQTN"
      },
      "execution_count": null,
      "outputs": []
    },
    {
      "cell_type": "code",
      "source": [
        "2 ** 4  #2の4乗"
      ],
      "metadata": {
        "id": "5RnUvJFZ6845"
      },
      "execution_count": null,
      "outputs": []
    },
    {
      "cell_type": "code",
      "source": [
        "a = 24\n",
        "b = 8\n",
        "print(a + b, a / b)"
      ],
      "metadata": {
        "id": "lJzpUxlA7evS"
      },
      "execution_count": null,
      "outputs": []
    },
    {
      "cell_type": "markdown",
      "source": [
        "* 画面右上の「Colab AI」ボタンを押し、現れたカラムの下部の「ここにメッセージを入力」のところに、上記の3行のプログラムをカットアンドペーストする（コピペする）と、このプログラムを初心者向けに丁寧に解説してくれます。\n",
        "* 応答が英語だった場合は、「日本語にして」などと入力すると、日本語に直してくれます。\n",
        "* 解説中に分からない点があったら、それについて質問してみましょう。例：「変数って何ですか？」「デフォルトって何？」「浮動小数点？」\n",
        "「代入について小学生でも分かるように教えて」\n",
        "* 初歩的なことを繰り返し繰り返し尋ねても、AIは根気よく教えてくれます。\n",
        "* こうやって**分かるまで繰り返し質問**することで、あなたの理解が深まります。これは、**生成AIならではの新しい勉強法**です。今まで初歩的なことでつまずいて恥ずかしくて、または、先生に遠慮して質問できずあきらめていた人でも、**一から勉強をやり直すことができます**。\n",
        "\n",
        "算数も教えてもらえる？\n",
        "\n",
        "* Colab AIは、Pythonプログラムについてのチャットに特化されたAIですが、算数の問題の解説もプログラムを交えてしてくれる場合があります。算数や初歩の数学でつまずいている人は、生成AIでの勉強を試してみる価値があると思います。Colab AIが答えてくれない場合は、GPT-4を使うとよいのですが、有料のサブスクリプションが必要です。無料のChatGPTは、適切に教えてもらえない可能性が高くなります。GPT-4相当と言われる無料のMicrosoft Copilotを試すとよいかもしれません。\n",
        "* Colab AIに「1/2と1/3のどちらが大きいかを小学生に分かるように説明して」と入力してみましょう。\n",
        "\n"
      ],
      "metadata": {
        "id": "Saa8nSONGyRP"
      }
    },
    {
      "cell_type": "code",
      "source": [
        "a = 2.4\n",
        "b = 0.8\n",
        "print(a + b, a / b)"
      ],
      "metadata": {
        "id": "s0GSHf8e-684"
      },
      "execution_count": null,
      "outputs": []
    },
    {
      "cell_type": "markdown",
      "source": [
        "↑小数点以下を含む数を計算機で表現する（有限桁の2進数で表現する）と多くの場合、誤差（丸め誤差）を含むため、計算結果が上記のように誤差を含むことがあります。← Colab AIで理由を尋ねても同様のことを教えてくれます。"
      ],
      "metadata": {
        "id": "EAqt5nJb_HN9"
      }
    },
    {
      "cell_type": "code",
      "source": [],
      "metadata": {
        "id": "Se1vYMTFRUdt"
      },
      "execution_count": null,
      "outputs": []
    },
    {
      "cell_type": "markdown",
      "source": [
        "##演習問題\n",
        "以下のプログラムを実行して、エラーメッセージが出ることを確認しましょう。\n",
        "\n",
        "エラーが出ると、Explain error（エラーを説明）ボタンやFix error（エラーを直す）ボタンが現れるのでそれを押してみましょう。"
      ],
      "metadata": {
        "id": "1lgo3DppoSiL"
      }
    },
    {
      "cell_type": "code",
      "source": [
        "5 / 0"
      ],
      "metadata": {
        "id": "XpljvNLBnwqb"
      },
      "execution_count": null,
      "outputs": []
    },
    {
      "cell_type": "markdown",
      "source": [
        "このエラーに対してColab AIが提案してきたコードの一例は以下："
      ],
      "metadata": {
        "id": "yqEBAvFPn3jm"
      }
    },
    {
      "source": [
        "denominator = 0\n",
        "if denominator == 0:\n",
        "    print(\"Division by zero is not allowed.\")\n",
        "else:\n",
        "    result = 5 / denominator"
      ],
      "cell_type": "code",
      "metadata": {
        "id": "5cYNyghP_Zft"
      },
      "execution_count": null,
      "outputs": []
    },
    {
      "cell_type": "markdown",
      "source": [
        "提案コード中のメッセージが英語だったので、新しいコードセルを作って、アンダーラインの付いた「生成」をクリックし、「printされる文を日本語にして」と入力し、「生成」ボタンを押した結果の出力の一例が下記："
      ],
      "metadata": {
        "id": "F1-_awOEjBPS"
      }
    },
    {
      "cell_type": "code",
      "source": [
        "# prompt: printされる文を日本語にして\n",
        "\n",
        "print('ゼロ除算は許可されていません')\n"
      ],
      "metadata": {
        "id": "hpKLwa536k8H"
      },
      "execution_count": null,
      "outputs": []
    },
    {
      "cell_type": "code",
      "source": [
        "３＋６\n",
        "# プログラム内のコメントや文字列以外の箇所に全角文字があると、Colabでは上のように、四角で囲んでマークされるので気づくことができる"
      ],
      "metadata": {
        "id": "yfYCWaB_4ypF"
      },
      "execution_count": null,
      "outputs": []
    },
    {
      "cell_type": "code",
      "source": [
        "4 x 8"
      ],
      "metadata": {
        "id": "nmSeux5bAQXy"
      },
      "execution_count": null,
      "outputs": []
    },
    {
      "cell_type": "markdown",
      "source": [
        "→メッセージが英語なのでチンプンカンプン→[DeepL](https://www.deepl.com/ja/translator)にお任せ！→さらに、[アプリ](https://www.deepl.com/ja/app/)をインストールしておくと、Ctrl-C Ctrl-Cで翻訳できて便利"
      ],
      "metadata": {
        "id": "bHB6D6iiyDmL"
      }
    },
    {
      "cell_type": "code",
      "source": [],
      "metadata": {
        "id": "rX_PfsIjA1vA"
      },
      "execution_count": null,
      "outputs": []
    },
    {
      "cell_type": "markdown",
      "source": [
        "#ライブラリーのインポート"
      ],
      "metadata": {
        "id": "itPN5TwKG-FY"
      }
    },
    {
      "cell_type": "code",
      "source": [
        "import numpy as np\n",
        "import pandas as pd\n",
        "import matplotlib.pylab as plt"
      ],
      "metadata": {
        "id": "QOmFRvEwHJfB"
      },
      "execution_count": null,
      "outputs": []
    },
    {
      "cell_type": "markdown",
      "source": [
        "↑これは何のおまじないなのでしょう？\n",
        "* 疑問に思ったことは、Colab AIのチャットで尋ねる癖をつけて下さい。**プログラムをコピペしてチャット欄に貼り付けるだけ**です。\n",
        "* この勉強法は、これからプログラムやデータ分析を学ぶあなたの大きな力になることでしょう。\n"
      ],
      "metadata": {
        "id": "2ozRF6yyDIIJ"
      }
    },
    {
      "cell_type": "markdown",
      "source": [
        "#ヒストグラム：データ分析や機械学習の1ステップとして欠かせない可視化の一例として"
      ],
      "metadata": {
        "id": "w7nis6BUDrBj"
      }
    },
    {
      "cell_type": "code",
      "source": [
        "# 乱数のシードをセット\n",
        "np.random.seed(1)\n",
        "# 平均 50, 標準偏差 10 の正規乱数を100個生成してpandasの1次元配列xに入れる\n",
        "x = pd.Series(np.random.normal(50, 10, 100))\n",
        "print(x)\n",
        "# ヒストグラムを描画；ビンの数20\n",
        "plt.hist(x, bins=20, range=(0, 100))"
      ],
      "metadata": {
        "id": "WuavF-bKD7XC"
      },
      "execution_count": null,
      "outputs": []
    },
    {
      "cell_type": "markdown",
      "source": [
        "↑このプログラムについても分からないことをColab AIで必ず尋ねて下さい\n",
        "\n",
        "* 「NameError: name 'np' is not defined」というエラーが出た場合は、「Explain error」ボタンを押すなどして、どのようなエラーで、何が原因かを理解し、解決してみて下さい。"
      ],
      "metadata": {
        "id": "p9I-r-7xDZZ2"
      }
    },
    {
      "cell_type": "markdown",
      "source": [
        "##演習問題\n",
        "\n",
        "1.   乱数のシードを変えてみよう。どうなりましたか？ 気づいたことをメモしておこう。皆さんがメモしたファイルは、**Googleドライブの [マイドライブ > Colab Notebooks] に自動保存**されています。「乱数のシード」って何？と思ったら、Colab AIに尋ねましょう。乱数のシードを変えるためにプログラムのどこをどう変えたらいいか分からないときもAIに尋ねましょう。上手に聞けばたいてい何でも教えてくれるよ。**生成AIはすごくたくさんのことを知っているけど、知りたいことをうまく聞き出すにはコツがいる**ので、いろいろ試行錯誤してみてね。コツを知りたい人は、[ここ](https://www.promptingguide.ai/jp)を見て。\n",
        "> メモ：ここをダブルクリックして記入\n",
        "\n",
        "2.   乱数の生成個数を多くしたり、少なくしたりしてみよう（やり方が分からないときはColab AIに聞いてね）。どうなりましたか？気づいたことをメモしておこう。\n",
        "> メモ：\n",
        "\n",
        "3.   上の1.と2.の問題をColab AIに尋ねて解答させてみよう。どのように質問するとよいか、いろいろ工夫して下さい。あなたの工夫をメモしておこう。\n",
        "> メモ：\n",
        "\n",
        "4.   あなたの答と、Colab AIの答を比べて、気づいたことをメモしておこう。\n",
        "> メモ：\n",
        "\n",
        "以上の演習問題1.から4.を解いたあなた。あなたはもう**生成AIで勉強する方法**（答を尋ねて丸写しするのでなく、**本当の力をつける方法**）を身につけたはず。その調子でがんばれば必ず道は開けるよ。\n"
      ],
      "metadata": {
        "id": "me6vpWBymPln"
      }
    },
    {
      "cell_type": "markdown",
      "source": [
        "#プログラムを読んだり書いたりするときのTips（コツや小技のこと）\n",
        "\n",
        "*  round()というメソッドが何かを知りたいときは、コード中のroundにマウス・オン（マウス・オーバー）する（マウスカーソルをそこに持っていってしばらくそこに保つ）と、説明が表示されます。→説明が英語なのでチンプンカンプン→[DeepL](https://www.deepl.com/ja/translator)にお任せ！→さらに、[アプリ](https://www.deepl.com/ja/app/)をインストールしておくと、Ctrl-C Ctrl-Cで翻訳できて便利。\n",
        "\n",
        "*  あるいは、「pandas round」でGoogle検索する(round()はpandasライブラリで使われるデータ構造のメソッドなので、このように検索)と解説が見つかります。これはround()に限らずプログラム中で分からないことがあった場合に共通して使える方法です。\n",
        "\n",
        "*  他には、たとえば「Python 平均」で検索すると、平均を求めるプログラムが見つかる、という方法もプログラムを書くときに役立ちます。\n",
        "\n",
        "* 2022年11月末に[ChatGPT](https://chat.openai.com/auth/login?next=/chat)が使えるようになったので、生成AIによるプログラム自動生成がとても強力です。たとえば、「Pythonで配列中のデータのヒストグラムを表示するプログラムを書いて」とか。[ChatGPT等の生成AI](https://okana2ki.wordpress.com/llm-chatbot/#%E8%A8%80%E8%AA%9E%E7%94%9F%E6%88%90%E5%9E%8Bai-%E3%83%81%E3%83%A3%E3%83%83%E3%83%88%E3%83%9C%E3%83%83%E3%83%88-%E3%81%AE%E4%BE%8B)を参照。また、2024年4月時点では、**Colab AI**がColabの無料版で使えるので、Colab AIでチャットするのが手っ取り早いです。Colab AIについては、[ここ](https://okana2ki.wordpress.com/llm-chatbot/#colab-ai)にも使い方をまとめてあるよ。\n",
        "\n",
        "* **ChatGPTやColab AIに**例えば**「Pythonで平均を求めるプログラムを書いて」と頼む**と書いてくれます。**教わったプログラム中で分からないことがあれば、それについて質問すると答えてくれるので理解が深まります。**答を丸写しするだけになってしまうのが心配な人は、（ChatGPTを使う必要がありますが）[Custom instructionsをAIチュータモードに設定](https://okana2ki.wordpress.com/llm-chatbot/#chatgpt-custom-instructions%E3%81%AE%E4%BD%BF%E3%81%84%E6%96%B9-ai%E3%83%81%E3%83%A5%E3%83%BC%E3%82%BF%E7%94%A8)して使ってみて下さい。自分で考えるように促してくれるはず。\n",
        "\n",
        "* プログラム実行時にエラーメッセージが出てどうしたらいいか分からないときは、その**プログラムとエラーメッセージをコピペしてChatGPTやColab AIに尋ねる**と対処法を教えてくれます。\n",
        "\n",
        "* このノートブック中の（もちろんそれに限らず一般的に）分からないことや知りたいことがあれば、**ChatGPTやColab AIに尋ねる**と教えてくれます。たとえば、「np.random.seed(1) このプログラムについて初心者でも分かるように詳しく教えて。」その解説中に分からないことがあれば、さらに質問を繰り返して下さい。**あなた専用の優秀な家庭教師**として、どんな初歩的なことを聞き続けても親切に教えてくれます。"
      ],
      "metadata": {
        "id": "jDHffItsQJU1"
      }
    }
  ]
}