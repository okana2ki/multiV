{
  "cells": [
    {
      "cell_type": "markdown",
      "metadata": {
        "id": "view-in-github",
        "colab_type": "text"
      },
      "source": [
        "<a href=\"https://colab.research.google.com/github/okana2ki/multiV/blob/main/senkei_ipynb_%E3%81%AE%E3%82%B3%E3%83%94%E3%83%BC.ipynb\" target=\"_parent\"><img src=\"https://colab.research.google.com/assets/colab-badge.svg\" alt=\"Open In Colab\"/></a>"
      ]
    },
    {
      "cell_type": "markdown",
      "source": [
        "このノートブックは、以下からダウンロードしたものを改変したものです：\n",
        "\n",
        "[高等学校における「情報II」のためのデータサイエンス・データ解析入門](https://www.stat.go.jp/teacher/comp-learn-04.html)（総務省統計局）"
      ],
      "metadata": {
        "id": "5XoKqeSav8TH"
      }
    },
    {
      "cell_type": "markdown",
      "metadata": {
        "id": "WgyHQa13aKP-"
      },
      "source": [
        "\n",
        "## 1.線形回帰"
      ]
    },
    {
      "cell_type": "code",
      "execution_count": null,
      "metadata": {
        "id": "FSHdPJfuaKQH"
      },
      "outputs": [],
      "source": [
        "import pandas as pd\n",
        "import numpy as np\n",
        "import matplotlib.pyplot as plt\n",
        "%matplotlib inline"
      ]
    },
    {
      "cell_type": "markdown",
      "metadata": {
        "id": "Viop-0-_aKQI"
      },
      "source": [
        "データを読み込みます。  \n",
        "\n",
        "データ内容は以下の通りです。\n",
        "\n",
        "ID：ID  \n",
        "sales：売上個数  \n",
        "insta_post：Instagram投稿数  \n",
        "insta_good：Instagramいいね！数  \n",
        "flyer：チラシ配布枚数  \n",
        "event：イベントあり＝１、イベントなし＝０  \n",
        "new_item：新作発売日＝１  \n",
        "holiday：土日祝＝１"
      ]
    },
    {
      "cell_type": "code",
      "execution_count": null,
      "metadata": {
        "colab": {
          "base_uri": "https://localhost:8080/",
          "height": 237
        },
        "id": "F7dpbrw-aKQJ",
        "outputId": "c956db96-9dd7-4ee4-e847-fedeebc2bf33"
      },
      "outputs": [
        {
          "output_type": "execute_result",
          "data": {
            "text/plain": [
              "    sales  insta_post  insta_good  flyer  event  new_item  holiday\n",
              "ID                                                                \n",
              "1      62           0          20      0      0         0        0\n",
              "2      60           0          24      0      0         0        0\n",
              "3     104           0          26      0      0         0        0\n",
              "4     102           0          22      0      0         0        0\n",
              "5     178           0          39      0      0         0        1"
            ],
            "text/html": [
              "\n",
              "  <div id=\"df-89a354ac-bcb6-4177-a7f3-236e42dcb04f\" class=\"colab-df-container\">\n",
              "    <div>\n",
              "<style scoped>\n",
              "    .dataframe tbody tr th:only-of-type {\n",
              "        vertical-align: middle;\n",
              "    }\n",
              "\n",
              "    .dataframe tbody tr th {\n",
              "        vertical-align: top;\n",
              "    }\n",
              "\n",
              "    .dataframe thead th {\n",
              "        text-align: right;\n",
              "    }\n",
              "</style>\n",
              "<table border=\"1\" class=\"dataframe\">\n",
              "  <thead>\n",
              "    <tr style=\"text-align: right;\">\n",
              "      <th></th>\n",
              "      <th>sales</th>\n",
              "      <th>insta_post</th>\n",
              "      <th>insta_good</th>\n",
              "      <th>flyer</th>\n",
              "      <th>event</th>\n",
              "      <th>new_item</th>\n",
              "      <th>holiday</th>\n",
              "    </tr>\n",
              "    <tr>\n",
              "      <th>ID</th>\n",
              "      <th></th>\n",
              "      <th></th>\n",
              "      <th></th>\n",
              "      <th></th>\n",
              "      <th></th>\n",
              "      <th></th>\n",
              "      <th></th>\n",
              "    </tr>\n",
              "  </thead>\n",
              "  <tbody>\n",
              "    <tr>\n",
              "      <th>1</th>\n",
              "      <td>62</td>\n",
              "      <td>0</td>\n",
              "      <td>20</td>\n",
              "      <td>0</td>\n",
              "      <td>0</td>\n",
              "      <td>0</td>\n",
              "      <td>0</td>\n",
              "    </tr>\n",
              "    <tr>\n",
              "      <th>2</th>\n",
              "      <td>60</td>\n",
              "      <td>0</td>\n",
              "      <td>24</td>\n",
              "      <td>0</td>\n",
              "      <td>0</td>\n",
              "      <td>0</td>\n",
              "      <td>0</td>\n",
              "    </tr>\n",
              "    <tr>\n",
              "      <th>3</th>\n",
              "      <td>104</td>\n",
              "      <td>0</td>\n",
              "      <td>26</td>\n",
              "      <td>0</td>\n",
              "      <td>0</td>\n",
              "      <td>0</td>\n",
              "      <td>0</td>\n",
              "    </tr>\n",
              "    <tr>\n",
              "      <th>4</th>\n",
              "      <td>102</td>\n",
              "      <td>0</td>\n",
              "      <td>22</td>\n",
              "      <td>0</td>\n",
              "      <td>0</td>\n",
              "      <td>0</td>\n",
              "      <td>0</td>\n",
              "    </tr>\n",
              "    <tr>\n",
              "      <th>5</th>\n",
              "      <td>178</td>\n",
              "      <td>0</td>\n",
              "      <td>39</td>\n",
              "      <td>0</td>\n",
              "      <td>0</td>\n",
              "      <td>0</td>\n",
              "      <td>1</td>\n",
              "    </tr>\n",
              "  </tbody>\n",
              "</table>\n",
              "</div>\n",
              "    <div class=\"colab-df-buttons\">\n",
              "\n",
              "  <div class=\"colab-df-container\">\n",
              "    <button class=\"colab-df-convert\" onclick=\"convertToInteractive('df-89a354ac-bcb6-4177-a7f3-236e42dcb04f')\"\n",
              "            title=\"Convert this dataframe to an interactive table.\"\n",
              "            style=\"display:none;\">\n",
              "\n",
              "  <svg xmlns=\"http://www.w3.org/2000/svg\" height=\"24px\" viewBox=\"0 -960 960 960\">\n",
              "    <path d=\"M120-120v-720h720v720H120Zm60-500h600v-160H180v160Zm220 220h160v-160H400v160Zm0 220h160v-160H400v160ZM180-400h160v-160H180v160Zm440 0h160v-160H620v160ZM180-180h160v-160H180v160Zm440 0h160v-160H620v160Z\"/>\n",
              "  </svg>\n",
              "    </button>\n",
              "\n",
              "  <style>\n",
              "    .colab-df-container {\n",
              "      display:flex;\n",
              "      gap: 12px;\n",
              "    }\n",
              "\n",
              "    .colab-df-convert {\n",
              "      background-color: #E8F0FE;\n",
              "      border: none;\n",
              "      border-radius: 50%;\n",
              "      cursor: pointer;\n",
              "      display: none;\n",
              "      fill: #1967D2;\n",
              "      height: 32px;\n",
              "      padding: 0 0 0 0;\n",
              "      width: 32px;\n",
              "    }\n",
              "\n",
              "    .colab-df-convert:hover {\n",
              "      background-color: #E2EBFA;\n",
              "      box-shadow: 0px 1px 2px rgba(60, 64, 67, 0.3), 0px 1px 3px 1px rgba(60, 64, 67, 0.15);\n",
              "      fill: #174EA6;\n",
              "    }\n",
              "\n",
              "    .colab-df-buttons div {\n",
              "      margin-bottom: 4px;\n",
              "    }\n",
              "\n",
              "    [theme=dark] .colab-df-convert {\n",
              "      background-color: #3B4455;\n",
              "      fill: #D2E3FC;\n",
              "    }\n",
              "\n",
              "    [theme=dark] .colab-df-convert:hover {\n",
              "      background-color: #434B5C;\n",
              "      box-shadow: 0px 1px 3px 1px rgba(0, 0, 0, 0.15);\n",
              "      filter: drop-shadow(0px 1px 2px rgba(0, 0, 0, 0.3));\n",
              "      fill: #FFFFFF;\n",
              "    }\n",
              "  </style>\n",
              "\n",
              "    <script>\n",
              "      const buttonEl =\n",
              "        document.querySelector('#df-89a354ac-bcb6-4177-a7f3-236e42dcb04f button.colab-df-convert');\n",
              "      buttonEl.style.display =\n",
              "        google.colab.kernel.accessAllowed ? 'block' : 'none';\n",
              "\n",
              "      async function convertToInteractive(key) {\n",
              "        const element = document.querySelector('#df-89a354ac-bcb6-4177-a7f3-236e42dcb04f');\n",
              "        const dataTable =\n",
              "          await google.colab.kernel.invokeFunction('convertToInteractive',\n",
              "                                                    [key], {});\n",
              "        if (!dataTable) return;\n",
              "\n",
              "        const docLinkHtml = 'Like what you see? Visit the ' +\n",
              "          '<a target=\"_blank\" href=https://colab.research.google.com/notebooks/data_table.ipynb>data table notebook</a>'\n",
              "          + ' to learn more about interactive tables.';\n",
              "        element.innerHTML = '';\n",
              "        dataTable['output_type'] = 'display_data';\n",
              "        await google.colab.output.renderOutput(dataTable, element);\n",
              "        const docLink = document.createElement('div');\n",
              "        docLink.innerHTML = docLinkHtml;\n",
              "        element.appendChild(docLink);\n",
              "      }\n",
              "    </script>\n",
              "  </div>\n",
              "\n",
              "\n",
              "<div id=\"df-5d76b2c6-39c7-439e-9cb8-8a16d1f1e4f5\">\n",
              "  <button class=\"colab-df-quickchart\" onclick=\"quickchart('df-5d76b2c6-39c7-439e-9cb8-8a16d1f1e4f5')\"\n",
              "            title=\"Suggest charts\"\n",
              "            style=\"display:none;\">\n",
              "\n",
              "<svg xmlns=\"http://www.w3.org/2000/svg\" height=\"24px\"viewBox=\"0 0 24 24\"\n",
              "     width=\"24px\">\n",
              "    <g>\n",
              "        <path d=\"M19 3H5c-1.1 0-2 .9-2 2v14c0 1.1.9 2 2 2h14c1.1 0 2-.9 2-2V5c0-1.1-.9-2-2-2zM9 17H7v-7h2v7zm4 0h-2V7h2v10zm4 0h-2v-4h2v4z\"/>\n",
              "    </g>\n",
              "</svg>\n",
              "  </button>\n",
              "\n",
              "<style>\n",
              "  .colab-df-quickchart {\n",
              "      --bg-color: #E8F0FE;\n",
              "      --fill-color: #1967D2;\n",
              "      --hover-bg-color: #E2EBFA;\n",
              "      --hover-fill-color: #174EA6;\n",
              "      --disabled-fill-color: #AAA;\n",
              "      --disabled-bg-color: #DDD;\n",
              "  }\n",
              "\n",
              "  [theme=dark] .colab-df-quickchart {\n",
              "      --bg-color: #3B4455;\n",
              "      --fill-color: #D2E3FC;\n",
              "      --hover-bg-color: #434B5C;\n",
              "      --hover-fill-color: #FFFFFF;\n",
              "      --disabled-bg-color: #3B4455;\n",
              "      --disabled-fill-color: #666;\n",
              "  }\n",
              "\n",
              "  .colab-df-quickchart {\n",
              "    background-color: var(--bg-color);\n",
              "    border: none;\n",
              "    border-radius: 50%;\n",
              "    cursor: pointer;\n",
              "    display: none;\n",
              "    fill: var(--fill-color);\n",
              "    height: 32px;\n",
              "    padding: 0;\n",
              "    width: 32px;\n",
              "  }\n",
              "\n",
              "  .colab-df-quickchart:hover {\n",
              "    background-color: var(--hover-bg-color);\n",
              "    box-shadow: 0 1px 2px rgba(60, 64, 67, 0.3), 0 1px 3px 1px rgba(60, 64, 67, 0.15);\n",
              "    fill: var(--button-hover-fill-color);\n",
              "  }\n",
              "\n",
              "  .colab-df-quickchart-complete:disabled,\n",
              "  .colab-df-quickchart-complete:disabled:hover {\n",
              "    background-color: var(--disabled-bg-color);\n",
              "    fill: var(--disabled-fill-color);\n",
              "    box-shadow: none;\n",
              "  }\n",
              "\n",
              "  .colab-df-spinner {\n",
              "    border: 2px solid var(--fill-color);\n",
              "    border-color: transparent;\n",
              "    border-bottom-color: var(--fill-color);\n",
              "    animation:\n",
              "      spin 1s steps(1) infinite;\n",
              "  }\n",
              "\n",
              "  @keyframes spin {\n",
              "    0% {\n",
              "      border-color: transparent;\n",
              "      border-bottom-color: var(--fill-color);\n",
              "      border-left-color: var(--fill-color);\n",
              "    }\n",
              "    20% {\n",
              "      border-color: transparent;\n",
              "      border-left-color: var(--fill-color);\n",
              "      border-top-color: var(--fill-color);\n",
              "    }\n",
              "    30% {\n",
              "      border-color: transparent;\n",
              "      border-left-color: var(--fill-color);\n",
              "      border-top-color: var(--fill-color);\n",
              "      border-right-color: var(--fill-color);\n",
              "    }\n",
              "    40% {\n",
              "      border-color: transparent;\n",
              "      border-right-color: var(--fill-color);\n",
              "      border-top-color: var(--fill-color);\n",
              "    }\n",
              "    60% {\n",
              "      border-color: transparent;\n",
              "      border-right-color: var(--fill-color);\n",
              "    }\n",
              "    80% {\n",
              "      border-color: transparent;\n",
              "      border-right-color: var(--fill-color);\n",
              "      border-bottom-color: var(--fill-color);\n",
              "    }\n",
              "    90% {\n",
              "      border-color: transparent;\n",
              "      border-bottom-color: var(--fill-color);\n",
              "    }\n",
              "  }\n",
              "</style>\n",
              "\n",
              "  <script>\n",
              "    async function quickchart(key) {\n",
              "      const quickchartButtonEl =\n",
              "        document.querySelector('#' + key + ' button');\n",
              "      quickchartButtonEl.disabled = true;  // To prevent multiple clicks.\n",
              "      quickchartButtonEl.classList.add('colab-df-spinner');\n",
              "      try {\n",
              "        const charts = await google.colab.kernel.invokeFunction(\n",
              "            'suggestCharts', [key], {});\n",
              "      } catch (error) {\n",
              "        console.error('Error during call to suggestCharts:', error);\n",
              "      }\n",
              "      quickchartButtonEl.classList.remove('colab-df-spinner');\n",
              "      quickchartButtonEl.classList.add('colab-df-quickchart-complete');\n",
              "    }\n",
              "    (() => {\n",
              "      let quickchartButtonEl =\n",
              "        document.querySelector('#df-5d76b2c6-39c7-439e-9cb8-8a16d1f1e4f5 button');\n",
              "      quickchartButtonEl.style.display =\n",
              "        google.colab.kernel.accessAllowed ? 'block' : 'none';\n",
              "    })();\n",
              "  </script>\n",
              "</div>\n",
              "\n",
              "    </div>\n",
              "  </div>\n"
            ],
            "application/vnd.google.colaboratory.intrinsic+json": {
              "type": "dataframe",
              "variable_name": "df",
              "summary": "{\n  \"name\": \"df\",\n  \"rows\": 53,\n  \"fields\": [\n    {\n      \"column\": \"ID\",\n      \"properties\": {\n        \"dtype\": \"number\",\n        \"std\": 15,\n        \"min\": 1,\n        \"max\": 53,\n        \"num_unique_values\": 53,\n        \"samples\": [\n          20,\n          42,\n          48\n        ],\n        \"semantic_type\": \"\",\n        \"description\": \"\"\n      }\n    },\n    {\n      \"column\": \"sales\",\n      \"properties\": {\n        \"dtype\": \"number\",\n        \"std\": 99,\n        \"min\": 60,\n        \"max\": 632,\n        \"num_unique_values\": 49,\n        \"samples\": [\n          205,\n          244,\n          140\n        ],\n        \"semantic_type\": \"\",\n        \"description\": \"\"\n      }\n    },\n    {\n      \"column\": \"insta_post\",\n      \"properties\": {\n        \"dtype\": \"number\",\n        \"std\": 0,\n        \"min\": 0,\n        \"max\": 1,\n        \"num_unique_values\": 2,\n        \"samples\": [\n          1,\n          0\n        ],\n        \"semantic_type\": \"\",\n        \"description\": \"\"\n      }\n    },\n    {\n      \"column\": \"insta_good\",\n      \"properties\": {\n        \"dtype\": \"number\",\n        \"std\": 34,\n        \"min\": 11,\n        \"max\": 158,\n        \"num_unique_values\": 35,\n        \"samples\": [\n          32,\n          35\n        ],\n        \"semantic_type\": \"\",\n        \"description\": \"\"\n      }\n    },\n    {\n      \"column\": \"flyer\",\n      \"properties\": {\n        \"dtype\": \"number\",\n        \"std\": 204,\n        \"min\": 0,\n        \"max\": 500,\n        \"num_unique_values\": 2,\n        \"samples\": [\n          500,\n          0\n        ],\n        \"semantic_type\": \"\",\n        \"description\": \"\"\n      }\n    },\n    {\n      \"column\": \"event\",\n      \"properties\": {\n        \"dtype\": \"number\",\n        \"std\": 0,\n        \"min\": 0,\n        \"max\": 1,\n        \"num_unique_values\": 2,\n        \"samples\": [\n          1,\n          0\n        ],\n        \"semantic_type\": \"\",\n        \"description\": \"\"\n      }\n    },\n    {\n      \"column\": \"new_item\",\n      \"properties\": {\n        \"dtype\": \"number\",\n        \"std\": 0,\n        \"min\": 0,\n        \"max\": 1,\n        \"num_unique_values\": 2,\n        \"samples\": [\n          1,\n          0\n        ],\n        \"semantic_type\": \"\",\n        \"description\": \"\"\n      }\n    },\n    {\n      \"column\": \"holiday\",\n      \"properties\": {\n        \"dtype\": \"number\",\n        \"std\": 0,\n        \"min\": 0,\n        \"max\": 1,\n        \"num_unique_values\": 2,\n        \"samples\": [\n          1,\n          0\n        ],\n        \"semantic_type\": \"\",\n        \"description\": \"\"\n      }\n    }\n  ]\n}"
            }
          },
          "metadata": {},
          "execution_count": 19
        }
      ],
      "source": [
        "df = pd.read_csv(\"senkei.csv\", index_col=0) # ← データファイルのパスを正しく指定して下さい。\n",
        "df.head()"
      ]
    },
    {
      "cell_type": "markdown",
      "source": [
        "↑Colab AIが次のステップとして提案してきた「Generate code with df」や「View recommended plots」をクリックしてみよう！"
      ],
      "metadata": {
        "id": "Tx9nounNSm0l"
      }
    },
    {
      "cell_type": "markdown",
      "metadata": {
        "id": "rNKoPRwEaKQL"
      },
      "source": [
        "### 単回帰分析"
      ]
    },
    {
      "cell_type": "markdown",
      "metadata": {
        "id": "r91W7EPvaKQM"
      },
      "source": [
        "説明変数をinsta_good、目的変数をsalesとして、単回帰分析を行います。"
      ]
    },
    {
      "cell_type": "code",
      "execution_count": null,
      "metadata": {
        "id": "evSBR3kzaKQM"
      },
      "outputs": [],
      "source": [
        "# 説明変数insta_good\n",
        "X = df.iloc[:, 2].values  # ← Colab AIで教えてもらおう\n",
        "X = X.reshape(-1,1)  # reshapeでどのような変換をしているか？なぜそれが必要か？Colab AIに尋ねてみましょう\n",
        "\n",
        "# 目的変数sales\n",
        "Y = df.iloc[:, 0].values"
      ]
    },
    {
      "cell_type": "markdown",
      "source": [
        "以下のプログラムもColab AIで教えてもらおう"
      ],
      "metadata": {
        "id": "V0ambsO75Ta8"
      }
    },
    {
      "cell_type": "code",
      "execution_count": null,
      "metadata": {
        "colab": {
          "base_uri": "https://localhost:8080/"
        },
        "id": "rdLmpcOSaKQN",
        "outputId": "ca889b30-ec55-499c-ab2f-32288951560f"
      },
      "outputs": [
        {
          "output_type": "stream",
          "name": "stdout",
          "text": [
            "[2.05852128]\n",
            "101.71515440413765\n",
            "0.5218980221448157\n"
          ]
        }
      ],
      "source": [
        "# sklearn.linear_model.LinearRegression クラスを読み込み\n",
        "from sklearn import linear_model\n",
        "clf = linear_model.LinearRegression()\n",
        "\n",
        "# 予測モデルを作成\n",
        "clf.fit(X, Y)\n",
        "\n",
        "# 回帰係数\n",
        "print(clf.coef_)\n",
        "\n",
        "# 切片\n",
        "print(clf.intercept_)\n",
        "\n",
        "# 決定係数\n",
        "print(clf.score(X, Y))"
      ]
    },
    {
      "cell_type": "markdown",
      "metadata": {
        "id": "pZY7M7qwaKQO"
      },
      "source": [
        "insta_goodの回帰係数と、単回帰の式の切片が分かりました。  \n",
        "決定係数は、0～1の範囲の値をとり、値が大きいほどモデルが適切にデータを表現できているといえます。"
      ]
    },
    {
      "cell_type": "markdown",
      "source": [
        "対応する散布図を作成し、回帰直線を描き加えてみましょう。"
      ],
      "metadata": {
        "id": "67NlWgudUGBN"
      }
    },
    {
      "cell_type": "code",
      "source": [
        "# prompt: salesとinsta_goodの散布図を作成し、単回帰分析の回帰式を散布図に書き加えて下さい。\n",
        "\n",
        "# 散布図を作成\n",
        "plt.scatter(X, Y)\n",
        "\n",
        "# 回帰直線を作成\n",
        "x_min, x_max = X.min(), X.max()\n",
        "y_min = clf.predict([[x_min]])\n",
        "y_max = clf.predict([[x_max]])\n",
        "\n",
        "# 回帰直線を散布図に追加\n",
        "plt.plot([x_min, x_max], [y_min, y_max], color=\"r\")\n",
        "\n",
        "# 回帰式の切片と回帰係数を散布図に書き加える\n",
        "plt.text(x_min, y_min, f\"y = {clf.coef_[0]:.3f}x + {clf.intercept_:.3f}\", fontsize=12)\n",
        "\n",
        "# グラフのタイトルとラベルを設定\n",
        "plt.title(\"Sales vs. Instagram Likes\")\n",
        "plt.xlabel(\"Instagram Likes\")\n",
        "plt.ylabel(\"Sales\")\n",
        "\n",
        "# グラフを表示\n",
        "plt.show()\n"
      ],
      "metadata": {
        "colab": {
          "base_uri": "https://localhost:8080/",
          "height": 472
        },
        "id": "zssEMMv-4_5l",
        "outputId": "99e68d91-83a9-4b49-dd17-d07afc6aee4b"
      },
      "execution_count": null,
      "outputs": [
        {
          "output_type": "display_data",
          "data": {
            "text/plain": [
              "<Figure size 640x480 with 1 Axes>"
            ],
            "image/png": "[encoded data removed]"
          },
          "metadata": {}
        }
      ]
    },
    {
      "cell_type": "markdown",
      "metadata": {
        "id": "wgBzIqEXaKQP"
      },
      "source": [
        "### 重回帰分析"
      ]
    },
    {
      "cell_type": "markdown",
      "metadata": {
        "id": "TKa5RlLkaKQR"
      },
      "source": [
        "insta_post以降6カラムを説明変数、目的変数をsalesとして、重回帰分析を行います。"
      ]
    },
    {
      "cell_type": "code",
      "execution_count": null,
      "metadata": {
        "id": "VzyqIXkVaKQS"
      },
      "outputs": [],
      "source": [
        "# 説明変数\n",
        "X = df.iloc[:, 1:7].values\n",
        "\n",
        "# 目的変数\n",
        "Y = df.iloc[:, 0].values"
      ]
    },
    {
      "cell_type": "code",
      "execution_count": null,
      "metadata": {
        "colab": {
          "base_uri": "https://localhost:8080/"
        },
        "id": "NxDmOYZBaKQT",
        "outputId": "14e1f571-632c-4dfe-c1a7-624bf8090549"
      },
      "outputs": [
        {
          "output_type": "stream",
          "name": "stdout",
          "text": [
            "         Name  Coefficients\n",
            "2       flyer      0.206098\n",
            "1  insta_good      0.684993\n",
            "5     holiday     26.549665\n",
            "4    new_item     38.905751\n",
            "0  insta_post     48.871107\n",
            "3       event    245.436745\n",
            "131.89410662096918\n"
          ]
        }
      ],
      "source": [
        "# 予測モデルを作成\n",
        "clf.fit(X, Y)\n",
        "\n",
        "# 偏回帰係数\n",
        "df_except_sales = df.iloc[:, 1:7]\n",
        "print(pd.DataFrame({\"Name\":df_except_sales.columns,\n",
        "                    \"Coefficients\":np.abs(clf.coef_)}).sort_values(by='Coefficients'))\n",
        "\n",
        "# 切片\n",
        "print(clf.intercept_)"
      ]
    },
    {
      "cell_type": "markdown",
      "source": [
        "要検討：偏回帰係数を表示するとき、なぜ、絶対値をとっているのか？"
      ],
      "metadata": {
        "id": "P0nhbrw2z48J"
      }
    },
    {
      "cell_type": "markdown",
      "metadata": {
        "id": "J-kKjXNfaKQT"
      },
      "source": [
        "各変数の偏回帰係数と重回帰の式の切片が分かりました。"
      ]
    },
    {
      "cell_type": "markdown",
      "metadata": {
        "id": "4bJbwdh1aKQT"
      },
      "source": [
        "各変数がどの程度目的変数に影響しているかを確認するには、各変数を正規化します。"
      ]
    },
    {
      "cell_type": "code",
      "execution_count": null,
      "metadata": {
        "colab": {
          "base_uri": "https://localhost:8080/",
          "height": 257
        },
        "id": "pwcl276xaKQU",
        "outputId": "d9995d6e-1083-4788-b947-91dc89c672df"
      },
      "outputs": [
        {
          "output_type": "execute_result",
          "data": {
            "text/plain": [
              "       sales  insta_post  insta_good     flyer     event  new_item   holiday\n",
              "ID                                                                          \n",
              "1  -1.427147   -0.322749   -0.839503 -0.511766 -0.138675  -0.19803 -0.657596\n",
              "2  -1.447439   -0.322749   -0.723860 -0.511766 -0.138675  -0.19803 -0.657596\n",
              "3  -1.001013   -0.322749   -0.666038 -0.511766 -0.138675  -0.19803 -0.657596\n",
              "4  -1.021305   -0.322749   -0.781681 -0.511766 -0.138675  -0.19803 -0.657596\n",
              "5  -0.250205   -0.322749   -0.290198 -0.511766 -0.138675  -0.19803  1.520691"
            ],
            "text/html": [
              "\n",
              "  <div id=\"df-39c5e62a-2b52-4f50-8dcf-059767cbcba5\" class=\"colab-df-container\">\n",
              "    <div>\n",
              "<style scoped>\n",
              "    .dataframe tbody tr th:only-of-type {\n",
              "        vertical-align: middle;\n",
              "    }\n",
              "\n",
              "    .dataframe tbody tr th {\n",
              "        vertical-align: top;\n",
              "    }\n",
              "\n",
              "    .dataframe thead th {\n",
              "        text-align: right;\n",
              "    }\n",
              "</style>\n",
              "<table border=\"1\" class=\"dataframe\">\n",
              "  <thead>\n",
              "    <tr style=\"text-align: right;\">\n",
              "      <th></th>\n",
              "      <th>sales</th>\n",
              "      <th>insta_post</th>\n",
              "      <th>insta_good</th>\n",
              "      <th>flyer</th>\n",
              "      <th>event</th>\n",
              "      <th>new_item</th>\n",
              "      <th>holiday</th>\n",
              "    </tr>\n",
              "    <tr>\n",
              "      <th>ID</th>\n",
              "      <th></th>\n",
              "      <th></th>\n",
              "      <th></th>\n",
              "      <th></th>\n",
              "      <th></th>\n",
              "      <th></th>\n",
              "      <th></th>\n",
              "    </tr>\n",
              "  </thead>\n",
              "  <tbody>\n",
              "    <tr>\n",
              "      <th>1</th>\n",
              "      <td>-1.427147</td>\n",
              "      <td>-0.322749</td>\n",
              "      <td>-0.839503</td>\n",
              "      <td>-0.511766</td>\n",
              "      <td>-0.138675</td>\n",
              "      <td>-0.19803</td>\n",
              "      <td>-0.657596</td>\n",
              "    </tr>\n",
              "    <tr>\n",
              "      <th>2</th>\n",
              "      <td>-1.447439</td>\n",
              "      <td>-0.322749</td>\n",
              "      <td>-0.723860</td>\n",
              "      <td>-0.511766</td>\n",
              "      <td>-0.138675</td>\n",
              "      <td>-0.19803</td>\n",
              "      <td>-0.657596</td>\n",
              "    </tr>\n",
              "    <tr>\n",
              "      <th>3</th>\n",
              "      <td>-1.001013</td>\n",
              "      <td>-0.322749</td>\n",
              "      <td>-0.666038</td>\n",
              "      <td>-0.511766</td>\n",
              "      <td>-0.138675</td>\n",
              "      <td>-0.19803</td>\n",
              "      <td>-0.657596</td>\n",
              "    </tr>\n",
              "    <tr>\n",
              "      <th>4</th>\n",
              "      <td>-1.021305</td>\n",
              "      <td>-0.322749</td>\n",
              "      <td>-0.781681</td>\n",
              "      <td>-0.511766</td>\n",
              "      <td>-0.138675</td>\n",
              "      <td>-0.19803</td>\n",
              "      <td>-0.657596</td>\n",
              "    </tr>\n",
              "    <tr>\n",
              "      <th>5</th>\n",
              "      <td>-0.250205</td>\n",
              "      <td>-0.322749</td>\n",
              "      <td>-0.290198</td>\n",
              "      <td>-0.511766</td>\n",
              "      <td>-0.138675</td>\n",
              "      <td>-0.19803</td>\n",
              "      <td>1.520691</td>\n",
              "    </tr>\n",
              "  </tbody>\n",
              "</table>\n",
              "</div>\n",
              "    <div class=\"colab-df-buttons\">\n",
              "\n",
              "  <div class=\"colab-df-container\">\n",
              "    <button class=\"colab-df-convert\" onclick=\"convertToInteractive('df-39c5e62a-2b52-4f50-8dcf-059767cbcba5')\"\n",
              "            title=\"Convert this dataframe to an interactive table.\"\n",
              "            style=\"display:none;\">\n",
              "\n",
              "  <svg xmlns=\"http://www.w3.org/2000/svg\" height=\"24px\" viewBox=\"0 -960 960 960\">\n",
              "    <path d=\"M120-120v-720h720v720H120Zm60-500h600v-160H180v160Zm220 220h160v-160H400v160Zm0 220h160v-160H400v160ZM180-400h160v-160H180v160Zm440 0h160v-160H620v160ZM180-180h160v-160H180v160Zm440 0h160v-160H620v160Z\"/>\n",
              "  </svg>\n",
              "    </button>\n",
              "\n",
              "  <style>\n",
              "    .colab-df-container {\n",
              "      display:flex;\n",
              "      gap: 12px;\n",
              "    }\n",
              "\n",
              "    .colab-df-convert {\n",
              "      background-color: #E8F0FE;\n",
              "      border: none;\n",
              "      border-radius: 50%;\n",
              "      cursor: pointer;\n",
              "      display: none;\n",
              "      fill: #1967D2;\n",
              "      height: 32px;\n",
              "      padding: 0 0 0 0;\n",
              "      width: 32px;\n",
              "    }\n",
              "\n",
              "    .colab-df-convert:hover {\n",
              "      background-color: #E2EBFA;\n",
              "      box-shadow: 0px 1px 2px rgba(60, 64, 67, 0.3), 0px 1px 3px 1px rgba(60, 64, 67, 0.15);\n",
              "      fill: #174EA6;\n",
              "    }\n",
              "\n",
              "    .colab-df-buttons div {\n",
              "      margin-bottom: 4px;\n",
              "    }\n",
              "\n",
              "    [theme=dark] .colab-df-convert {\n",
              "      background-color: #3B4455;\n",
              "      fill: #D2E3FC;\n",
              "    }\n",
              "\n",
              "    [theme=dark] .colab-df-convert:hover {\n",
              "      background-color: #434B5C;\n",
              "      box-shadow: 0px 1px 3px 1px rgba(0, 0, 0, 0.15);\n",
              "      filter: drop-shadow(0px 1px 2px rgba(0, 0, 0, 0.3));\n",
              "      fill: #FFFFFF;\n",
              "    }\n",
              "  </style>\n",
              "\n",
              "    <script>\n",
              "      const buttonEl =\n",
              "        document.querySelector('#df-39c5e62a-2b52-4f50-8dcf-059767cbcba5 button.colab-df-convert');\n",
              "      buttonEl.style.display =\n",
              "        google.colab.kernel.accessAllowed ? 'block' : 'none';\n",
              "\n",
              "      async function convertToInteractive(key) {\n",
              "        const element = document.querySelector('#df-39c5e62a-2b52-4f50-8dcf-059767cbcba5');\n",
              "        const dataTable =\n",
              "          await google.colab.kernel.invokeFunction('convertToInteractive',\n",
              "                                                    [key], {});\n",
              "        if (!dataTable) return;\n",
              "\n",
              "        const docLinkHtml = 'Like what you see? Visit the ' +\n",
              "          '<a target=\"_blank\" href=https://colab.research.google.com/notebooks/data_table.ipynb>data table notebook</a>'\n",
              "          + ' to learn more about interactive tables.';\n",
              "        element.innerHTML = '';\n",
              "        dataTable['output_type'] = 'display_data';\n",
              "        await google.colab.output.renderOutput(dataTable, element);\n",
              "        const docLink = document.createElement('div');\n",
              "        docLink.innerHTML = docLinkHtml;\n",
              "        element.appendChild(docLink);\n",
              "      }\n",
              "    </script>\n",
              "  </div>\n",
              "\n",
              "\n",
              "<div id=\"df-aa2b399b-67ef-4526-a9cc-43e79245468a\">\n",
              "  <button class=\"colab-df-quickchart\" onclick=\"quickchart('df-aa2b399b-67ef-4526-a9cc-43e79245468a')\"\n",
              "            title=\"Suggest charts\"\n",
              "            style=\"display:none;\">\n",
              "\n",
              "<svg xmlns=\"http://www.w3.org/2000/svg\" height=\"24px\"viewBox=\"0 0 24 24\"\n",
              "     width=\"24px\">\n",
              "    <g>\n",
              "        <path d=\"M19 3H5c-1.1 0-2 .9-2 2v14c0 1.1.9 2 2 2h14c1.1 0 2-.9 2-2V5c0-1.1-.9-2-2-2zM9 17H7v-7h2v7zm4 0h-2V7h2v10zm4 0h-2v-4h2v4z\"/>\n",
              "    </g>\n",
              "</svg>\n",
              "  </button>\n",
              "\n",
              "<style>\n",
              "  .colab-df-quickchart {\n",
              "      --bg-color: #E8F0FE;\n",
              "      --fill-color: #1967D2;\n",
              "      --hover-bg-color: #E2EBFA;\n",
              "      --hover-fill-color: #174EA6;\n",
              "      --disabled-fill-color: #AAA;\n",
              "      --disabled-bg-color: #DDD;\n",
              "  }\n",
              "\n",
              "  [theme=dark] .colab-df-quickchart {\n",
              "      --bg-color: #3B4455;\n",
              "      --fill-color: #D2E3FC;\n",
              "      --hover-bg-color: #434B5C;\n",
              "      --hover-fill-color: #FFFFFF;\n",
              "      --disabled-bg-color: #3B4455;\n",
              "      --disabled-fill-color: #666;\n",
              "  }\n",
              "\n",
              "  .colab-df-quickchart {\n",
              "    background-color: var(--bg-color);\n",
              "    border: none;\n",
              "    border-radius: 50%;\n",
              "    cursor: pointer;\n",
              "    display: none;\n",
              "    fill: var(--fill-color);\n",
              "    height: 32px;\n",
              "    padding: 0;\n",
              "    width: 32px;\n",
              "  }\n",
              "\n",
              "  .colab-df-quickchart:hover {\n",
              "    background-color: var(--hover-bg-color);\n",
              "    box-shadow: 0 1px 2px rgba(60, 64, 67, 0.3), 0 1px 3px 1px rgba(60, 64, 67, 0.15);\n",
              "    fill: var(--button-hover-fill-color);\n",
              "  }\n",
              "\n",
              "  .colab-df-quickchart-complete:disabled,\n",
              "  .colab-df-quickchart-complete:disabled:hover {\n",
              "    background-color: var(--disabled-bg-color);\n",
              "    fill: var(--disabled-fill-color);\n",
              "    box-shadow: none;\n",
              "  }\n",
              "\n",
              "  .colab-df-spinner {\n",
              "    border: 2px solid var(--fill-color);\n",
              "    border-color: transparent;\n",
              "    border-bottom-color: var(--fill-color);\n",
              "    animation:\n",
              "      spin 1s steps(1) infinite;\n",
              "  }\n",
              "\n",
              "  @keyframes spin {\n",
              "    0% {\n",
              "      border-color: transparent;\n",
              "      border-bottom-color: var(--fill-color);\n",
              "      border-left-color: var(--fill-color);\n",
              "    }\n",
              "    20% {\n",
              "      border-color: transparent;\n",
              "      border-left-color: var(--fill-color);\n",
              "      border-top-color: var(--fill-color);\n",
              "    }\n",
              "    30% {\n",
              "      border-color: transparent;\n",
              "      border-left-color: var(--fill-color);\n",
              "      border-top-color: var(--fill-color);\n",
              "      border-right-color: var(--fill-color);\n",
              "    }\n",
              "    40% {\n",
              "      border-color: transparent;\n",
              "      border-right-color: var(--fill-color);\n",
              "      border-top-color: var(--fill-color);\n",
              "    }\n",
              "    60% {\n",
              "      border-color: transparent;\n",
              "      border-right-color: var(--fill-color);\n",
              "    }\n",
              "    80% {\n",
              "      border-color: transparent;\n",
              "      border-right-color: var(--fill-color);\n",
              "      border-bottom-color: var(--fill-color);\n",
              "    }\n",
              "    90% {\n",
              "      border-color: transparent;\n",
              "      border-bottom-color: var(--fill-color);\n",
              "    }\n",
              "  }\n",
              "</style>\n",
              "\n",
              "  <script>\n",
              "    async function quickchart(key) {\n",
              "      const quickchartButtonEl =\n",
              "        document.querySelector('#' + key + ' button');\n",
              "      quickchartButtonEl.disabled = true;  // To prevent multiple clicks.\n",
              "      quickchartButtonEl.classList.add('colab-df-spinner');\n",
              "      try {\n",
              "        const charts = await google.colab.kernel.invokeFunction(\n",
              "            'suggestCharts', [key], {});\n",
              "      } catch (error) {\n",
              "        console.error('Error during call to suggestCharts:', error);\n",
              "      }\n",
              "      quickchartButtonEl.classList.remove('colab-df-spinner');\n",
              "      quickchartButtonEl.classList.add('colab-df-quickchart-complete');\n",
              "    }\n",
              "    (() => {\n",
              "      let quickchartButtonEl =\n",
              "        document.querySelector('#df-aa2b399b-67ef-4526-a9cc-43e79245468a button');\n",
              "      quickchartButtonEl.style.display =\n",
              "        google.colab.kernel.accessAllowed ? 'block' : 'none';\n",
              "    })();\n",
              "  </script>\n",
              "</div>\n",
              "\n",
              "    </div>\n",
              "  </div>\n"
            ],
            "application/vnd.google.colaboratory.intrinsic+json": {
              "type": "dataframe",
              "variable_name": "df2",
              "summary": "{\n  \"name\": \"df2\",\n  \"rows\": 53,\n  \"fields\": [\n    {\n      \"column\": \"ID\",\n      \"properties\": {\n        \"dtype\": \"number\",\n        \"std\": 15,\n        \"min\": 1,\n        \"max\": 53,\n        \"num_unique_values\": 53,\n        \"samples\": [\n          20,\n          42,\n          48\n        ],\n        \"semantic_type\": \"\",\n        \"description\": \"\"\n      }\n    },\n    {\n      \"column\": \"sales\",\n      \"properties\": {\n        \"dtype\": \"number\",\n        \"std\": 1.0095695960312836,\n        \"min\": -1.4474385960466722,\n        \"max\": 4.3560990944375115,\n        \"num_unique_values\": 49,\n        \"samples\": [\n          0.023737916401241572,\n          0.4194336680251632,\n          -0.6357550029719612\n        ],\n        \"semantic_type\": \"\",\n        \"description\": \"\"\n      }\n    },\n    {\n      \"column\": \"insta_post\",\n      \"properties\": {\n        \"dtype\": \"number\",\n        \"std\": 1.0095695960312834,\n        \"min\": -0.3227486121839514,\n        \"max\": 3.098386676965933,\n        \"num_unique_values\": 2,\n        \"samples\": [\n          3.098386676965933,\n          -0.3227486121839514\n        ],\n        \"semantic_type\": \"\",\n        \"description\": \"\"\n      }\n    },\n    {\n      \"column\": \"insta_good\",\n      \"properties\": {\n        \"dtype\": \"number\",\n        \"std\": 1.0095695960312838,\n        \"min\": -1.0996993663998489,\n        \"max\": 3.1501804766662342,\n        \"num_unique_values\": 35,\n        \"samples\": [\n          -0.49257367453326567,\n          -0.4058414328380395\n        ],\n        \"semantic_type\": \"\",\n        \"description\": \"\"\n      }\n    },\n    {\n      \"column\": \"flyer\",\n      \"properties\": {\n        \"dtype\": \"number\",\n        \"std\": 1.0095695960312838,\n        \"min\": -0.5117663157191591,\n        \"max\": 1.9540168418367894,\n        \"num_unique_values\": 2,\n        \"samples\": [\n          1.9540168418367894,\n          -0.5117663157191591\n        ],\n        \"semantic_type\": \"\",\n        \"description\": \"\"\n      }\n    },\n    {\n      \"column\": \"event\",\n      \"properties\": {\n        \"dtype\": \"number\",\n        \"std\": 1.0095695960312836,\n        \"min\": -0.1386750490563073,\n        \"max\": 7.211102550927979,\n        \"num_unique_values\": 2,\n        \"samples\": [\n          7.211102550927979,\n          -0.1386750490563073\n        ],\n        \"semantic_type\": \"\",\n        \"description\": \"\"\n      }\n    },\n    {\n      \"column\": \"new_item\",\n      \"properties\": {\n        \"dtype\": \"number\",\n        \"std\": 1.0095695960312836,\n        \"min\": -0.19802950859533486,\n        \"max\": 5.049752469181039,\n        \"num_unique_values\": 2,\n        \"samples\": [\n          5.049752469181039,\n          -0.19802950859533486\n        ],\n        \"semantic_type\": \"\",\n        \"description\": \"\"\n      }\n    },\n    {\n      \"column\": \"holiday\",\n      \"properties\": {\n        \"dtype\": \"number\",\n        \"std\": 1.0095695960312836,\n        \"min\": -0.657595949221429,\n        \"max\": 1.5206906325745548,\n        \"num_unique_values\": 2,\n        \"samples\": [\n          1.5206906325745548,\n          -0.657595949221429\n        ],\n        \"semantic_type\": \"\",\n        \"description\": \"\"\n      }\n    }\n  ]\n}"
            }
          },
          "metadata": {},
          "execution_count": 11
        }
      ],
      "source": [
        "# データフレームの各列を正規化\n",
        "df2 = df.apply(lambda x: (x - np.mean(x)) / np.std(x))\n",
        "df2.head()"
      ]
    },
    {
      "cell_type": "code",
      "execution_count": null,
      "metadata": {
        "id": "yoorcsthaKQU"
      },
      "outputs": [],
      "source": [
        "# 説明変数\n",
        "X = df2.iloc[:, 1:7].values\n",
        "\n",
        "# 目的変数\n",
        "Y = df2.iloc[:, 0].values"
      ]
    },
    {
      "cell_type": "code",
      "execution_count": null,
      "metadata": {
        "colab": {
          "base_uri": "https://localhost:8080/"
        },
        "id": "md_am7mlaKQU",
        "outputId": "079b331e-fab9-45d3-b361-7e6c949699ef"
      },
      "outputs": [
        {
          "output_type": "stream",
          "name": "stdout",
          "text": [
            "         Name  Coefficients\n",
            "4    new_item      0.075220\n",
            "5     holiday      0.123663\n",
            "0  insta_post      0.144937\n",
            "1  insta_good      0.240394\n",
            "3       event      0.338815\n",
            "2       flyer      0.424020\n",
            "1.713800285331052e-17\n"
          ]
        }
      ],
      "source": [
        "# 予測モデルを作成\n",
        "clf.fit(X, Y)\n",
        "\n",
        "# 偏回帰係数\n",
        "df2_except_sales = df2.iloc[:, 1:7]\n",
        "print(pd.DataFrame({\"Name\":df2_except_sales.columns,\n",
        "                    \"Coefficients\":np.abs(clf.coef_)}).sort_values(by='Coefficients'))\n",
        "\n",
        "# 切片\n",
        "print(clf.intercept_)"
      ]
    },
    {
      "cell_type": "markdown",
      "source": [
        "要検討：偏回帰係数を表示するとき、なぜ、絶対値をとっているのか？"
      ],
      "metadata": {
        "id": "la3N0PwLzWjq"
      }
    },
    {
      "cell_type": "markdown",
      "metadata": {
        "id": "gV9VP5KVaKQU"
      },
      "source": [
        "各変数の偏回帰係数と重回帰の式の切片が分かりました。\n",
        "\n",
        "正規化した偏回帰係数によって、売上個数に影響を与えている変数を確認することができます。"
      ]
    },
    {
      "cell_type": "markdown",
      "metadata": {
        "id": "ev3WMnu_aKQV"
      },
      "source": [
        "### 線形回帰（教師あり学習）"
      ]
    },
    {
      "cell_type": "markdown",
      "metadata": {
        "id": "Tc0AzAe1aKQV"
      },
      "source": [
        "学習用データとテストデータを用いて、線形回帰（重回帰分析）を行います。  \n",
        "先程、正規化したデータを使います。"
      ]
    },
    {
      "cell_type": "code",
      "execution_count": null,
      "metadata": {
        "id": "cgsoRey6aKQV"
      },
      "outputs": [],
      "source": [
        "# 説明変数\n",
        "X = df2.iloc[:, 1:7].values\n",
        "\n",
        "# 目的変数\n",
        "Y = df2.iloc[:, 0].values\n",
        "\n",
        "#学習用データとテスト用データを7:3に分割する\n",
        "from sklearn.model_selection import train_test_split\n",
        "X_train, X_test, Y_train, Y_test = train_test_split(X, Y, test_size=0.3)"
      ]
    },
    {
      "cell_type": "code",
      "execution_count": null,
      "metadata": {
        "colab": {
          "base_uri": "https://localhost:8080/"
        },
        "id": "KzDrynifaKQV",
        "outputId": "1f717659-5d03-466e-cdf3-acb50f518933"
      },
      "outputs": [
        {
          "output_type": "stream",
          "name": "stdout",
          "text": [
            "         Name  Coefficients\n",
            "4    new_item     -0.338937\n",
            "5     holiday      0.031755\n",
            "2       flyer      0.081258\n",
            "0  insta_post      0.145853\n",
            "3       event      0.300037\n",
            "1  insta_good      0.568901\n",
            "-0.12498112683644491\n"
          ]
        }
      ],
      "source": [
        "# 予測モデルを作成\n",
        "model = linear_model.LinearRegression()\n",
        "model.fit(X_train, Y_train)\n",
        "\n",
        "# 偏回帰係数\n",
        "df2_except_sales = df2.iloc[:, 1:7]\n",
        "print(pd.DataFrame({\"Name\":df2_except_sales.columns,\n",
        "                    \"Coefficients\":model.coef_}).sort_values(by='Coefficients') )\n",
        "\n",
        "# 切片\n",
        "print(model.intercept_)"
      ]
    },
    {
      "cell_type": "markdown",
      "metadata": {
        "id": "sGEacpcdaKQW"
      },
      "source": [
        "学習データにおける各変数の偏回帰係数と重回帰の式の切片が分かりました。  "
      ]
    },
    {
      "cell_type": "markdown",
      "metadata": {
        "id": "ZO4cXxcObLx1"
      },
      "source": [
        "訓練データとテストデータのそれぞれに対して、予測値と実測値の平均二乗誤差を求めてみます。"
      ]
    },
    {
      "cell_type": "code",
      "execution_count": null,
      "metadata": {
        "colab": {
          "base_uri": "https://localhost:8080/"
        },
        "id": "y4oGd1QEaKQW",
        "outputId": "dc96d7be-7346-416f-98fd-1905a33a9e96"
      },
      "outputs": [
        {
          "output_type": "stream",
          "name": "stdout",
          "text": [
            "X_trainを使ったモデルの平均二乗誤差＝0.25\n",
            "X_testを使ったモデルの平均二乗誤差＝0.63\n"
          ]
        }
      ],
      "source": [
        "pred_train = model.predict(X_train)\n",
        "pred_test = model.predict(X_test)\n",
        "\n",
        "print('X_trainを使ったモデルの平均二乗誤差＝{:0.2f}'.format(np.mean((np.array(Y_train, dtype = int) - pred_train) ** 2)))\n",
        "print('X_testを使ったモデルの平均二乗誤差＝{:0.2f}'.format(np.mean((np.array(Y_test, dtype = int) - pred_test) ** 2)))"
      ]
    },
    {
      "cell_type": "markdown",
      "source": [
        "また、残差プロット（横軸に予測値、縦軸に実際の値との差をプロットしたもの）をプロットします。\n",
        "残差プロットは、y=0の水平線に近いほど、良い精度のデータといえます"
      ],
      "metadata": {
        "id": "mYiqUzoBVnKy"
      }
    },
    {
      "cell_type": "code",
      "execution_count": null,
      "metadata": {
        "id": "EmgFifosaKQZ",
        "outputId": "7ff76aef-37a5-45ad-9687-d98520f563a7",
        "colab": {
          "base_uri": "https://localhost:8080/",
          "height": 470
        }
      },
      "outputs": [
        {
          "output_type": "execute_result",
          "data": {
            "text/plain": [
              "Text(0.5, 1.0, 'Residual Plots')"
            ]
          },
          "metadata": {},
          "execution_count": 18
        },
        {
          "output_type": "display_data",
          "data": {
            "text/plain": [
              "<Figure size 640x480 with 1 Axes>"
            ],
            "image/png": "[encoded data removed]"
          },
          "metadata": {}
        }
      ],
      "source": [
        "# 学習用データの残差プロット\n",
        "train = plt.scatter(pred_train,(pred_train-Y_train),c='b',alpha=0.5)\n",
        "\n",
        "# テスト用データの残差プロット\n",
        "test = plt.scatter(pred_test,(pred_test-Y_test),c='r',alpha=0.5)\n",
        "\n",
        "# y=0の水平線\n",
        "plt.hlines(y=0,xmin=-8,xmax=8)\n",
        "\n",
        "plt.legend((train,test),('Training','Test'),loc='lower left')\n",
        "plt.title('Residual Plots')"
      ]
    }
  ],
  "metadata": {
    "colab": {
      "provenance": [],
      "toc_visible": true,
      "include_colab_link": true
    },
    "kernelspec": {
      "display_name": "Python 3",
      "language": "python",
      "name": "python3"
    },
    "language_info": {
      "codemirror_mode": {
        "name": "ipython",
        "version": 3
      },
      "file_extension": ".py",
      "mimetype": "text/x-python",
      "name": "python",
      "nbconvert_exporter": "python",
      "pygments_lexer": "ipython3",
      "version": "3.7.4"
    }
  },
  "nbformat": 4,
  "nbformat_minor": 0
}