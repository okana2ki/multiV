{
  "nbformat": 4,
  "nbformat_minor": 0,
  "metadata": {
    "colab": {
      "provenance": []
    },
    "kernelspec": {
      "name": "python3",
      "display_name": "Python 3"
    },
    "language_info": {
      "name": "python"
    }
  },
  "cells": [
    {
      "cell_type": "markdown",
      "source": [
        "# if文の練習"
      ],
      "metadata": {
        "id": "A0gkFnBbXPtt"
      }
    },
    {
      "cell_type": "markdown",
      "source": [
        "年齢を尋ねて、18歳以上かそうでないかに応じてメッセージを出力するPythonプログラムを書いて下さい。"
      ],
      "metadata": {
        "id": "2mzw-jE1WQZv"
      }
    },
    {
      "cell_type": "code",
      "execution_count": null,
      "metadata": {
        "id": "gAI0mELlWOpd"
      },
      "outputs": [],
      "source": []
    },
    {
      "cell_type": "markdown",
      "source": [
        "# for文の練習"
      ],
      "metadata": {
        "id": "3CXNC99oZjcT"
      }
    },
    {
      "cell_type": "markdown",
      "source": [
        "整数のリストから、3の倍数だけを取り出すPythonプログラムをfor文を使って書いて下さい。"
      ],
      "metadata": {
        "id": "5RTzR_1SZq5q"
      }
    },
    {
      "cell_type": "code",
      "source": [],
      "metadata": {
        "id": "RJVBK0y1aR7w"
      },
      "execution_count": null,
      "outputs": []
    },
    {
      "cell_type": "markdown",
      "source": [
        "（参考）リスト内包表記を使うと、より簡潔に書くことができます。"
      ],
      "metadata": {
        "id": "g0vHkdAKi2Sj"
      }
    }
  ]
}