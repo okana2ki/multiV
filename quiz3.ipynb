{
  "nbformat": 4,
  "nbformat_minor": 0,
  "metadata": {
    "colab": {
      "provenance": [],
      "include_colab_link": true
    },
    "kernelspec": {
      "name": "python3",
      "display_name": "Python 3"
    },
    "language_info": {
      "name": "python"
    }
  },
  "cells": [
    {
      "cell_type": "markdown",
      "metadata": {
        "id": "view-in-github",
        "colab_type": "text"
      },
      "source": [
        "<a href=\"https://colab.research.google.com/github/okana2ki/multiV/blob/main/quiz3.ipynb\" target=\"_parent\"><img src=\"https://colab.research.google.com/assets/colab-badge.svg\" alt=\"Open In Colab\"/></a>"
      ]
    },
    {
      "cell_type": "markdown",
      "source": [
        "# if文の練習"
      ],
      "metadata": {
        "id": "A0gkFnBbXPtt"
      }
    },
    {
      "cell_type": "markdown",
      "source": [
        "問１：年齢を尋ねて、18歳以上かそうでないかに応じてメッセージを出力するPythonプログラムをif文を使って書いて下さい。"
      ],
      "metadata": {
        "id": "2mzw-jE1WQZv"
      }
    },
    {
      "cell_type": "code",
      "execution_count": null,
      "metadata": {
        "id": "gAI0mELlWOpd"
      },
      "outputs": [],
      "source": []
    },
    {
      "cell_type": "markdown",
      "source": [
        "問２：問１で作成したプログラムについて、下記の点を確認して下さい。\n",
        "\n",
        "* 全角数字で年齢を入力したら、どうなりますか？\n",
        "* `15歳` のように入力したら、どうなりますか？\n",
        "* `24です` のように入力したら、どうなりますか？\n",
        "* `-3` のように負の数を入力したら、どうなりますか？\n",
        "* `10018` のような大きな数を入力したら、どうなりますか？\n",
        "* `3.6` のように小数を入力したら、どうなりますか？\n",
        "\n",
        "**実用システム**を開発するときは、このような、**ありとあらゆる入力に対して、適切に応答する必要**があります。考えられるすべてのケースに対して適切に応答できるよう、プログラムを改良して下さい。\n",
        "\n"
      ],
      "metadata": {
        "id": "0rM6if7EocUB"
      }
    },
    {
      "cell_type": "code",
      "source": [],
      "metadata": {
        "id": "r93YAkVyr8t0"
      },
      "execution_count": null,
      "outputs": []
    },
    {
      "cell_type": "markdown",
      "source": [
        "生成AIは、問２で考えたようないろいろなケースに対応できる、より望ましいプログラムを書く力を備えています。しかし、それにも関わらず、最初にあなたが、問１の問題をコピペしてプログラム作成を依頼したときには、そのようなプログラムは生成しなかったと思います。これは**プログラム生成に限らず生成AIが一般的に持っている性質**です。すなわち、**生成AIはとてもたくさんのことを知っていますが、それを聞き出すには、対話者の力量が必要**です。\n",
        "\n",
        "一般的な質問や依頼をするだけでは、問１に対するプログラムのような、一般的なそこそこの出力を生成してくるだけです。そこから、**さらにやりとりを重ねてより的確な答を引き出せるかどうかは、あなたの知識や経験や想像力にかかっています**。そういう訳で、「生成AIが使えるから勉強する必要はなくなった」ということは決してありません。みなさん、**（生成AI時代に必要な）勉強を続けましょう！**"
      ],
      "metadata": {
        "id": "-ey7ar1al8Mc"
      }
    },
    {
      "cell_type": "markdown",
      "source": [
        "# for文の練習"
      ],
      "metadata": {
        "id": "3CXNC99oZjcT"
      }
    },
    {
      "cell_type": "markdown",
      "source": [
        "問３：整数のリストから、3の倍数だけを取り出すPythonプログラムをfor文を使って書いて下さい。"
      ],
      "metadata": {
        "id": "5RTzR_1SZq5q"
      }
    },
    {
      "cell_type": "code",
      "source": [],
      "metadata": {
        "id": "RJVBK0y1aR7w"
      },
      "execution_count": null,
      "outputs": []
    },
    {
      "cell_type": "markdown",
      "source": [
        "（参考）リスト内包表記を使うと、より簡潔に書くことができます。"
      ],
      "metadata": {
        "id": "g0vHkdAKi2Sj"
      }
    },
    {
      "cell_type": "code",
      "source": [],
      "metadata": {
        "id": "hLRGihBksUTY"
      },
      "execution_count": null,
      "outputs": []
    }
  ]
}