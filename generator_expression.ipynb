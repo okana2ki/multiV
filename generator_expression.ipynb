{
  "nbformat": 4,
  "nbformat_minor": 0,
  "metadata": {
    "colab": {
      "provenance": []
    },
    "kernelspec": {
      "name": "python3",
      "display_name": "Python 3"
    },
    "language_info": {
      "name": "python"
    }
  },
  "cells": [
    {
      "cell_type": "markdown",
      "source": [
        "# ジェネレータ式"
      ],
      "metadata": {
        "id": "bK6jxmY8iAHQ"
      }
    },
    {
      "cell_type": "markdown",
      "source": [
        "The **join()** method in Python is used to join a sequence of strings into a single string. It takes an **iterable object** as an argument and returns a string that is a concatenation of all the strings in the iterable object separated by a separator string.\n",
        "The **generator expression** returns an iterable object.\n",
        "ジェネレータ式 (generator expression) とは、丸括弧を使ったコンパクトなジェネレータ表記法です。\n",
        "関数の唯一の引数として渡す場合には、丸括弧を省略できます。"
      ],
      "metadata": {
        "id": "FnhD2-PO_LmG"
      }
    },
    {
      "cell_type": "code",
      "execution_count": 1,
      "metadata": {
        "colab": {
          "base_uri": "https://localhost:8080/"
        },
        "id": "eTuNdVZoztH6",
        "outputId": "09faf9d2-af05-4786-f360-1d486c4d5035"
      },
      "outputs": [
        {
          "output_type": "stream",
          "name": "stdout",
          "text": [
            "0 1 2 3 4 5 6 7 8 9 10 11 12 13 14 15 16 17 18 19\n"
          ]
        }
      ],
      "source": [
        "n = \" \".join(str(i) for i in range(20))\n",
        "print(n)"
      ]
    },
    {
      "cell_type": "code",
      "source": [
        "n = \" \".join((str(i) for i in range(20)))\n",
        "print(n)"
      ],
      "metadata": {
        "colab": {
          "base_uri": "https://localhost:8080/"
        },
        "id": "-0kPhRsw-5Cm",
        "outputId": "656b08c0-7b53-4626-e323-4a5bd82bc4f4"
      },
      "execution_count": 3,
      "outputs": [
        {
          "output_type": "stream",
          "name": "stdout",
          "text": [
            "0 1 2 3 4 5 6 7 8 9 10 11 12 13 14 15 16 17 18 19\n"
          ]
        }
      ]
    },
    {
      "cell_type": "markdown",
      "source": [
        "# リストの内包表記"
      ],
      "metadata": {
        "id": "2Oo4bao3_p32"
      }
    },
    {
      "cell_type": "code",
      "source": [
        "n = \" \".join([str(i) for i in range(20)])\n",
        "print(n)"
      ],
      "metadata": {
        "colab": {
          "base_uri": "https://localhost:8080/"
        },
        "id": "rQun2RlK2zMx",
        "outputId": "4c5dd94d-d059-4335-94f8-2a87cb8ed07e"
      },
      "execution_count": 2,
      "outputs": [
        {
          "output_type": "stream",
          "name": "stdout",
          "text": [
            "0 1 2 3 4 5 6 7 8 9 10 11 12 13 14 15 16 17 18 19\n"
          ]
        }
      ]
    }
  ]
}