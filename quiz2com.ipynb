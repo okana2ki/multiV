{
  "nbformat": 4,
  "nbformat_minor": 0,
  "metadata": {
    "colab": {
      "provenance": [],
      "include_colab_link": true
    },
    "kernelspec": {
      "name": "python3",
      "display_name": "Python 3"
    },
    "language_info": {
      "name": "python"
    }
  },
  "cells": [
    {
      "cell_type": "markdown",
      "metadata": {
        "id": "view-in-github",
        "colab_type": "text"
      },
      "source": [
        "<a href=\"https://colab.research.google.com/github/okana2ki/multiV/blob/main/quiz2com.ipynb\" target=\"_parent\"><img src=\"https://colab.research.google.com/assets/colab-badge.svg\" alt=\"Open In Colab\"/></a>"
      ]
    },
    {
      "cell_type": "markdown",
      "source": [
        "まず、↑上の「**ドライブにコピー**」をクリックして、このノートブックを自分のGoogleドライブにコピーして下さい。コピーを終えたら、以下の通り進めて下さい。\n",
        "\n",
        "以下の各問に答えなさい。それぞれの問題は以下の手順で解いて下さい。\n",
        "1.   まず、自分で必要な関数などを調べて、プログラムを書いて、実行してみて下さい。\n",
        "2.   行き詰った場合、エラーが出て分からない場合、どうしてよいか分からない場合は、Colab AIやChatGPTなど（ https://okana2ki.wordpress.com/llm-chatbot/ ）で尋ねてもらって構いません。しかし、その場合は、以下の点に注意して下さい：\n",
        "\n",
        "*   プログラムが**実行できて期待した結果が出る**ことを必ず確認して下さい。エラーが出る場合や、期待した結果と異なる場合は、自分で原因を突き止めるか、Colab AIやChatGPTなどに相談して、解決して下さい。\n",
        "*   知らない関数や、その他、分からない点は、自分で調べるか、Colab AIやChatGPTなどに尋ねることによって、**プログラムを理解した上で**、解答を提出して下さい。\n",
        "\n",
        "提出方法は次の通りです：\n",
        "\n",
        "1.   Googleドライブの「マイドライブ」の「Colab Notebooks」のファイル一覧から該当ファイルを見つけ、そのファイルの一番右の「縦に点が3つ並んだボタン（その他の操作）」をクリック。\n",
        "2.   プルダウンメニューから「共有」をクリック。\n",
        "3.   「一般的なアクセス」の「制限付き」をクリックして、「リンクを知っている全員」をクリック。\n",
        "4.   「閲覧者」をクリックして「編集者」をクリック。\n",
        "5.   「リンクをコピー」をクリック。\n",
        "6.   コピーされたリンクを、moodleの提出先に、**リンクとしてペースト**して提出。**クリックできるリンクを作成するには**、「鎖マークのボタン」をクリックし、そこのURL欄にリンクをペースト（貼り付け）して下さい。\n",
        "\n",
        "以下の問題は、ChainerチュートリアルのStep 1 の演習問題（ https://tutorials.chainer.org/ja/Exercise_Step_01.html ）を参考に作成しました。"
      ],
      "metadata": {
        "id": "97o-gat8muKA"
      }
    },
    {
      "cell_type": "markdown",
      "source": [
        "\n",
        "\n",
        "---"
      ],
      "metadata": {
        "id": "Hu1yq5UkpmbF"
      }
    },
    {
      "cell_type": "markdown",
      "source": [
        "問１：リスト a の要素を合計するPythonプログラムを下のコードセルに書きなさい。また、いろいろなリストに対してそのプログラムが正しく動作することを確認しなさい。ヒント：空リストもリストの一種ですが、空リストでも正しく動作しますか？"
      ],
      "metadata": {
        "id": "kUzcZE44Zvat"
      }
    },
    {
      "cell_type": "code",
      "execution_count": 1,
      "metadata": {
        "id": "02K0uQF6Za-4",
        "colab": {
          "base_uri": "https://localhost:8080/"
        },
        "outputId": "9537fa28-ba22-496e-97df-02a359f3185c"
      },
      "outputs": [
        {
          "output_type": "stream",
          "name": "stdout",
          "text": [
            "Sum of list1: 15\n",
            "Sum of list2: 60\n",
            "Sum of list3: 0\n"
          ]
        }
      ],
      "source": [
        "# prompt: リスト a の要素を合計するプログラムを書いて\n",
        "\n",
        "def sum_of_list(a):\n",
        "  \"\"\"\n",
        "  Calculates the sum of all elements in a list.\n",
        "\n",
        "  Args:\n",
        "      a: A list of numbers.\n",
        "\n",
        "  Returns:\n",
        "      The sum of all elements in the list.\n",
        "  \"\"\"\n",
        "\n",
        "  sum = 0\n",
        "  for element in a:\n",
        "    sum += element\n",
        "  return sum\n",
        "\n",
        "# Test the function with various lists\n",
        "list1 = [1, 2, 3, 4, 5]\n",
        "list2 = [10, 20, 30]\n",
        "list3 = []\n",
        "\n",
        "print(\"Sum of list1:\", sum_of_list(list1))\n",
        "print(\"Sum of list2:\", sum_of_list(list2))\n",
        "print(\"Sum of list3:\", sum_of_list(list3))\n"
      ]
    },
    {
      "cell_type": "markdown",
      "source": [
        "* **空リストでの動作も確認していることは重要。**\n",
        "* 一般的に、**極端な例での動作確認が必要**。極端な例の扱いはバグを含みやすいので。ここでは空リストが極端な例。\n",
        "\n"
      ],
      "metadata": {
        "id": "MB20-MFxDpDs"
      }
    },
    {
      "cell_type": "markdown",
      "source": [
        "上級者用のおまけ問題 問１´：問１において、リストの要素が文字列だった場合、どうなりますか？文字列でも数値でも動作するようにできますか？文字列でも動作するとは、リスト`['a', 'b', 'c']`の要素を足し合わせると`'abc'`になるといった具合です。ヒント：文字列と数値で場合分けする必要があると思います。場合分け不要の洗練された方法があるかもしれませんが。\n",
        "\n",
        "この「問１´」のような、**普通見ないような問題は、生成AIは苦手で、エラーが出るプログラムや、仕様通りの答が出ないプログラムを生成する可能性が高くなります**。それを経験してもらうための問題として「問１´」を作りました。**このような場合に、望むプログラムを作るためには、AIとどのようにやりとりをしたらいいか**、ぜひ、試行錯誤してみて下さい。"
      ],
      "metadata": {
        "id": "ktmyauhwfIBw"
      }
    },
    {
      "cell_type": "code",
      "source": [
        "# prompt: リスト a の要素を合計するプログラムを書いて。ただし、リストの要素が文字列でも数値でも動作するようにして。文字列でも動作するとは、リスト['a', 'b', 'c']の要素を足し合わせると'abc'になるといった具合です。数値でも動作するとは、要素の数値を文字列に変換せず数値のまま足し算することです。ヒント：合計値を格納する変数の初期値を、要素が文字列と数値で場合分けして決める必要があると思います。\n",
        "\n",
        "def sum_of_list(a):\n",
        "  \"\"\"\n",
        "  Calculates the sum of all elements in a list, regardless of their type.\n",
        "\n",
        "  Args:\n",
        "      a: A list of elements.\n",
        "\n",
        "  Returns:\n",
        "      The sum of all elements in the list.\n",
        "  \"\"\"\n",
        "\n",
        "  sum = 0\n",
        "  if isinstance(a[0], str):\n",
        "    # If the first element is a string, initialize sum as an empty string\n",
        "    sum = \"\"\n",
        "  for element in a:\n",
        "    sum += element\n",
        "  return sum\n",
        "\n",
        "# Test the function with various lists\n",
        "list1 = [1, 2, 3, 4, 5]\n",
        "list2 = [10, 20, 30]\n",
        "list3 = ['a', 'b', 'c']\n",
        "\n",
        "print(\"Sum of list1:\", sum_of_list(list1))\n",
        "print(\"Sum of list2:\", sum_of_list(list2))\n",
        "print(\"Sum of list3:\", sum_of_list(list3))\n"
      ],
      "metadata": {
        "id": "owJJUCkfgVbz",
        "colab": {
          "base_uri": "https://localhost:8080/"
        },
        "outputId": "0170fbaf-ca6e-4ebe-c321-742257e441d9"
      },
      "execution_count": 15,
      "outputs": [
        {
          "output_type": "stream",
          "name": "stdout",
          "text": [
            "Sum of list1: 15\n",
            "Sum of list2: 60\n",
            "Sum of list3: abc\n"
          ]
        }
      ]
    },
    {
      "cell_type": "markdown",
      "source": [
        "ここでのポイントは、「**合計値を格納する変数の初期値を**、要素が文字列と数値で**場合分けして決める必要がある**」ということと、**それをAIに伝えることで適切なプログラムを生成**させているということ。"
      ],
      "metadata": {
        "id": "rV9E_mgLQlaH"
      }
    },
    {
      "cell_type": "markdown",
      "source": [
        "問２：リスト a の要素を小さい順にソートするPythonプログラムを下のコードセルに書きなさい。また、いろいろなリストに対してそのプログラムが正しく動作することを確認しなさい。"
      ],
      "metadata": {
        "id": "9DxeY53dcsku"
      }
    },
    {
      "cell_type": "code",
      "source": [
        "# prompt: リスト a の要素を小さい順にソートするプログラムを書いて。いろいろなリストに対して正しく動作することを確認して。\n",
        "\n",
        "def sort_list(a):\n",
        "  \"\"\"\n",
        "  Sorts a list of elements in ascending order.\n",
        "\n",
        "  Args:\n",
        "      a: A list of elements.\n",
        "\n",
        "  Returns:\n",
        "      The sorted list.\n",
        "  \"\"\"\n",
        "\n",
        "  return sorted(a)\n",
        "\n",
        "# Test the function with various lists\n",
        "list1 = [5, 2, 3, 4, 1]\n",
        "list2 = [10, 20, 30]\n",
        "list3 = ['c', 'b', 'a']\n",
        "\n",
        "print(\"Sorted list1:\", sort_list(list1))\n",
        "print(\"Sorted list2:\", sort_list(list2))\n",
        "print(\"Sorted list3:\", sort_list(list3))\n"
      ],
      "metadata": {
        "id": "Z22yZTyEcYJs",
        "colab": {
          "base_uri": "https://localhost:8080/"
        },
        "outputId": "b95bc533-b1dc-4625-9643-98bf252f274c"
      },
      "execution_count": 16,
      "outputs": [
        {
          "output_type": "stream",
          "name": "stdout",
          "text": [
            "Sorted list1: [1, 2, 3, 4, 5]\n",
            "Sorted list2: [10, 20, 30]\n",
            "Sorted list3: ['a', 'b', 'c']\n"
          ]
        }
      ]
    },
    {
      "cell_type": "markdown",
      "source": [
        "ここでのポイントは、文字列が要素のリストもソートできていること。他の例も試してみましょう。文字コードでソートされるので、辞書順と似ていますが異なる点もあるので注意。"
      ],
      "metadata": {
        "id": "M9CdQNtOTtDB"
      }
    },
    {
      "cell_type": "code",
      "source": [
        "print(sorted(['a', 'aa', 'ab', 'b', 'ba', 'A', 'ABC', '1', '2', '0', '10']))"
      ],
      "metadata": {
        "colab": {
          "base_uri": "https://localhost:8080/"
        },
        "id": "n2kv2KlLT70S",
        "outputId": "fcce6429-585a-46ee-a071-1dededb5b162"
      },
      "execution_count": 18,
      "outputs": [
        {
          "output_type": "stream",
          "name": "stdout",
          "text": [
            "['0', '1', '10', '2', 'A', 'ABC', 'a', 'aa', 'ab', 'b', 'ba']\n"
          ]
        }
      ]
    },
    {
      "cell_type": "code",
      "source": [
        "print(sorted(['apple', 'apricot', 'aardvark']))"
      ],
      "metadata": {
        "colab": {
          "base_uri": "https://localhost:8080/"
        },
        "id": "nXk34qTTZ9gl",
        "outputId": "c323d276-80cf-4b6d-9c64-00ec5de391fd"
      },
      "execution_count": 21,
      "outputs": [
        {
          "output_type": "stream",
          "name": "stdout",
          "text": [
            "['aardvark', 'apple', 'apricot']\n"
          ]
        }
      ]
    },
    {
      "cell_type": "code",
      "source": [
        "print(sorted([]))"
      ],
      "metadata": {
        "colab": {
          "base_uri": "https://localhost:8080/"
        },
        "id": "EddKkBXTVmoe",
        "outputId": "9f18e1db-b604-4fdc-8580-bd41f24d2c0c"
      },
      "execution_count": 20,
      "outputs": [
        {
          "output_type": "stream",
          "name": "stdout",
          "text": [
            "[]\n"
          ]
        }
      ]
    },
    {
      "cell_type": "markdown",
      "source": [
        "問３：リスト a の要素を大きい順にソートするPythonプログラムを下のコードセルに書きなさい。また、いろいろなリストに対してそのプログラムが正しく動作することを確認しなさい。"
      ],
      "metadata": {
        "id": "h3UnpfxyeAdw"
      }
    },
    {
      "cell_type": "code",
      "source": [
        "# prompt: リスト a の要素を大きい順にソートするプログラムを書いて。\n",
        "\n",
        "def sort_list_descending(a):\n",
        "  \"\"\"\n",
        "  Sorts a list of elements in descending order.\n",
        "\n",
        "  Args:\n",
        "      a: A list of elements.\n",
        "\n",
        "  Returns:\n",
        "      The sorted list.\n",
        "  \"\"\"\n",
        "\n",
        "  return sorted(a, reverse=True)\n",
        "\n",
        "# Test the function with various lists\n",
        "list1 = [5, 2, 3, 4, 1]\n",
        "list2 = [10, 20, 30]\n",
        "list3 = ['c', 'b', 'a']\n",
        "\n",
        "print(\"Sorted list1 in descending order:\", sort_list_descending(list1))\n",
        "print(\"Sorted list2 in descending order:\", sort_list_descending(list2))\n",
        "print(\"Sorted list3 in descending order:\", sort_list_descending(list3))\n"
      ],
      "metadata": {
        "id": "qZOx-JJEeEj-",
        "colab": {
          "base_uri": "https://localhost:8080/"
        },
        "outputId": "5515acac-5307-4487-d2b9-7ab244c0fe01"
      },
      "execution_count": 19,
      "outputs": [
        {
          "output_type": "stream",
          "name": "stdout",
          "text": [
            "Sorted list1 in descending order: [5, 4, 3, 2, 1]\n",
            "Sorted list2 in descending order: [30, 20, 10]\n",
            "Sorted list3 in descending order: ['c', 'b', 'a']\n"
          ]
        }
      ]
    },
    {
      "cell_type": "markdown",
      "source": [
        "問４：リスト a の先頭の要素を１つ削除して、末尾に35という値の要素を付け加えるPythonプログラムを下のコードセルに書きなさい。また、いろいろなリストに対してそのプログラムが正しく動作することを確認しなさい。"
      ],
      "metadata": {
        "id": "xjAf30HXe3nR"
      }
    },
    {
      "cell_type": "code",
      "source": [
        "# prompt: リスト a の先頭の要素を１つ削除して、末尾に35という値の要素を付け加えるPythonプログラムを書いて\n",
        "\n",
        "def modify_list(a):\n",
        "  \"\"\"\n",
        "  Removes the first element of a list and adds the value 35 to the end.\n",
        "\n",
        "  Args:\n",
        "      a: A list of elements.\n",
        "\n",
        "  Returns:\n",
        "      The modified list.\n",
        "  \"\"\"\n",
        "\n",
        "  # Remove the first element\n",
        "  a.pop(0)\n",
        "\n",
        "  # Add the value 35 to the end\n",
        "  a.append(35)\n",
        "\n",
        "  return a\n",
        "\n",
        "# Test the function with various lists\n",
        "list1 = [1, 2, 3, 4, 5]\n",
        "list2 = [10, 20, 30]\n",
        "list3 = ['a', 'b', 'c']\n",
        "\n",
        "print(\"Modified list1:\", modify_list(list1))\n",
        "print(\"Modified list2:\", modify_list(list2))\n",
        "print(\"Modified list3:\", modify_list(list3))\n"
      ],
      "metadata": {
        "id": "QjgYZhWNfexL",
        "colab": {
          "base_uri": "https://localhost:8080/"
        },
        "outputId": "76062057-c6a0-4b4e-d136-4b03af6c3404"
      },
      "execution_count": 22,
      "outputs": [
        {
          "output_type": "stream",
          "name": "stdout",
          "text": [
            "Modified list1: [2, 3, 4, 5, 35]\n",
            "Modified list2: [20, 30, 35]\n",
            "Modified list3: ['b', 'c', 35]\n"
          ]
        }
      ]
    },
    {
      "cell_type": "markdown",
      "source": [
        "引数aが**空リストのとき**は、下記のように、エラーが生じることに注意"
      ],
      "metadata": {
        "id": "9poqmYyqcRtE"
      }
    },
    {
      "cell_type": "code",
      "source": [
        "a = []\n",
        "a.pop(0)"
      ],
      "metadata": {
        "colab": {
          "base_uri": "https://localhost:8080/",
          "height": 164
        },
        "id": "kpI5PLT9a_H5",
        "outputId": "9b8718be-ed80-4d4a-c0ba-47252ed8aa5b"
      },
      "execution_count": 24,
      "outputs": [
        {
          "output_type": "error",
          "ename": "IndexError",
          "evalue": "pop from empty list",
          "traceback": [
            "\u001b[0;31m---------------------------------------------------------------------------\u001b[0m",
            "\u001b[0;31mIndexError\u001b[0m                                Traceback (most recent call last)",
            "\u001b[0;32m<ipython-input-24-3698502d3876>\u001b[0m in \u001b[0;36m<cell line: 2>\u001b[0;34m()\u001b[0m\n\u001b[1;32m      1\u001b[0m \u001b[0ma\u001b[0m \u001b[0;34m=\u001b[0m \u001b[0;34m[\u001b[0m\u001b[0;34m]\u001b[0m\u001b[0;34m\u001b[0m\u001b[0;34m\u001b[0m\u001b[0m\n\u001b[0;32m----> 2\u001b[0;31m \u001b[0ma\u001b[0m\u001b[0;34m.\u001b[0m\u001b[0mpop\u001b[0m\u001b[0;34m(\u001b[0m\u001b[0;36m0\u001b[0m\u001b[0;34m)\u001b[0m\u001b[0;34m\u001b[0m\u001b[0;34m\u001b[0m\u001b[0m\n\u001b[0m",
            "\u001b[0;31mIndexError\u001b[0m: pop from empty list"
          ]
        }
      ]
    },
    {
      "cell_type": "markdown",
      "source": [
        "引数が空リストでも実行エラーが起こらないように次の仕様のプログラムを改良して下さい。仕様：リスト a の先頭の要素を１つ削除して、末尾に35という値の要素を付け加える。"
      ],
      "metadata": {
        "id": "bKxjTeMUcwyp"
      }
    },
    {
      "cell_type": "code",
      "source": [
        "# prompt: 引数が空リストでも実行エラーが起こらないように次の仕様のプログラムを改良して下さい。仕様：リスト a の先頭の要素を１つ削除して、末尾に35という値の要素を付け加える。\n",
        "\n",
        "def modify_list(a):\n",
        "  \"\"\"\n",
        "  Removes the first element of a list and adds the value 35 to the end.\n",
        "\n",
        "  Args:\n",
        "      a: A list of elements.\n",
        "\n",
        "  Returns:\n",
        "      The modified list.\n",
        "  \"\"\"\n",
        "\n",
        "  if not a:\n",
        "    # If the list is empty, simply add the value 35\n",
        "    a.append(35)\n",
        "  else:\n",
        "    # Otherwise, remove the first element and add the value 35\n",
        "    a.pop(0)\n",
        "    a.append(35)\n",
        "\n",
        "  return a\n",
        "\n",
        "# Test the function with various lists, including an empty list\n",
        "list1 = [1, 2, 3, 4, 5]\n",
        "list2 = [10, 20, 30]\n",
        "list3 = ['a', 'b', 'c']\n",
        "list4 = []\n",
        "\n",
        "print(\"Modified list1:\", modify_list(list1))\n",
        "print(\"Modified list2:\", modify_list(list2))\n",
        "print(\"Modified list3:\", modify_list(list3))\n",
        "print(\"Modified list4:\", modify_list(list4))\n"
      ],
      "metadata": {
        "colab": {
          "base_uri": "https://localhost:8080/"
        },
        "id": "RWC4M-SMdiKG",
        "outputId": "c43a1826-bcb2-4d58-881b-3f6633e291ab"
      },
      "execution_count": 25,
      "outputs": [
        {
          "output_type": "stream",
          "name": "stdout",
          "text": [
            "Modified list1: [2, 3, 4, 5, 35]\n",
            "Modified list2: [20, 30, 35]\n",
            "Modified list3: ['b', 'c', 35]\n",
            "Modified list4: [35]\n"
          ]
        }
      ]
    },
    {
      "cell_type": "markdown",
      "source": [
        "問５：0 から 19 までの数をスペース区切りで並べた文字列 \"0 1 2 3 4 ... 19\" を作るPythonプログラムを下のコードセルに書きなさい。"
      ],
      "metadata": {
        "id": "psjUR6Dmgmo2"
      }
    },
    {
      "cell_type": "code",
      "source": [],
      "metadata": {
        "id": "KKLIuGzLgj75"
      },
      "execution_count": null,
      "outputs": []
    },
    {
      "cell_type": "markdown",
      "source": [
        "問６：次のプログラムは、リストの先頭の要素10を40に変更することを意図したものですが、バグがあるので修正して下さい。"
      ],
      "metadata": {
        "id": "IVZuwn8sZb-H"
      }
    },
    {
      "cell_type": "code",
      "source": [
        "list1 = (10, 20, 30)\n",
        "list1[1] = 40\n",
        "print(list1)"
      ],
      "metadata": {
        "id": "5fX4Udzxgljo",
        "colab": {
          "base_uri": "https://localhost:8080/",
          "height": 182
        },
        "outputId": "9b0887b2-4aec-44f6-de33-ce52651a60d9"
      },
      "execution_count": 26,
      "outputs": [
        {
          "output_type": "error",
          "ename": "TypeError",
          "evalue": "'tuple' object does not support item assignment",
          "traceback": [
            "\u001b[0;31m---------------------------------------------------------------------------\u001b[0m",
            "\u001b[0;31mTypeError\u001b[0m                                 Traceback (most recent call last)",
            "\u001b[0;32m<ipython-input-26-e14dd88baf29>\u001b[0m in \u001b[0;36m<cell line: 2>\u001b[0;34m()\u001b[0m\n\u001b[1;32m      1\u001b[0m \u001b[0mlist1\u001b[0m \u001b[0;34m=\u001b[0m \u001b[0;34m(\u001b[0m\u001b[0;36m10\u001b[0m\u001b[0;34m,\u001b[0m \u001b[0;36m20\u001b[0m\u001b[0;34m,\u001b[0m \u001b[0;36m30\u001b[0m\u001b[0;34m)\u001b[0m\u001b[0;34m\u001b[0m\u001b[0;34m\u001b[0m\u001b[0m\n\u001b[0;32m----> 2\u001b[0;31m \u001b[0mlist1\u001b[0m\u001b[0;34m[\u001b[0m\u001b[0;36m1\u001b[0m\u001b[0;34m]\u001b[0m \u001b[0;34m=\u001b[0m \u001b[0;36m40\u001b[0m\u001b[0;34m\u001b[0m\u001b[0;34m\u001b[0m\u001b[0m\n\u001b[0m\u001b[1;32m      3\u001b[0m \u001b[0mprint\u001b[0m\u001b[0;34m(\u001b[0m\u001b[0mlist1\u001b[0m\u001b[0;34m)\u001b[0m\u001b[0;34m\u001b[0m\u001b[0;34m\u001b[0m\u001b[0m\n",
            "\u001b[0;31mTypeError\u001b[0m: 'tuple' object does not support item assignment"
          ]
        }
      ]
    },
    {
      "cell_type": "markdown",
      "source": [
        "**バグは2種類あることに注意**。一つは、タプルの要素の値を変更しようとしていること。もう一つは、先頭でなく2番目の要素の変更になってしまっていること。"
      ],
      "metadata": {
        "id": "s_zU1OB1qSxT"
      }
    }
  ]
}