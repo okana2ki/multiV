{
  "cells": [
    {
      "cell_type": "markdown",
      "metadata": {
        "id": "view-in-github",
        "colab_type": "text"
      },
      "source": [
        "<a href=\"https://colab.research.google.com/github/okana2ki/multiV/blob/main/senkei_answer2.ipynb\" target=\"_parent\"><img src=\"https://colab.research.google.com/assets/colab-badge.svg\" alt=\"Open In Colab\"/></a>"
      ]
    },
    {
      "cell_type": "markdown",
      "source": [
        "このノートブックは、以下からダウンロードしたものを改変したものです：\n",
        "\n",
        "[高等学校における「情報II」のためのデータサイエンス・データ解析入門](https://www.stat.go.jp/teacher/comp-learn-04.html)（総務省統計局）"
      ],
      "metadata": {
        "id": "5XoKqeSav8TH"
      }
    },
    {
      "cell_type": "markdown",
      "metadata": {
        "id": "WgyHQa13aKP-"
      },
      "source": [
        "# 1.線形回帰"
      ]
    },
    {
      "cell_type": "markdown",
      "source": [
        "## ライブラリーのインポート"
      ],
      "metadata": {
        "id": "hF7VZ7LAgSrF"
      }
    },
    {
      "cell_type": "code",
      "execution_count": 23,
      "metadata": {
        "id": "FSHdPJfuaKQH"
      },
      "outputs": [],
      "source": [
        "import pandas as pd\n",
        "import numpy as np\n",
        "import matplotlib.pyplot as plt\n",
        "%matplotlib inline"
      ]
    },
    {
      "cell_type": "markdown",
      "source": [
        "## データの読み込み"
      ],
      "metadata": {
        "id": "8SZH8ofHggst"
      }
    },
    {
      "cell_type": "markdown",
      "metadata": {
        "id": "Viop-0-_aKQI"
      },
      "source": [
        "データ内容は以下の通りです。\n",
        "\n",
        "ID：ID  \n",
        "sales：売上個数  \n",
        "insta_post：Instagram投稿数  \n",
        "insta_good：Instagramいいね！数  \n",
        "flyer：チラシ配布枚数  \n",
        "event：イベントあり＝１、イベントなし＝０  \n",
        "new_item：新作発売日＝１  \n",
        "holiday：土日祝＝１"
      ]
    },
    {
      "cell_type": "code",
      "execution_count": 24,
      "metadata": {
        "colab": {
          "base_uri": "https://localhost:8080/",
          "height": 237
        },
        "id": "F7dpbrw-aKQJ",
        "outputId": "f08cc7ba-35b8-49b9-bf77-5335fa05a598"
      },
      "outputs": [
        {
          "output_type": "execute_result",
          "data": {
            "text/plain": [
              "    sales  insta_post  insta_good  flyer  event  new_item  holiday\n",
              "ID                                                                \n",
              "1      62           0          20      0      0         0        0\n",
              "2      60           0          24      0      0         0        0\n",
              "3     104           0          26      0      0         0        0\n",
              "4     102           0          22      0      0         0        0\n",
              "5     178           0          39      0      0         0        1"
            ],
            "text/html": [
              "\n",
              "  <div id=\"df-8b972af7-d533-43d7-8818-903c0b892d51\" class=\"colab-df-container\">\n",
              "    <div>\n",
              "<style scoped>\n",
              "    .dataframe tbody tr th:only-of-type {\n",
              "        vertical-align: middle;\n",
              "    }\n",
              "\n",
              "    .dataframe tbody tr th {\n",
              "        vertical-align: top;\n",
              "    }\n",
              "\n",
              "    .dataframe thead th {\n",
              "        text-align: right;\n",
              "    }\n",
              "</style>\n",
              "<table border=\"1\" class=\"dataframe\">\n",
              "  <thead>\n",
              "    <tr style=\"text-align: right;\">\n",
              "      <th></th>\n",
              "      <th>sales</th>\n",
              "      <th>insta_post</th>\n",
              "      <th>insta_good</th>\n",
              "      <th>flyer</th>\n",
              "      <th>event</th>\n",
              "      <th>new_item</th>\n",
              "      <th>holiday</th>\n",
              "    </tr>\n",
              "    <tr>\n",
              "      <th>ID</th>\n",
              "      <th></th>\n",
              "      <th></th>\n",
              "      <th></th>\n",
              "      <th></th>\n",
              "      <th></th>\n",
              "      <th></th>\n",
              "      <th></th>\n",
              "    </tr>\n",
              "  </thead>\n",
              "  <tbody>\n",
              "    <tr>\n",
              "      <th>1</th>\n",
              "      <td>62</td>\n",
              "      <td>0</td>\n",
              "      <td>20</td>\n",
              "      <td>0</td>\n",
              "      <td>0</td>\n",
              "      <td>0</td>\n",
              "      <td>0</td>\n",
              "    </tr>\n",
              "    <tr>\n",
              "      <th>2</th>\n",
              "      <td>60</td>\n",
              "      <td>0</td>\n",
              "      <td>24</td>\n",
              "      <td>0</td>\n",
              "      <td>0</td>\n",
              "      <td>0</td>\n",
              "      <td>0</td>\n",
              "    </tr>\n",
              "    <tr>\n",
              "      <th>3</th>\n",
              "      <td>104</td>\n",
              "      <td>0</td>\n",
              "      <td>26</td>\n",
              "      <td>0</td>\n",
              "      <td>0</td>\n",
              "      <td>0</td>\n",
              "      <td>0</td>\n",
              "    </tr>\n",
              "    <tr>\n",
              "      <th>4</th>\n",
              "      <td>102</td>\n",
              "      <td>0</td>\n",
              "      <td>22</td>\n",
              "      <td>0</td>\n",
              "      <td>0</td>\n",
              "      <td>0</td>\n",
              "      <td>0</td>\n",
              "    </tr>\n",
              "    <tr>\n",
              "      <th>5</th>\n",
              "      <td>178</td>\n",
              "      <td>0</td>\n",
              "      <td>39</td>\n",
              "      <td>0</td>\n",
              "      <td>0</td>\n",
              "      <td>0</td>\n",
              "      <td>1</td>\n",
              "    </tr>\n",
              "  </tbody>\n",
              "</table>\n",
              "</div>\n",
              "    <div class=\"colab-df-buttons\">\n",
              "\n",
              "  <div class=\"colab-df-container\">\n",
              "    <button class=\"colab-df-convert\" onclick=\"convertToInteractive('df-8b972af7-d533-43d7-8818-903c0b892d51')\"\n",
              "            title=\"Convert this dataframe to an interactive table.\"\n",
              "            style=\"display:none;\">\n",
              "\n",
              "  <svg xmlns=\"http://www.w3.org/2000/svg\" height=\"24px\" viewBox=\"0 -960 960 960\">\n",
              "    <path d=\"M120-120v-720h720v720H120Zm60-500h600v-160H180v160Zm220 220h160v-160H400v160Zm0 220h160v-160H400v160ZM180-400h160v-160H180v160Zm440 0h160v-160H620v160ZM180-180h160v-160H180v160Zm440 0h160v-160H620v160Z\"/>\n",
              "  </svg>\n",
              "    </button>\n",
              "\n",
              "  <style>\n",
              "    .colab-df-container {\n",
              "      display:flex;\n",
              "      gap: 12px;\n",
              "    }\n",
              "\n",
              "    .colab-df-convert {\n",
              "      background-color: #E8F0FE;\n",
              "      border: none;\n",
              "      border-radius: 50%;\n",
              "      cursor: pointer;\n",
              "      display: none;\n",
              "      fill: #1967D2;\n",
              "      height: 32px;\n",
              "      padding: 0 0 0 0;\n",
              "      width: 32px;\n",
              "    }\n",
              "\n",
              "    .colab-df-convert:hover {\n",
              "      background-color: #E2EBFA;\n",
              "      box-shadow: 0px 1px 2px rgba(60, 64, 67, 0.3), 0px 1px 3px 1px rgba(60, 64, 67, 0.15);\n",
              "      fill: #174EA6;\n",
              "    }\n",
              "\n",
              "    .colab-df-buttons div {\n",
              "      margin-bottom: 4px;\n",
              "    }\n",
              "\n",
              "    [theme=dark] .colab-df-convert {\n",
              "      background-color: #3B4455;\n",
              "      fill: #D2E3FC;\n",
              "    }\n",
              "\n",
              "    [theme=dark] .colab-df-convert:hover {\n",
              "      background-color: #434B5C;\n",
              "      box-shadow: 0px 1px 3px 1px rgba(0, 0, 0, 0.15);\n",
              "      filter: drop-shadow(0px 1px 2px rgba(0, 0, 0, 0.3));\n",
              "      fill: #FFFFFF;\n",
              "    }\n",
              "  </style>\n",
              "\n",
              "    <script>\n",
              "      const buttonEl =\n",
              "        document.querySelector('#df-8b972af7-d533-43d7-8818-903c0b892d51 button.colab-df-convert');\n",
              "      buttonEl.style.display =\n",
              "        google.colab.kernel.accessAllowed ? 'block' : 'none';\n",
              "\n",
              "      async function convertToInteractive(key) {\n",
              "        const element = document.querySelector('#df-8b972af7-d533-43d7-8818-903c0b892d51');\n",
              "        const dataTable =\n",
              "          await google.colab.kernel.invokeFunction('convertToInteractive',\n",
              "                                                    [key], {});\n",
              "        if (!dataTable) return;\n",
              "\n",
              "        const docLinkHtml = 'Like what you see? Visit the ' +\n",
              "          '<a target=\"_blank\" href=https://colab.research.google.com/notebooks/data_table.ipynb>data table notebook</a>'\n",
              "          + ' to learn more about interactive tables.';\n",
              "        element.innerHTML = '';\n",
              "        dataTable['output_type'] = 'display_data';\n",
              "        await google.colab.output.renderOutput(dataTable, element);\n",
              "        const docLink = document.createElement('div');\n",
              "        docLink.innerHTML = docLinkHtml;\n",
              "        element.appendChild(docLink);\n",
              "      }\n",
              "    </script>\n",
              "  </div>\n",
              "\n",
              "\n",
              "<div id=\"df-fd45586c-a826-4231-ad8e-18f04ccfd243\">\n",
              "  <button class=\"colab-df-quickchart\" onclick=\"quickchart('df-fd45586c-a826-4231-ad8e-18f04ccfd243')\"\n",
              "            title=\"Suggest charts\"\n",
              "            style=\"display:none;\">\n",
              "\n",
              "<svg xmlns=\"http://www.w3.org/2000/svg\" height=\"24px\"viewBox=\"0 0 24 24\"\n",
              "     width=\"24px\">\n",
              "    <g>\n",
              "        <path d=\"M19 3H5c-1.1 0-2 .9-2 2v14c0 1.1.9 2 2 2h14c1.1 0 2-.9 2-2V5c0-1.1-.9-2-2-2zM9 17H7v-7h2v7zm4 0h-2V7h2v10zm4 0h-2v-4h2v4z\"/>\n",
              "    </g>\n",
              "</svg>\n",
              "  </button>\n",
              "\n",
              "<style>\n",
              "  .colab-df-quickchart {\n",
              "      --bg-color: #E8F0FE;\n",
              "      --fill-color: #1967D2;\n",
              "      --hover-bg-color: #E2EBFA;\n",
              "      --hover-fill-color: #174EA6;\n",
              "      --disabled-fill-color: #AAA;\n",
              "      --disabled-bg-color: #DDD;\n",
              "  }\n",
              "\n",
              "  [theme=dark] .colab-df-quickchart {\n",
              "      --bg-color: #3B4455;\n",
              "      --fill-color: #D2E3FC;\n",
              "      --hover-bg-color: #434B5C;\n",
              "      --hover-fill-color: #FFFFFF;\n",
              "      --disabled-bg-color: #3B4455;\n",
              "      --disabled-fill-color: #666;\n",
              "  }\n",
              "\n",
              "  .colab-df-quickchart {\n",
              "    background-color: var(--bg-color);\n",
              "    border: none;\n",
              "    border-radius: 50%;\n",
              "    cursor: pointer;\n",
              "    display: none;\n",
              "    fill: var(--fill-color);\n",
              "    height: 32px;\n",
              "    padding: 0;\n",
              "    width: 32px;\n",
              "  }\n",
              "\n",
              "  .colab-df-quickchart:hover {\n",
              "    background-color: var(--hover-bg-color);\n",
              "    box-shadow: 0 1px 2px rgba(60, 64, 67, 0.3), 0 1px 3px 1px rgba(60, 64, 67, 0.15);\n",
              "    fill: var(--button-hover-fill-color);\n",
              "  }\n",
              "\n",
              "  .colab-df-quickchart-complete:disabled,\n",
              "  .colab-df-quickchart-complete:disabled:hover {\n",
              "    background-color: var(--disabled-bg-color);\n",
              "    fill: var(--disabled-fill-color);\n",
              "    box-shadow: none;\n",
              "  }\n",
              "\n",
              "  .colab-df-spinner {\n",
              "    border: 2px solid var(--fill-color);\n",
              "    border-color: transparent;\n",
              "    border-bottom-color: var(--fill-color);\n",
              "    animation:\n",
              "      spin 1s steps(1) infinite;\n",
              "  }\n",
              "\n",
              "  @keyframes spin {\n",
              "    0% {\n",
              "      border-color: transparent;\n",
              "      border-bottom-color: var(--fill-color);\n",
              "      border-left-color: var(--fill-color);\n",
              "    }\n",
              "    20% {\n",
              "      border-color: transparent;\n",
              "      border-left-color: var(--fill-color);\n",
              "      border-top-color: var(--fill-color);\n",
              "    }\n",
              "    30% {\n",
              "      border-color: transparent;\n",
              "      border-left-color: var(--fill-color);\n",
              "      border-top-color: var(--fill-color);\n",
              "      border-right-color: var(--fill-color);\n",
              "    }\n",
              "    40% {\n",
              "      border-color: transparent;\n",
              "      border-right-color: var(--fill-color);\n",
              "      border-top-color: var(--fill-color);\n",
              "    }\n",
              "    60% {\n",
              "      border-color: transparent;\n",
              "      border-right-color: var(--fill-color);\n",
              "    }\n",
              "    80% {\n",
              "      border-color: transparent;\n",
              "      border-right-color: var(--fill-color);\n",
              "      border-bottom-color: var(--fill-color);\n",
              "    }\n",
              "    90% {\n",
              "      border-color: transparent;\n",
              "      border-bottom-color: var(--fill-color);\n",
              "    }\n",
              "  }\n",
              "</style>\n",
              "\n",
              "  <script>\n",
              "    async function quickchart(key) {\n",
              "      const quickchartButtonEl =\n",
              "        document.querySelector('#' + key + ' button');\n",
              "      quickchartButtonEl.disabled = true;  // To prevent multiple clicks.\n",
              "      quickchartButtonEl.classList.add('colab-df-spinner');\n",
              "      try {\n",
              "        const charts = await google.colab.kernel.invokeFunction(\n",
              "            'suggestCharts', [key], {});\n",
              "      } catch (error) {\n",
              "        console.error('Error during call to suggestCharts:', error);\n",
              "      }\n",
              "      quickchartButtonEl.classList.remove('colab-df-spinner');\n",
              "      quickchartButtonEl.classList.add('colab-df-quickchart-complete');\n",
              "    }\n",
              "    (() => {\n",
              "      let quickchartButtonEl =\n",
              "        document.querySelector('#df-fd45586c-a826-4231-ad8e-18f04ccfd243 button');\n",
              "      quickchartButtonEl.style.display =\n",
              "        google.colab.kernel.accessAllowed ? 'block' : 'none';\n",
              "    })();\n",
              "  </script>\n",
              "</div>\n",
              "\n",
              "    </div>\n",
              "  </div>\n"
            ],
            "application/vnd.google.colaboratory.intrinsic+json": {
              "type": "dataframe",
              "variable_name": "df",
              "summary": "{\n  \"name\": \"df\",\n  \"rows\": 53,\n  \"fields\": [\n    {\n      \"column\": \"ID\",\n      \"properties\": {\n        \"dtype\": \"number\",\n        \"std\": 15,\n        \"min\": 1,\n        \"max\": 53,\n        \"num_unique_values\": 53,\n        \"samples\": [\n          20,\n          42,\n          48\n        ],\n        \"semantic_type\": \"\",\n        \"description\": \"\"\n      }\n    },\n    {\n      \"column\": \"sales\",\n      \"properties\": {\n        \"dtype\": \"number\",\n        \"std\": 99,\n        \"min\": 60,\n        \"max\": 632,\n        \"num_unique_values\": 49,\n        \"samples\": [\n          205,\n          244,\n          140\n        ],\n        \"semantic_type\": \"\",\n        \"description\": \"\"\n      }\n    },\n    {\n      \"column\": \"insta_post\",\n      \"properties\": {\n        \"dtype\": \"number\",\n        \"std\": 0,\n        \"min\": 0,\n        \"max\": 1,\n        \"num_unique_values\": 2,\n        \"samples\": [\n          1,\n          0\n        ],\n        \"semantic_type\": \"\",\n        \"description\": \"\"\n      }\n    },\n    {\n      \"column\": \"insta_good\",\n      \"properties\": {\n        \"dtype\": \"number\",\n        \"std\": 34,\n        \"min\": 11,\n        \"max\": 158,\n        \"num_unique_values\": 35,\n        \"samples\": [\n          32,\n          35\n        ],\n        \"semantic_type\": \"\",\n        \"description\": \"\"\n      }\n    },\n    {\n      \"column\": \"flyer\",\n      \"properties\": {\n        \"dtype\": \"number\",\n        \"std\": 204,\n        \"min\": 0,\n        \"max\": 500,\n        \"num_unique_values\": 2,\n        \"samples\": [\n          500,\n          0\n        ],\n        \"semantic_type\": \"\",\n        \"description\": \"\"\n      }\n    },\n    {\n      \"column\": \"event\",\n      \"properties\": {\n        \"dtype\": \"number\",\n        \"std\": 0,\n        \"min\": 0,\n        \"max\": 1,\n        \"num_unique_values\": 2,\n        \"samples\": [\n          1,\n          0\n        ],\n        \"semantic_type\": \"\",\n        \"description\": \"\"\n      }\n    },\n    {\n      \"column\": \"new_item\",\n      \"properties\": {\n        \"dtype\": \"number\",\n        \"std\": 0,\n        \"min\": 0,\n        \"max\": 1,\n        \"num_unique_values\": 2,\n        \"samples\": [\n          1,\n          0\n        ],\n        \"semantic_type\": \"\",\n        \"description\": \"\"\n      }\n    },\n    {\n      \"column\": \"holiday\",\n      \"properties\": {\n        \"dtype\": \"number\",\n        \"std\": 0,\n        \"min\": 0,\n        \"max\": 1,\n        \"num_unique_values\": 2,\n        \"samples\": [\n          1,\n          0\n        ],\n        \"semantic_type\": \"\",\n        \"description\": \"\"\n      }\n    }\n  ]\n}"
            }
          },
          "metadata": {},
          "execution_count": 24
        }
      ],
      "source": [
        "df = pd.read_csv(\"senkei.csv\", index_col=0)  # ← データファイルのパスを正しく指定して下さい。\n",
        "df.head()"
      ]
    },
    {
      "cell_type": "markdown",
      "source": [
        "↑Colab AIが次のステップとして提案してきた「Generate code with df」や「View recommended plots」をクリックしてみよう！"
      ],
      "metadata": {
        "id": "Tx9nounNSm0l"
      }
    },
    {
      "cell_type": "code",
      "source": [
        "# dfのサイズを表示\n",
        "df.shape"
      ],
      "metadata": {
        "colab": {
          "base_uri": "https://localhost:8080/"
        },
        "id": "AQxPquX3d_IJ",
        "outputId": "00860589-982c-4364-d695-aa43f3e04731"
      },
      "execution_count": 3,
      "outputs": [
        {
          "output_type": "execute_result",
          "data": {
            "text/plain": [
              "(53, 7)"
            ]
          },
          "metadata": {},
          "execution_count": 3
        }
      ]
    },
    {
      "cell_type": "markdown",
      "metadata": {
        "id": "rNKoPRwEaKQL"
      },
      "source": [
        "## 単回帰分析"
      ]
    },
    {
      "cell_type": "markdown",
      "metadata": {
        "id": "r91W7EPvaKQM"
      },
      "source": [
        "説明変数をinsta_good、目的変数をsalesとして、単回帰分析を行います。"
      ]
    },
    {
      "cell_type": "code",
      "execution_count": null,
      "metadata": {
        "id": "evSBR3kzaKQM"
      },
      "outputs": [],
      "source": [
        "# 説明変数insta_good\n",
        "X = df.iloc[:, 2].values  # ← Colab AIで教えてもらおう\n",
        "X = X.reshape(-1,1)  # reshapeでどのような変換をしているか？なぜそれが必要か？Colab AIに尋ねてみましょう\n",
        "\n",
        "# 目的変数sales\n",
        "Y = df.iloc[:, 0].values"
      ]
    },
    {
      "cell_type": "markdown",
      "source": [
        "以下のプログラムもColab AIで教えてもらおう"
      ],
      "metadata": {
        "id": "V0ambsO75Ta8"
      }
    },
    {
      "cell_type": "code",
      "execution_count": null,
      "metadata": {
        "colab": {
          "base_uri": "https://localhost:8080/"
        },
        "id": "rdLmpcOSaKQN",
        "outputId": "5402083c-f5e9-4282-bd3a-aeb7f4fc436a"
      },
      "outputs": [
        {
          "output_type": "stream",
          "name": "stdout",
          "text": [
            "[2.05852128]\n",
            "101.71515440413765\n",
            "0.5218980221448157\n"
          ]
        }
      ],
      "source": [
        "# sklearn.linear_model.LinearRegression クラスを読み込み\n",
        "from sklearn import linear_model\n",
        "clf = linear_model.LinearRegression()\n",
        "\n",
        "# 予測モデルを作成\n",
        "clf.fit(X, Y)\n",
        "\n",
        "# 回帰係数\n",
        "print(clf.coef_)\n",
        "\n",
        "# 切片\n",
        "print(clf.intercept_)\n",
        "\n",
        "# 決定係数\n",
        "print(clf.score(X, Y))"
      ]
    },
    {
      "cell_type": "markdown",
      "metadata": {
        "id": "pZY7M7qwaKQO"
      },
      "source": [
        "insta_goodの回帰係数と、単回帰の式の切片が分かりました。  \n",
        "決定係数は、0～1の範囲の値をとり、値が大きいほどモデルが適切にデータを表現できているといえます。"
      ]
    },
    {
      "cell_type": "markdown",
      "source": [
        "対応する散布図を作成し、回帰直線を描き加えてみましょう。"
      ],
      "metadata": {
        "id": "67NlWgudUGBN"
      }
    },
    {
      "cell_type": "code",
      "source": [
        "# prompt: salesとinsta_goodの散布図を作成し、単回帰分析の回帰式を散布図に書き加えて下さい。\n",
        "\n",
        "# 散布図を作成\n",
        "plt.scatter(X, Y)\n",
        "\n",
        "# 回帰直線を作成\n",
        "x_min, x_max = X.min(), X.max()\n",
        "y_min = clf.predict([[x_min]])\n",
        "y_max = clf.predict([[x_max]])\n",
        "\n",
        "# 回帰直線を散布図に追加\n",
        "plt.plot([x_min, x_max], [y_min, y_max], color=\"r\")\n",
        "\n",
        "# 回帰式の切片と回帰係数を散布図に書き加える\n",
        "plt.text(x_min, y_min, f\"y = {clf.coef_[0]:.3f}x + {clf.intercept_:.3f}\", fontsize=12)\n",
        "\n",
        "# グラフのタイトルとラベルを設定\n",
        "plt.title(\"Sales vs. Instagram Likes\")\n",
        "plt.xlabel(\"Instagram Likes\")\n",
        "plt.ylabel(\"Sales\")\n",
        "\n",
        "# グラフを表示\n",
        "plt.show()\n"
      ],
      "metadata": {
        "colab": {
          "base_uri": "https://localhost:8080/",
          "height": 472
        },
        "id": "zssEMMv-4_5l",
        "outputId": "bc30456b-c1bb-4e23-b4a1-6c5bd0bb61f3"
      },
      "execution_count": null,
      "outputs": [
        {
          "output_type": "display_data",
          "data": {
            "text/plain": [
              "<Figure size 640x480 with 1 Axes>"
            ],
            "image/png": "[encoded data removed]"
          },
          "metadata": {}
        }
      ]
    },
    {
      "cell_type": "markdown",
      "metadata": {
        "id": "wgBzIqEXaKQP"
      },
      "source": [
        "## 重回帰分析"
      ]
    },
    {
      "cell_type": "markdown",
      "metadata": {
        "id": "TKa5RlLkaKQR"
      },
      "source": [
        "insta_post以降6カラムを説明変数、目的変数をsalesとして、重回帰分析を行います。"
      ]
    },
    {
      "cell_type": "code",
      "execution_count": 25,
      "metadata": {
        "id": "VzyqIXkVaKQS"
      },
      "outputs": [],
      "source": [
        "# 説明変数\n",
        "X = df.iloc[:, 1:7].values\n",
        "\n",
        "# 目的変数\n",
        "Y = df.iloc[:, 0].values"
      ]
    },
    {
      "cell_type": "code",
      "source": [
        "# sklearn.linear_model.LinearRegression クラスを読み込み\n",
        "from sklearn import linear_model\n",
        "clf = linear_model.LinearRegression()\n",
        "\n",
        "# 予測モデルを作成\n",
        "clf.fit(X, Y)\n",
        "\n",
        "# 偏回帰係数\n",
        "df_except_sales = df.iloc[:, 1:7]\n",
        "print(pd.DataFrame({\"Name\":df_except_sales.columns,\n",
        "                    \"Coefficients\":clf.coef_}))\n",
        "\n",
        "# 切片\n",
        "print(clf.intercept_)"
      ],
      "metadata": {
        "colab": {
          "base_uri": "https://localhost:8080/"
        },
        "id": "rZwoma4bT5Fp",
        "outputId": "0d301559-6da7-464f-92e6-4dc27bd479b3"
      },
      "execution_count": 26,
      "outputs": [
        {
          "output_type": "stream",
          "name": "stdout",
          "text": [
            "         Name  Coefficients\n",
            "0  insta_post     48.871107\n",
            "1  insta_good      0.684993\n",
            "2       flyer      0.206098\n",
            "3       event    245.436745\n",
            "4    new_item    -38.905751\n",
            "5     holiday     26.549665\n",
            "131.89410662096918\n"
          ]
        }
      ]
    },
    {
      "cell_type": "markdown",
      "metadata": {
        "id": "J-kKjXNfaKQT"
      },
      "source": [
        "各変数の偏回帰係数と重回帰の式の切片が分かりました。"
      ]
    },
    {
      "cell_type": "markdown",
      "metadata": {
        "id": "4bJbwdh1aKQT"
      },
      "source": [
        "### 標準化\n",
        "各変数がどの程度目的変数に影響しているかを**比較**する（**他の変数と比べて**どれくらい影響しているかを知る）には、各変数を**標準化**（平均を0、分散を1に揃える）します。"
      ]
    },
    {
      "cell_type": "code",
      "execution_count": 27,
      "metadata": {
        "colab": {
          "base_uri": "https://localhost:8080/",
          "height": 237
        },
        "id": "pwcl276xaKQU",
        "outputId": "846fa7ea-b58c-456f-de3c-2a564d5a9199"
      },
      "outputs": [
        {
          "output_type": "execute_result",
          "data": {
            "text/plain": [
              "       sales  insta_post  insta_good     flyer     event  new_item   holiday\n",
              "ID                                                                          \n",
              "1  -1.427147   -0.322749   -0.839503 -0.511766 -0.138675  -0.19803 -0.657596\n",
              "2  -1.447439   -0.322749   -0.723860 -0.511766 -0.138675  -0.19803 -0.657596\n",
              "3  -1.001013   -0.322749   -0.666038 -0.511766 -0.138675  -0.19803 -0.657596\n",
              "4  -1.021305   -0.322749   -0.781681 -0.511766 -0.138675  -0.19803 -0.657596\n",
              "5  -0.250205   -0.322749   -0.290198 -0.511766 -0.138675  -0.19803  1.520691"
            ],
            "text/html": [
              "\n",
              "  <div id=\"df-1e27337c-b0ee-4aa4-a62f-01714fc5af5b\" class=\"colab-df-container\">\n",
              "    <div>\n",
              "<style scoped>\n",
              "    .dataframe tbody tr th:only-of-type {\n",
              "        vertical-align: middle;\n",
              "    }\n",
              "\n",
              "    .dataframe tbody tr th {\n",
              "        vertical-align: top;\n",
              "    }\n",
              "\n",
              "    .dataframe thead th {\n",
              "        text-align: right;\n",
              "    }\n",
              "</style>\n",
              "<table border=\"1\" class=\"dataframe\">\n",
              "  <thead>\n",
              "    <tr style=\"text-align: right;\">\n",
              "      <th></th>\n",
              "      <th>sales</th>\n",
              "      <th>insta_post</th>\n",
              "      <th>insta_good</th>\n",
              "      <th>flyer</th>\n",
              "      <th>event</th>\n",
              "      <th>new_item</th>\n",
              "      <th>holiday</th>\n",
              "    </tr>\n",
              "    <tr>\n",
              "      <th>ID</th>\n",
              "      <th></th>\n",
              "      <th></th>\n",
              "      <th></th>\n",
              "      <th></th>\n",
              "      <th></th>\n",
              "      <th></th>\n",
              "      <th></th>\n",
              "    </tr>\n",
              "  </thead>\n",
              "  <tbody>\n",
              "    <tr>\n",
              "      <th>1</th>\n",
              "      <td>-1.427147</td>\n",
              "      <td>-0.322749</td>\n",
              "      <td>-0.839503</td>\n",
              "      <td>-0.511766</td>\n",
              "      <td>-0.138675</td>\n",
              "      <td>-0.19803</td>\n",
              "      <td>-0.657596</td>\n",
              "    </tr>\n",
              "    <tr>\n",
              "      <th>2</th>\n",
              "      <td>-1.447439</td>\n",
              "      <td>-0.322749</td>\n",
              "      <td>-0.723860</td>\n",
              "      <td>-0.511766</td>\n",
              "      <td>-0.138675</td>\n",
              "      <td>-0.19803</td>\n",
              "      <td>-0.657596</td>\n",
              "    </tr>\n",
              "    <tr>\n",
              "      <th>3</th>\n",
              "      <td>-1.001013</td>\n",
              "      <td>-0.322749</td>\n",
              "      <td>-0.666038</td>\n",
              "      <td>-0.511766</td>\n",
              "      <td>-0.138675</td>\n",
              "      <td>-0.19803</td>\n",
              "      <td>-0.657596</td>\n",
              "    </tr>\n",
              "    <tr>\n",
              "      <th>4</th>\n",
              "      <td>-1.021305</td>\n",
              "      <td>-0.322749</td>\n",
              "      <td>-0.781681</td>\n",
              "      <td>-0.511766</td>\n",
              "      <td>-0.138675</td>\n",
              "      <td>-0.19803</td>\n",
              "      <td>-0.657596</td>\n",
              "    </tr>\n",
              "    <tr>\n",
              "      <th>5</th>\n",
              "      <td>-0.250205</td>\n",
              "      <td>-0.322749</td>\n",
              "      <td>-0.290198</td>\n",
              "      <td>-0.511766</td>\n",
              "      <td>-0.138675</td>\n",
              "      <td>-0.19803</td>\n",
              "      <td>1.520691</td>\n",
              "    </tr>\n",
              "  </tbody>\n",
              "</table>\n",
              "</div>\n",
              "    <div class=\"colab-df-buttons\">\n",
              "\n",
              "  <div class=\"colab-df-container\">\n",
              "    <button class=\"colab-df-convert\" onclick=\"convertToInteractive('df-1e27337c-b0ee-4aa4-a62f-01714fc5af5b')\"\n",
              "            title=\"Convert this dataframe to an interactive table.\"\n",
              "            style=\"display:none;\">\n",
              "\n",
              "  <svg xmlns=\"http://www.w3.org/2000/svg\" height=\"24px\" viewBox=\"0 -960 960 960\">\n",
              "    <path d=\"M120-120v-720h720v720H120Zm60-500h600v-160H180v160Zm220 220h160v-160H400v160Zm0 220h160v-160H400v160ZM180-400h160v-160H180v160Zm440 0h160v-160H620v160ZM180-180h160v-160H180v160Zm440 0h160v-160H620v160Z\"/>\n",
              "  </svg>\n",
              "    </button>\n",
              "\n",
              "  <style>\n",
              "    .colab-df-container {\n",
              "      display:flex;\n",
              "      gap: 12px;\n",
              "    }\n",
              "\n",
              "    .colab-df-convert {\n",
              "      background-color: #E8F0FE;\n",
              "      border: none;\n",
              "      border-radius: 50%;\n",
              "      cursor: pointer;\n",
              "      display: none;\n",
              "      fill: #1967D2;\n",
              "      height: 32px;\n",
              "      padding: 0 0 0 0;\n",
              "      width: 32px;\n",
              "    }\n",
              "\n",
              "    .colab-df-convert:hover {\n",
              "      background-color: #E2EBFA;\n",
              "      box-shadow: 0px 1px 2px rgba(60, 64, 67, 0.3), 0px 1px 3px 1px rgba(60, 64, 67, 0.15);\n",
              "      fill: #174EA6;\n",
              "    }\n",
              "\n",
              "    .colab-df-buttons div {\n",
              "      margin-bottom: 4px;\n",
              "    }\n",
              "\n",
              "    [theme=dark] .colab-df-convert {\n",
              "      background-color: #3B4455;\n",
              "      fill: #D2E3FC;\n",
              "    }\n",
              "\n",
              "    [theme=dark] .colab-df-convert:hover {\n",
              "      background-color: #434B5C;\n",
              "      box-shadow: 0px 1px 3px 1px rgba(0, 0, 0, 0.15);\n",
              "      filter: drop-shadow(0px 1px 2px rgba(0, 0, 0, 0.3));\n",
              "      fill: #FFFFFF;\n",
              "    }\n",
              "  </style>\n",
              "\n",
              "    <script>\n",
              "      const buttonEl =\n",
              "        document.querySelector('#df-1e27337c-b0ee-4aa4-a62f-01714fc5af5b button.colab-df-convert');\n",
              "      buttonEl.style.display =\n",
              "        google.colab.kernel.accessAllowed ? 'block' : 'none';\n",
              "\n",
              "      async function convertToInteractive(key) {\n",
              "        const element = document.querySelector('#df-1e27337c-b0ee-4aa4-a62f-01714fc5af5b');\n",
              "        const dataTable =\n",
              "          await google.colab.kernel.invokeFunction('convertToInteractive',\n",
              "                                                    [key], {});\n",
              "        if (!dataTable) return;\n",
              "\n",
              "        const docLinkHtml = 'Like what you see? Visit the ' +\n",
              "          '<a target=\"_blank\" href=https://colab.research.google.com/notebooks/data_table.ipynb>data table notebook</a>'\n",
              "          + ' to learn more about interactive tables.';\n",
              "        element.innerHTML = '';\n",
              "        dataTable['output_type'] = 'display_data';\n",
              "        await google.colab.output.renderOutput(dataTable, element);\n",
              "        const docLink = document.createElement('div');\n",
              "        docLink.innerHTML = docLinkHtml;\n",
              "        element.appendChild(docLink);\n",
              "      }\n",
              "    </script>\n",
              "  </div>\n",
              "\n",
              "\n",
              "<div id=\"df-fe2fcc73-c264-4fa1-9444-8759728077a6\">\n",
              "  <button class=\"colab-df-quickchart\" onclick=\"quickchart('df-fe2fcc73-c264-4fa1-9444-8759728077a6')\"\n",
              "            title=\"Suggest charts\"\n",
              "            style=\"display:none;\">\n",
              "\n",
              "<svg xmlns=\"http://www.w3.org/2000/svg\" height=\"24px\"viewBox=\"0 0 24 24\"\n",
              "     width=\"24px\">\n",
              "    <g>\n",
              "        <path d=\"M19 3H5c-1.1 0-2 .9-2 2v14c0 1.1.9 2 2 2h14c1.1 0 2-.9 2-2V5c0-1.1-.9-2-2-2zM9 17H7v-7h2v7zm4 0h-2V7h2v10zm4 0h-2v-4h2v4z\"/>\n",
              "    </g>\n",
              "</svg>\n",
              "  </button>\n",
              "\n",
              "<style>\n",
              "  .colab-df-quickchart {\n",
              "      --bg-color: #E8F0FE;\n",
              "      --fill-color: #1967D2;\n",
              "      --hover-bg-color: #E2EBFA;\n",
              "      --hover-fill-color: #174EA6;\n",
              "      --disabled-fill-color: #AAA;\n",
              "      --disabled-bg-color: #DDD;\n",
              "  }\n",
              "\n",
              "  [theme=dark] .colab-df-quickchart {\n",
              "      --bg-color: #3B4455;\n",
              "      --fill-color: #D2E3FC;\n",
              "      --hover-bg-color: #434B5C;\n",
              "      --hover-fill-color: #FFFFFF;\n",
              "      --disabled-bg-color: #3B4455;\n",
              "      --disabled-fill-color: #666;\n",
              "  }\n",
              "\n",
              "  .colab-df-quickchart {\n",
              "    background-color: var(--bg-color);\n",
              "    border: none;\n",
              "    border-radius: 50%;\n",
              "    cursor: pointer;\n",
              "    display: none;\n",
              "    fill: var(--fill-color);\n",
              "    height: 32px;\n",
              "    padding: 0;\n",
              "    width: 32px;\n",
              "  }\n",
              "\n",
              "  .colab-df-quickchart:hover {\n",
              "    background-color: var(--hover-bg-color);\n",
              "    box-shadow: 0 1px 2px rgba(60, 64, 67, 0.3), 0 1px 3px 1px rgba(60, 64, 67, 0.15);\n",
              "    fill: var(--button-hover-fill-color);\n",
              "  }\n",
              "\n",
              "  .colab-df-quickchart-complete:disabled,\n",
              "  .colab-df-quickchart-complete:disabled:hover {\n",
              "    background-color: var(--disabled-bg-color);\n",
              "    fill: var(--disabled-fill-color);\n",
              "    box-shadow: none;\n",
              "  }\n",
              "\n",
              "  .colab-df-spinner {\n",
              "    border: 2px solid var(--fill-color);\n",
              "    border-color: transparent;\n",
              "    border-bottom-color: var(--fill-color);\n",
              "    animation:\n",
              "      spin 1s steps(1) infinite;\n",
              "  }\n",
              "\n",
              "  @keyframes spin {\n",
              "    0% {\n",
              "      border-color: transparent;\n",
              "      border-bottom-color: var(--fill-color);\n",
              "      border-left-color: var(--fill-color);\n",
              "    }\n",
              "    20% {\n",
              "      border-color: transparent;\n",
              "      border-left-color: var(--fill-color);\n",
              "      border-top-color: var(--fill-color);\n",
              "    }\n",
              "    30% {\n",
              "      border-color: transparent;\n",
              "      border-left-color: var(--fill-color);\n",
              "      border-top-color: var(--fill-color);\n",
              "      border-right-color: var(--fill-color);\n",
              "    }\n",
              "    40% {\n",
              "      border-color: transparent;\n",
              "      border-right-color: var(--fill-color);\n",
              "      border-top-color: var(--fill-color);\n",
              "    }\n",
              "    60% {\n",
              "      border-color: transparent;\n",
              "      border-right-color: var(--fill-color);\n",
              "    }\n",
              "    80% {\n",
              "      border-color: transparent;\n",
              "      border-right-color: var(--fill-color);\n",
              "      border-bottom-color: var(--fill-color);\n",
              "    }\n",
              "    90% {\n",
              "      border-color: transparent;\n",
              "      border-bottom-color: var(--fill-color);\n",
              "    }\n",
              "  }\n",
              "</style>\n",
              "\n",
              "  <script>\n",
              "    async function quickchart(key) {\n",
              "      const quickchartButtonEl =\n",
              "        document.querySelector('#' + key + ' button');\n",
              "      quickchartButtonEl.disabled = true;  // To prevent multiple clicks.\n",
              "      quickchartButtonEl.classList.add('colab-df-spinner');\n",
              "      try {\n",
              "        const charts = await google.colab.kernel.invokeFunction(\n",
              "            'suggestCharts', [key], {});\n",
              "      } catch (error) {\n",
              "        console.error('Error during call to suggestCharts:', error);\n",
              "      }\n",
              "      quickchartButtonEl.classList.remove('colab-df-spinner');\n",
              "      quickchartButtonEl.classList.add('colab-df-quickchart-complete');\n",
              "    }\n",
              "    (() => {\n",
              "      let quickchartButtonEl =\n",
              "        document.querySelector('#df-fe2fcc73-c264-4fa1-9444-8759728077a6 button');\n",
              "      quickchartButtonEl.style.display =\n",
              "        google.colab.kernel.accessAllowed ? 'block' : 'none';\n",
              "    })();\n",
              "  </script>\n",
              "</div>\n",
              "\n",
              "    </div>\n",
              "  </div>\n"
            ],
            "application/vnd.google.colaboratory.intrinsic+json": {
              "type": "dataframe",
              "variable_name": "df2",
              "summary": "{\n  \"name\": \"df2\",\n  \"rows\": 53,\n  \"fields\": [\n    {\n      \"column\": \"ID\",\n      \"properties\": {\n        \"dtype\": \"number\",\n        \"std\": 15,\n        \"min\": 1,\n        \"max\": 53,\n        \"num_unique_values\": 53,\n        \"samples\": [\n          20,\n          42,\n          48\n        ],\n        \"semantic_type\": \"\",\n        \"description\": \"\"\n      }\n    },\n    {\n      \"column\": \"sales\",\n      \"properties\": {\n        \"dtype\": \"number\",\n        \"std\": 1.0095695960312836,\n        \"min\": -1.4474385960466722,\n        \"max\": 4.3560990944375115,\n        \"num_unique_values\": 49,\n        \"samples\": [\n          0.023737916401241572,\n          0.4194336680251632,\n          -0.6357550029719612\n        ],\n        \"semantic_type\": \"\",\n        \"description\": \"\"\n      }\n    },\n    {\n      \"column\": \"insta_post\",\n      \"properties\": {\n        \"dtype\": \"number\",\n        \"std\": 1.0095695960312834,\n        \"min\": -0.3227486121839514,\n        \"max\": 3.098386676965933,\n        \"num_unique_values\": 2,\n        \"samples\": [\n          3.098386676965933,\n          -0.3227486121839514\n        ],\n        \"semantic_type\": \"\",\n        \"description\": \"\"\n      }\n    },\n    {\n      \"column\": \"insta_good\",\n      \"properties\": {\n        \"dtype\": \"number\",\n        \"std\": 1.0095695960312838,\n        \"min\": -1.0996993663998489,\n        \"max\": 3.1501804766662342,\n        \"num_unique_values\": 35,\n        \"samples\": [\n          -0.49257367453326567,\n          -0.4058414328380395\n        ],\n        \"semantic_type\": \"\",\n        \"description\": \"\"\n      }\n    },\n    {\n      \"column\": \"flyer\",\n      \"properties\": {\n        \"dtype\": \"number\",\n        \"std\": 1.0095695960312838,\n        \"min\": -0.5117663157191591,\n        \"max\": 1.9540168418367894,\n        \"num_unique_values\": 2,\n        \"samples\": [\n          1.9540168418367894,\n          -0.5117663157191591\n        ],\n        \"semantic_type\": \"\",\n        \"description\": \"\"\n      }\n    },\n    {\n      \"column\": \"event\",\n      \"properties\": {\n        \"dtype\": \"number\",\n        \"std\": 1.0095695960312836,\n        \"min\": -0.1386750490563073,\n        \"max\": 7.211102550927979,\n        \"num_unique_values\": 2,\n        \"samples\": [\n          7.211102550927979,\n          -0.1386750490563073\n        ],\n        \"semantic_type\": \"\",\n        \"description\": \"\"\n      }\n    },\n    {\n      \"column\": \"new_item\",\n      \"properties\": {\n        \"dtype\": \"number\",\n        \"std\": 1.0095695960312836,\n        \"min\": -0.19802950859533486,\n        \"max\": 5.049752469181039,\n        \"num_unique_values\": 2,\n        \"samples\": [\n          5.049752469181039,\n          -0.19802950859533486\n        ],\n        \"semantic_type\": \"\",\n        \"description\": \"\"\n      }\n    },\n    {\n      \"column\": \"holiday\",\n      \"properties\": {\n        \"dtype\": \"number\",\n        \"std\": 1.0095695960312836,\n        \"min\": -0.657595949221429,\n        \"max\": 1.5206906325745548,\n        \"num_unique_values\": 2,\n        \"samples\": [\n          1.5206906325745548,\n          -0.657595949221429\n        ],\n        \"semantic_type\": \"\",\n        \"description\": \"\"\n      }\n    }\n  ]\n}"
            }
          },
          "metadata": {},
          "execution_count": 27
        }
      ],
      "source": [
        "# データフレームの各列を標準化\n",
        "df2 = df.apply(lambda x: (x - np.mean(x)) / np.std(x))\n",
        "df2.head()"
      ]
    },
    {
      "cell_type": "code",
      "execution_count": 28,
      "metadata": {
        "id": "yoorcsthaKQU"
      },
      "outputs": [],
      "source": [
        "# 説明変数\n",
        "X = df2.iloc[:, 1:7].values\n",
        "\n",
        "# 目的変数\n",
        "Y = df2.iloc[:, 0].values"
      ]
    },
    {
      "cell_type": "code",
      "source": [
        "# sklearn.linear_model.LinearRegression クラスを読み込み\n",
        "from sklearn import linear_model\n",
        "clf = linear_model.LinearRegression()\n",
        "\n",
        "# 予測モデルを作成\n",
        "clf.fit(X, Y)\n",
        "\n",
        "# 標準化偏回帰係数\n",
        "df2_except_sales = df2.iloc[:, 1:7]\n",
        "print(pd.DataFrame({\"Name\":df2_except_sales.columns,\n",
        "                    \"Coefficients\":clf.coef_}))\n",
        "\n",
        "# 切片\n",
        "print(clf.intercept_)"
      ],
      "metadata": {
        "colab": {
          "base_uri": "https://localhost:8080/"
        },
        "id": "XFvjXRbdXqI5",
        "outputId": "184f2188-e358-4002-8cd7-64ae1ce5568d"
      },
      "execution_count": 29,
      "outputs": [
        {
          "output_type": "stream",
          "name": "stdout",
          "text": [
            "         Name  Coefficients\n",
            "0  insta_post      0.144937\n",
            "1  insta_good      0.240394\n",
            "2       flyer      0.424020\n",
            "3       event      0.338815\n",
            "4    new_item     -0.075220\n",
            "5     holiday      0.123663\n",
            "1.713800285331052e-17\n"
          ]
        }
      ]
    },
    {
      "cell_type": "markdown",
      "metadata": {
        "id": "gV9VP5KVaKQU"
      },
      "source": [
        "↑標準化後の各変数の偏回帰係数と重回帰の式の切片が分かりました。\n",
        "\n",
        "↓**標準化偏回帰係数の絶対値**によって、売上個数への**各変数の相対的な影響の強さ**を確認することができます。"
      ]
    },
    {
      "cell_type": "code",
      "execution_count": 9,
      "metadata": {
        "colab": {
          "base_uri": "https://localhost:8080/"
        },
        "id": "md_am7mlaKQU",
        "outputId": "cc1719bb-30c3-46f6-f28d-64db8982ac3d"
      },
      "outputs": [
        {
          "output_type": "stream",
          "name": "stdout",
          "text": [
            "         Name  Coefficients\n",
            "4    new_item      0.075220\n",
            "5     holiday      0.123663\n",
            "0  insta_post      0.144937\n",
            "1  insta_good      0.240394\n",
            "3       event      0.338815\n",
            "2       flyer      0.424020\n",
            "1.713800285331052e-17\n"
          ]
        }
      ],
      "source": [
        "# 標準化偏回帰係数の絶対値をとって昇順にソート\n",
        "df2_except_sales = df2.iloc[:, 1:7]\n",
        "print(pd.DataFrame({\"Name\":df2_except_sales.columns,\n",
        "                    \"Coefficients\":np.abs(clf.coef_)}).sort_values(by='Coefficients'))\n",
        "\n",
        "# 切片\n",
        "print(clf.intercept_)"
      ]
    },
    {
      "cell_type": "markdown",
      "metadata": {
        "id": "ev3WMnu_aKQV"
      },
      "source": [
        "### 学習用データとテストデータ"
      ]
    },
    {
      "cell_type": "markdown",
      "metadata": {
        "id": "Tc0AzAe1aKQV"
      },
      "source": [
        "学習用データとテストデータを用いて、線形回帰（重回帰分析）を行います。  \n",
        "先程、標準化したデータを使います。"
      ]
    },
    {
      "cell_type": "code",
      "execution_count": 30,
      "metadata": {
        "id": "cgsoRey6aKQV"
      },
      "outputs": [],
      "source": [
        "# 説明変数\n",
        "X = df2.iloc[:, 1:7].values\n",
        "\n",
        "# 目的変数\n",
        "Y = df2.iloc[:, 0].values\n",
        "\n",
        "# 学習用データとテスト用データを7:3に分割する；ランダム性あり\n",
        "from sklearn.model_selection import train_test_split\n",
        "X_train, X_test, Y_train, Y_test = train_test_split(X, Y, test_size=0.3)"
      ]
    },
    {
      "cell_type": "code",
      "execution_count": 31,
      "metadata": {
        "colab": {
          "base_uri": "https://localhost:8080/"
        },
        "id": "KzDrynifaKQV",
        "outputId": "17683cbe-7a2f-4827-a6be-2ed2604fb069"
      },
      "outputs": [
        {
          "output_type": "stream",
          "name": "stdout",
          "text": [
            "         Name  Coefficients\n",
            "0  insta_post      0.144937\n",
            "1  insta_good      0.240394\n",
            "2       flyer      0.424020\n",
            "3       event      0.338815\n",
            "4    new_item     -0.075220\n",
            "5     holiday      0.123663\n",
            "-0.008383044058219265\n"
          ]
        }
      ],
      "source": [
        "# 予測モデルを作成\n",
        "model = linear_model.LinearRegression()\n",
        "model.fit(X_train, Y_train)\n",
        "\n",
        "# 標準化偏回帰係数\n",
        "df2_except_sales = df2.iloc[:, 1:7]\n",
        "print(pd.DataFrame({\"Name\":df2_except_sales.columns,\n",
        "                    \"Coefficients\":clf.coef_}))\n",
        "\n",
        "# 切片\n",
        "print(model.intercept_)"
      ]
    },
    {
      "cell_type": "markdown",
      "metadata": {
        "id": "sGEacpcdaKQW"
      },
      "source": [
        "学習データにおける各変数の標準化偏回帰係数と重回帰の式の切片が分かりました。  "
      ]
    },
    {
      "cell_type": "markdown",
      "metadata": {
        "id": "ZO4cXxcObLx1"
      },
      "source": [
        "### 平均二乗誤差\n",
        "訓練データとテストデータのそれぞれに対して、予測値と実測値の平均二乗誤差を求めます。**データの分割時にランダム性があるため、分割をやり直し、その分割で改めて学習すると、そのたびに平均二乗誤差が変化します。**"
      ]
    },
    {
      "cell_type": "code",
      "execution_count": 32,
      "metadata": {
        "colab": {
          "base_uri": "https://localhost:8080/"
        },
        "id": "y4oGd1QEaKQW",
        "outputId": "db460149-5f70-4131-8730-cc4ba8a54337"
      },
      "outputs": [
        {
          "output_type": "stream",
          "name": "stdout",
          "text": [
            "訓練データに対する平均二乗誤差＝0.28\n",
            "テストデータに対する平均二乗誤差＝1.04\n"
          ]
        }
      ],
      "source": [
        "pred_train = model.predict(X_train)\n",
        "pred_test = model.predict(X_test)\n",
        "\n",
        "print('訓練データに対する平均二乗誤差＝{:0.2f}'.format(np.mean((np.array(Y_train, dtype = int) - pred_train) ** 2)))\n",
        "print('テストデータに対する平均二乗誤差＝{:0.2f}'.format(np.mean((np.array(Y_test, dtype = int) - pred_test) ** 2)))"
      ]
    },
    {
      "cell_type": "markdown",
      "source": [
        "### 残差プロット\n",
        "また、残差プロット（横軸に予測値、縦軸に実際の値との差をプロットしたもの）をプロットします。\n",
        "残差プロットは、y=0の水平線に近いほど、良い精度のデータといえます"
      ],
      "metadata": {
        "id": "mYiqUzoBVnKy"
      }
    },
    {
      "cell_type": "code",
      "execution_count": null,
      "metadata": {
        "id": "EmgFifosaKQZ",
        "outputId": "10b29cff-dee6-49c6-c6a3-e680ef3bb146",
        "colab": {
          "base_uri": "https://localhost:8080/",
          "height": 469
        }
      },
      "outputs": [
        {
          "output_type": "execute_result",
          "data": {
            "text/plain": [
              "Text(0.5, 1.0, 'Residual Plots')"
            ]
          },
          "metadata": {},
          "execution_count": 24
        },
        {
          "output_type": "display_data",
          "data": {
            "text/plain": [
              "<Figure size 640x480 with 1 Axes>"
            ],
            "image/png": "[encoded data removed]"
          },
          "metadata": {}
        }
      ],
      "source": [
        "# 学習用データの残差プロット\n",
        "train = plt.scatter(pred_train,(pred_train-Y_train),c='b',alpha=0.5)\n",
        "\n",
        "# テスト用データの残差プロット\n",
        "test = plt.scatter(pred_test,(pred_test-Y_test),c='r',alpha=0.5)\n",
        "\n",
        "# y=0の水平線\n",
        "plt.hlines(y=0,xmin=-8,xmax=8)\n",
        "\n",
        "plt.legend((train,test),('Training','Test'),loc='lower left')\n",
        "plt.title('Residual Plots')"
      ]
    },
    {
      "cell_type": "markdown",
      "source": [
        "### P値を求める\n",
        "sklearn.linear_model.LinearRegressionでは各説明変数のp値が求められないので、statsmodelsを使って重回帰分析をします。標準化したデータを用い、7:3に分割した訓練データを用います。"
      ],
      "metadata": {
        "id": "tUptdy2mVKVw"
      }
    },
    {
      "cell_type": "code",
      "source": [
        "import pandas as pd\n",
        "import numpy as np\n",
        "from sklearn.model_selection import train_test_split\n",
        "import statsmodels.api as sm\n",
        "\n",
        "df = pd.read_csv(\"senkei.csv\", index_col=0)  # ← データファイルのパスを正しく指定して下さい。\n",
        "\n",
        "# データフレームの各列を標準化\n",
        "df2 = df.apply(lambda x: (x - np.mean(x)) / np.std(x))\n",
        "\n",
        "# 説明変数\n",
        "X = df2.iloc[:, 1:7].values\n",
        "\n",
        "# 目的変数\n",
        "Y = df2.iloc[:, 0].values\n",
        "\n",
        "# print(type(X))\n",
        "# print(type(Y))\n",
        "\n",
        "# 学習用データとテスト用データを7:3に分割する；ランダム性あり\n",
        "X_train, X_test, Y_train, Y_test = train_test_split(X, Y, test_size=0.3)\n",
        "\n",
        "# print(type(X_train))\n",
        "# print(type(Y_train))\n",
        "\n",
        "# データをロード\n",
        "X_train_c = sm.add_constant(X_train)  # 定数項（切片）を追加\n",
        "\n",
        "# print(type(X_train_c))\n",
        "\n",
        "# OLSモデルの構築とフィット\n",
        "ols_model = sm.OLS(Y_train, X_train_c)\n",
        "results = ols_model.fit()\n",
        "\n",
        "# 結果の要約を出力\n",
        "print(results.summary())"
      ],
      "metadata": {
        "colab": {
          "base_uri": "https://localhost:8080/"
        },
        "id": "Xu46eXMrvfWa",
        "outputId": "66ba28bc-1c7b-440a-9cdb-376c0df7f3fd"
      },
      "execution_count": 33,
      "outputs": [
        {
          "output_type": "stream",
          "name": "stdout",
          "text": [
            "                            OLS Regression Results                            \n",
            "==============================================================================\n",
            "Dep. Variable:                      y   R-squared:                       0.794\n",
            "Model:                            OLS   Adj. R-squared:                  0.761\n",
            "Method:                 Least Squares   F-statistic:                     23.96\n",
            "Date:                Tue, 11 Jun 2024   Prob (F-statistic):           8.39e-10\n",
            "Time:                        12:41:25   Log-Likelihood:                -24.119\n",
            "No. Observations:                  37   AIC:                             60.24\n",
            "Df Residuals:                      31   BIC:                             69.90\n",
            "Df Model:                           5                                         \n",
            "Covariance Type:            nonrobust                                         \n",
            "==============================================================================\n",
            "                 coef    std err          t      P>|t|      [0.025      0.975]\n",
            "------------------------------------------------------------------------------\n",
            "x1             0.1459      0.110      1.330      0.193      -0.078       0.370\n",
            "x2             0.1616      0.146      1.108      0.276      -0.136       0.459\n",
            "x3             0.4586      0.101      4.548      0.000       0.253       0.664\n",
            "x4             0.3641      0.105      3.484      0.001       0.151       0.577\n",
            "x5             0.1357      0.428      0.317      0.753      -0.737       1.009\n",
            "x6             0.0948      0.101      0.942      0.354      -0.110       0.300\n",
            "==============================================================================\n",
            "Omnibus:                        5.919   Durbin-Watson:                   2.151\n",
            "Prob(Omnibus):                  0.052   Jarque-Bera (JB):                4.525\n",
            "Skew:                           0.798   Prob(JB):                        0.104\n",
            "Kurtosis:                       3.622   Cond. No.                         7.92\n",
            "==============================================================================\n",
            "\n",
            "Notes:\n",
            "[1] Standard Errors assume that the covariance matrix of the errors is correctly specified.\n"
          ]
        }
      ]
    },
    {
      "cell_type": "code",
      "source": [
        "print(results.params)"
      ],
      "metadata": {
        "colab": {
          "base_uri": "https://localhost:8080/"
        },
        "id": "T7kmYDUXzkEF",
        "outputId": "41a6785b-c516-4320-f0af-11b239eefb63"
      },
      "execution_count": 16,
      "outputs": [
        {
          "output_type": "stream",
          "name": "stdout",
          "text": [
            "[0.12884744 0.2228974  0.40873472 0.09238801 0.13193111 0.06321065]\n"
          ]
        }
      ]
    },
    {
      "cell_type": "code",
      "source": [
        "print(df2.columns)"
      ],
      "metadata": {
        "colab": {
          "base_uri": "https://localhost:8080/"
        },
        "id": "4CsSPsAiz8jQ",
        "outputId": "9dec08ff-9cf8-49b5-bf75-9dea442eecad"
      },
      "execution_count": 17,
      "outputs": [
        {
          "output_type": "stream",
          "name": "stdout",
          "text": [
            "Index(['sales', 'insta_post', 'insta_good', 'flyer', 'event', 'new_item',\n",
            "       'holiday'],\n",
            "      dtype='object')\n"
          ]
        }
      ]
    },
    {
      "cell_type": "code",
      "source": [
        "# 主要な結果の出力\n",
        "print(f\"自由度調整済み決定係数: {results.rsquared_adj:.4f}\")\n",
        "print(\"- 説明変数: 標準化偏回帰係数, P値\")\n",
        "for i, (coef, p_value) in enumerate(zip(results.params[1:], results.pvalues[1:])):\n",
        "    print(f\"- {df2.columns[i + 1]}: {coef:.4f}, {p_value:.4f}\")"
      ],
      "metadata": {
        "colab": {
          "base_uri": "https://localhost:8080/"
        },
        "id": "b0XVQWdwxAy4",
        "outputId": "5586546e-5be7-4f21-da8b-1381b549354c"
      },
      "execution_count": 34,
      "outputs": [
        {
          "output_type": "stream",
          "name": "stdout",
          "text": [
            "自由度調整済み決定係数: 0.7613\n",
            "- 説明変数: 標準化偏回帰係数, P値\n",
            "- insta_post: 0.1616, 0.2762\n",
            "- insta_good: 0.4586, 0.0001\n",
            "- flyer: 0.3641, 0.0015\n",
            "- event: 0.1357, 0.7534\n",
            "- new_item: 0.0948, 0.3536\n"
          ]
        }
      ]
    },
    {
      "cell_type": "markdown",
      "source": [
        "### 主な結果の見方\n",
        "*  **R-squared（決定係数）**は目的変数の変動の何％を説明変数全体が説明できているかを示す。大きい方がよい。\n",
        "*  **Adj. R-squared（自由度調整済み決定係数）**\n",
        "*  **Prob (F-statistic)（有意F）**は「重回帰式のすべての偏回帰係数が0」の検定のP値であり、重回帰式全体の有意性を示す。値が小さいほうが重回帰式の当てはまりがよいことを示す。\n",
        "*  **coef（偏回帰係数の値）**偏回帰係数は、”その説明変数の値が1増えた時に目的変数がどれくらい増える(または減る)か”を表しています。\n",
        "つまり偏回帰係数が5である変数の場合、その変数が1増えれば目的変数が5増えるという意味になります。\\\n",
        "また他の変数と比較してどの説明変数が目的変数に影響を与えているのか知りたい場合は、データを事前に標準化してから回帰分析を実行します。データを標準化することで変数間の尺度がそろうため、説明変数同士の比較が可能となります。標準化されたデータの偏回帰係数のことを**標準化偏回帰係数**と呼び、通常の偏回帰係数と区別します。**標準化偏回帰係数の絶対値**が大きければ大きいほど目的変数への影響が強いと解釈します。例えば、変数Aと変数Bの標準化偏回帰係数がそれぞれ0.5と-0.6であった場合、”変数Bの方が目的変数に強く影響しており、変数Bが増えれば増えるほど目的変数は減少する”と解釈します。\\\n",
        "まとめると、偏回帰係数はその説明変数が目的変数にどれくらい影響するか、標準化偏回帰係数はその説明変数が他の変数と比べてどれくらい目的変数に影響するかを意味します。偏回帰係数と標準化偏回帰係数は解釈の仕方が変わってくるため、結果を見る時は注意しましょう。\n",
        "*  **P(>|t|)（P値）**は、ある説明変数が目的変数に影響しているかどうかを示す。各偏回帰係数の統計的有意性を示す検定（帰無仮説：偏回帰係数βⱼ=0）のP値である。ここでのP値は、偏回帰係数が本当は0なのに、サンプルから計算した偏回帰係数が計算結果以上に0から隔たってしまう確率のこと。この確率が小さい場合、すなわち、偶然そういう結果が出ることは極めてまれであると言える場合は、前提とした仮説が誤っていたと言える。つまり、P値が有意水準（たとえば0.05）を下回っている変数は目的変数に影響している（偏回帰係数は0ではない）と言える。P値が有意水準以上の変数は「目的変数に影響しているとは言い切れない」と解釈。P値が有意水準以上の変数を説明変数から除くというのはモデル選択法の1つ。\n",
        "*  **[0.025      0.975]（95%信頼区間）**"
      ],
      "metadata": {
        "id": "qQe62N0gpcwO"
      }
    },
    {
      "cell_type": "markdown",
      "source": [
        "**P値**についての解説は、たとえば、[ここ](https://www.nri.com/jp/knowledge/glossary/lst/alphabet/p_value)を参照\n"
      ],
      "metadata": {
        "id": "oXQ4a62t6VvM"
      }
    },
    {
      "cell_type": "markdown",
      "source": [
        "## 演習問題\n"
      ],
      "metadata": {
        "id": "TN3cX2COD6Hx"
      }
    },
    {
      "cell_type": "markdown",
      "source": [
        "### 問題１\n",
        "A) 53個のデータ全てを用い、標準化された全ての説明変数を用いて重回帰分析した場合の、自由度調整済み決定係数と標準化偏回帰係数と各説明変数のP値を求めなさい。\\\n",
        "B) 5%有意水準以上のP値となった説明変数を挙げなさい。\\\n",
        "C) B)の説明変数を除き、53個のデータ全てを用い、重回帰分析した場合の、自由度調整済み決定係数と標準化偏回帰係数と各説明変数のP値を求めなさい。"
      ],
      "metadata": {
        "id": "d41jku7YFAcA"
      }
    },
    {
      "cell_type": "code",
      "source": [
        "# A)\n",
        "import pandas as pd\n",
        "import numpy as np\n",
        "import matplotlib.pyplot as plt\n",
        "import statsmodels.api as sm\n",
        "\n",
        "df = pd.read_csv(\"senkei.csv\", index_col=0)  # ← データファイルのパスを正しく指定して下さい。\n",
        "\n",
        "# データフレームの各列を標準化\n",
        "df2 = df.apply(lambda x: (x - np.mean(x)) / np.std(x))\n",
        "\n",
        "# 説明変数\n",
        "X = df2.iloc[:, 1:7].values\n",
        "\n",
        "# 目的変数\n",
        "Y = df2.iloc[:, 0].values\n",
        "\n",
        "# データをロード\n",
        "X_c = sm.add_constant(X)  # 定数項（切片）を追加\n",
        "\n",
        "# OLSモデルの構築とフィット\n",
        "ols_model = sm.OLS(Y, X_c)\n",
        "results = ols_model.fit()\n",
        "\n",
        "# 結果の要約を出力\n",
        "print(results.summary())"
      ],
      "metadata": {
        "id": "boXY6vYFLzXV",
        "colab": {
          "base_uri": "https://localhost:8080/"
        },
        "outputId": "addfb6e2-7d72-4937-a14f-a23e10f2bcab"
      },
      "execution_count": 35,
      "outputs": [
        {
          "output_type": "stream",
          "name": "stdout",
          "text": [
            "                            OLS Regression Results                            \n",
            "==============================================================================\n",
            "Dep. Variable:                      y   R-squared:                       0.742\n",
            "Model:                            OLS   Adj. R-squared:                  0.709\n",
            "Method:                 Least Squares   F-statistic:                     22.08\n",
            "Date:                Tue, 11 Jun 2024   Prob (F-statistic):           4.87e-12\n",
            "Time:                        12:41:47   Log-Likelihood:                -39.274\n",
            "No. Observations:                  53   AIC:                             92.55\n",
            "Df Residuals:                      46   BIC:                             106.3\n",
            "Df Model:                           6                                         \n",
            "Covariance Type:            nonrobust                                         \n",
            "==============================================================================\n",
            "                 coef    std err          t      P>|t|      [0.025      0.975]\n",
            "------------------------------------------------------------------------------\n",
            "const       3.711e-17      0.075   4.96e-16      1.000      -0.151       0.151\n",
            "x1             0.1449      0.116      1.246      0.219      -0.089       0.379\n",
            "x2             0.2404      0.147      1.640      0.108      -0.055       0.535\n",
            "x3             0.4240      0.104      4.093      0.000       0.216       0.633\n",
            "x4             0.3388      0.107      3.153      0.003       0.122       0.555\n",
            "x5            -0.0752      0.132     -0.572      0.570      -0.340       0.190\n",
            "x6             0.1237      0.088      1.407      0.166      -0.053       0.301\n",
            "==============================================================================\n",
            "Omnibus:                        2.447   Durbin-Watson:                   1.159\n",
            "Prob(Omnibus):                  0.294   Jarque-Bera (JB):                1.639\n",
            "Skew:                           0.402   Prob(JB):                        0.441\n",
            "Kurtosis:                       3.310   Cond. No.                         4.41\n",
            "==============================================================================\n",
            "\n",
            "Notes:\n",
            "[1] Standard Errors assume that the covariance matrix of the errors is correctly specified.\n"
          ]
        }
      ]
    },
    {
      "cell_type": "code",
      "source": [
        "print(results.params)"
      ],
      "metadata": {
        "colab": {
          "base_uri": "https://localhost:8080/"
        },
        "id": "cRPxvHINp_zA",
        "outputId": "f6962003-a5b9-4c17-8a80-94d0ed2064cb"
      },
      "execution_count": 20,
      "outputs": [
        {
          "output_type": "stream",
          "name": "stdout",
          "text": [
            "[ 3.71077856e-17  1.44936812e-01  2.40394028e-01  4.24019655e-01\n",
            "  3.38814639e-01 -7.52202549e-02  1.23663296e-01]\n"
          ]
        }
      ]
    },
    {
      "cell_type": "code",
      "source": [
        "print(df2.columns)"
      ],
      "metadata": {
        "colab": {
          "base_uri": "https://localhost:8080/"
        },
        "id": "Mj8Y25ddqqRp",
        "outputId": "58bde052-6821-4239-83fb-3ec03beab68e"
      },
      "execution_count": 21,
      "outputs": [
        {
          "output_type": "stream",
          "name": "stdout",
          "text": [
            "Index(['sales', 'insta_post', 'insta_good', 'flyer', 'event', 'new_item',\n",
            "       'holiday'],\n",
            "      dtype='object')\n"
          ]
        }
      ]
    },
    {
      "cell_type": "code",
      "source": [
        "# 主要な結果の出力\n",
        "print(f\"自由度調整済み決定係数: {results.rsquared_adj:.4f}\")\n",
        "print(\"- 説明変数: 標準化偏回帰係数, P値\")\n",
        "for i, (coef, p_value) in enumerate(zip(results.params[1:], results.pvalues[1:])):\n",
        "    print(f\"- {df2.columns[i + 1]}: {coef:.4f}, {p_value:.4f}\")"
      ],
      "metadata": {
        "colab": {
          "base_uri": "https://localhost:8080/"
        },
        "id": "ollJI1RCoDa0",
        "outputId": "616f9459-e7d6-494d-86b1-6c3bf32879ca"
      },
      "execution_count": 36,
      "outputs": [
        {
          "output_type": "stream",
          "name": "stdout",
          "text": [
            "自由度調整済み決定係数: 0.7086\n",
            "- 説明変数: 標準化偏回帰係数, P値\n",
            "- insta_post: 0.1449, 0.2192\n",
            "- insta_good: 0.2404, 0.1078\n",
            "- flyer: 0.4240, 0.0002\n",
            "- event: 0.3388, 0.0028\n",
            "- new_item: -0.0752, 0.5704\n",
            "- holiday: 0.1237, 0.1662\n"
          ]
        }
      ]
    },
    {
      "cell_type": "markdown",
      "source": [
        "sklearn.linear_model.LinearRegressionでの結果と同じかの確認用\n",
        "\n",
        "         Name  Coefficients\n",
        "0  insta_post      0.144937\n",
        "1  insta_good      0.240394\n",
        "2       flyer      0.424020\n",
        "3       event      0.338815\n",
        "4    new_item     -0.075220\n",
        "5     holiday      0.123663\n",
        "1.713800285331052e-17"
      ],
      "metadata": {
        "id": "Iax6C-OETYSg"
      }
    },
    {
      "cell_type": "code",
      "source": [
        "# 解答例から：dfをolsモデルの入力にした方が結果が見やすい\n",
        "# データをロード\n",
        "X_c = sm.add_constant(df2.iloc[:, 1:7])  # 定数項（切片）を追加\n",
        "\n",
        "# OLSモデルの構築とフィット\n",
        "ols_model = sm.OLS(df2.iloc[:, 0], X_c)\n",
        "results = ols_model.fit()\n",
        "\n",
        "# 結果の要約を出力\n",
        "print(results.summary())"
      ],
      "metadata": {
        "colab": {
          "base_uri": "https://localhost:8080/"
        },
        "id": "MJBtFVfSQdbI",
        "outputId": "f90eb55b-f2cb-4b2e-9352-624d7e49d8e0"
      },
      "execution_count": null,
      "outputs": [
        {
          "output_type": "stream",
          "name": "stdout",
          "text": [
            "                            OLS Regression Results                            \n",
            "==============================================================================\n",
            "Dep. Variable:                  sales   R-squared:                       0.742\n",
            "Model:                            OLS   Adj. R-squared:                  0.709\n",
            "Method:                 Least Squares   F-statistic:                     22.08\n",
            "Date:                Tue, 04 Jun 2024   Prob (F-statistic):           4.87e-12\n",
            "Time:                        17:37:17   Log-Likelihood:                -39.274\n",
            "No. Observations:                  53   AIC:                             92.55\n",
            "Df Residuals:                      46   BIC:                             106.3\n",
            "Df Model:                           6                                         \n",
            "Covariance Type:            nonrobust                                         \n",
            "==============================================================================\n",
            "                 coef    std err          t      P>|t|      [0.025      0.975]\n",
            "------------------------------------------------------------------------------\n",
            "const       3.711e-17      0.075   4.96e-16      1.000      -0.151       0.151\n",
            "insta_post     0.1449      0.116      1.246      0.219      -0.089       0.379\n",
            "insta_good     0.2404      0.147      1.640      0.108      -0.055       0.535\n",
            "flyer          0.4240      0.104      4.093      0.000       0.216       0.633\n",
            "event          0.3388      0.107      3.153      0.003       0.122       0.555\n",
            "new_item      -0.0752      0.132     -0.572      0.570      -0.340       0.190\n",
            "holiday        0.1237      0.088      1.407      0.166      -0.053       0.301\n",
            "==============================================================================\n",
            "Omnibus:                        2.447   Durbin-Watson:                   1.159\n",
            "Prob(Omnibus):                  0.294   Jarque-Bera (JB):                1.639\n",
            "Skew:                           0.402   Prob(JB):                        0.441\n",
            "Kurtosis:                       3.310   Cond. No.                         4.41\n",
            "==============================================================================\n",
            "\n",
            "Notes:\n",
            "[1] Standard Errors assume that the covariance matrix of the errors is correctly specified.\n"
          ]
        }
      ]
    },
    {
      "cell_type": "markdown",
      "source": [
        "B) 5%有意水準以上のP値となった説明変数：\n",
        "*   x1: insta_post\n",
        "*   x2: insta_good\n",
        "*   x5: new_item\n",
        "*   x6: holiday\n",
        "\n"
      ],
      "metadata": {
        "id": "WsDXubGRL_WC"
      }
    },
    {
      "cell_type": "code",
      "source": [
        "# C)\n",
        "# 説明変数 x1: insta_post, x2: insta_good, x5: new_item, x6: holidayを一気に削除\n",
        "X = df2.iloc[:, [3, 4]].values\n",
        "\n",
        "# 目的変数\n",
        "Y = df2.iloc[:, 0].values\n",
        "\n",
        "# データをロード\n",
        "X_c = sm.add_constant(X)  # 定数項（切片）を追加\n",
        "\n",
        "# OLSモデルの構築とフィット\n",
        "ols_model = sm.OLS(Y, X_c)\n",
        "results = ols_model.fit()\n",
        "\n",
        "# 結果の要約を出力\n",
        "print(results.summary())"
      ],
      "metadata": {
        "id": "ep1C088kL8ef",
        "colab": {
          "base_uri": "https://localhost:8080/"
        },
        "outputId": "cea09106-ba3d-4cd3-f59c-9edefb5c042e"
      },
      "execution_count": null,
      "outputs": [
        {
          "output_type": "stream",
          "name": "stdout",
          "text": [
            "                            OLS Regression Results                            \n",
            "==============================================================================\n",
            "Dep. Variable:                      y   R-squared:                       0.681\n",
            "Model:                            OLS   Adj. R-squared:                  0.668\n",
            "Method:                 Least Squares   F-statistic:                     53.30\n",
            "Date:                Tue, 04 Jun 2024   Prob (F-statistic):           4.02e-13\n",
            "Time:                        16:26:27   Log-Likelihood:                -44.949\n",
            "No. Observations:                  53   AIC:                             95.90\n",
            "Df Residuals:                      50   BIC:                             101.8\n",
            "Df Model:                           2                                         \n",
            "Covariance Type:            nonrobust                                         \n",
            "==============================================================================\n",
            "                 coef    std err          t      P>|t|      [0.025      0.975]\n",
            "------------------------------------------------------------------------------\n",
            "const       3.017e-17      0.080   3.78e-16      1.000      -0.161       0.161\n",
            "x1             0.5838      0.083      7.032      0.000       0.417       0.751\n",
            "x2             0.4459      0.083      5.371      0.000       0.279       0.613\n",
            "==============================================================================\n",
            "Omnibus:                        6.930   Durbin-Watson:                   1.217\n",
            "Prob(Omnibus):                  0.031   Jarque-Bera (JB):                5.960\n",
            "Skew:                           0.689   Prob(JB):                       0.0508\n",
            "Kurtosis:                       3.895   Cond. No.                         1.32\n",
            "==============================================================================\n",
            "\n",
            "Notes:\n",
            "[1] Standard Errors assume that the covariance matrix of the errors is correctly specified.\n"
          ]
        }
      ]
    },
    {
      "cell_type": "code",
      "source": [
        "# 主要な結果の出力\n",
        "print(f\"自由度調整済み決定係数: {results.rsquared_adj:.4f}\")\n",
        "print(\"- 説明変数: 標準化偏回帰係数, P値\")\n",
        "for i, (coef, p_value) in enumerate(zip(results.params[1:], results.pvalues[1:])):\n",
        "    print(f\"- {df2.iloc[:, [3, 4]].columns[i]}: {coef:.4f}, {p_value:.4f}\")"
      ],
      "metadata": {
        "colab": {
          "base_uri": "https://localhost:8080/"
        },
        "id": "Gd_M8mczBHEn",
        "outputId": "da760b1c-2afe-4776-a0aa-f1ad027f2df8"
      },
      "execution_count": null,
      "outputs": [
        {
          "output_type": "stream",
          "name": "stdout",
          "text": [
            "自由度調整済み決定係数: 0.6679\n",
            "- 説明変数: 標準化偏回帰係数, P値\n",
            "- flyer: 0.5838, 0.0000\n",
            "- event: 0.4459, 0.0000\n"
          ]
        }
      ]
    },
    {
      "cell_type": "code",
      "source": [
        "# 解答例から：5%有意水準以上のP値となった説明変数をプログラムで削除\n",
        "# C)\n",
        "\n",
        "# 説明変数\n",
        "X = df2.iloc[:, 1:7].values\n",
        "\n",
        "# 目的変数\n",
        "Y = df2.iloc[:, 0].values\n",
        "\n",
        "# データをロード\n",
        "X_c = sm.add_constant(X)  # 定数項（切片）を追加\n",
        "\n",
        "# OLSモデルの構築とフィット\n",
        "ols_model = sm.OLS(Y, X_c)\n",
        "results = ols_model.fit()\n",
        "\n",
        "# 5%有意水準以上のP値となった説明変数のインデックスを取得\n",
        "insignificant_vars_indices = np.where(results.pvalues[1:] > 0.05)[0]\n",
        "\n",
        "# 5%有意水準以上のP値となった説明変数を削除\n",
        "X_new = np.delete(X, insignificant_vars_indices, axis=1)\n",
        "\n",
        "# 定数項（切片）を追加\n",
        "X_new_c = sm.add_constant(X_new)\n",
        "\n",
        "# 新しい説明変数を使用してOLSモデルを構築とフィット\n",
        "new_ols_model = sm.OLS(Y, X_new_c)\n",
        "new_results = new_ols_model.fit()\n",
        "\n",
        "# 新しいモデルの結果を出力\n",
        "print(new_results.summary())"
      ],
      "metadata": {
        "colab": {
          "base_uri": "https://localhost:8080/"
        },
        "id": "xXn3h7RZW92V",
        "outputId": "f94b0e5c-6412-4416-8cdb-f9083aad9e91"
      },
      "execution_count": null,
      "outputs": [
        {
          "output_type": "stream",
          "name": "stdout",
          "text": [
            "                            OLS Regression Results                            \n",
            "==============================================================================\n",
            "Dep. Variable:                      y   R-squared:                       0.681\n",
            "Model:                            OLS   Adj. R-squared:                  0.668\n",
            "Method:                 Least Squares   F-statistic:                     53.30\n",
            "Date:                Tue, 04 Jun 2024   Prob (F-statistic):           4.02e-13\n",
            "Time:                        17:49:12   Log-Likelihood:                -44.949\n",
            "No. Observations:                  53   AIC:                             95.90\n",
            "Df Residuals:                      50   BIC:                             101.8\n",
            "Df Model:                           2                                         \n",
            "Covariance Type:            nonrobust                                         \n",
            "==============================================================================\n",
            "                 coef    std err          t      P>|t|      [0.025      0.975]\n",
            "------------------------------------------------------------------------------\n",
            "const       3.017e-17      0.080   3.78e-16      1.000      -0.161       0.161\n",
            "x1             0.5838      0.083      7.032      0.000       0.417       0.751\n",
            "x2             0.4459      0.083      5.371      0.000       0.279       0.613\n",
            "==============================================================================\n",
            "Omnibus:                        6.930   Durbin-Watson:                   1.217\n",
            "Prob(Omnibus):                  0.031   Jarque-Bera (JB):                5.960\n",
            "Skew:                           0.689   Prob(JB):                       0.0508\n",
            "Kurtosis:                       3.895   Cond. No.                         1.32\n",
            "==============================================================================\n",
            "\n",
            "Notes:\n",
            "[1] Standard Errors assume that the covariance matrix of the errors is correctly specified.\n"
          ]
        }
      ]
    },
    {
      "cell_type": "code",
      "source": [
        "# 別の解答例\n",
        "# C)\n",
        "# 5%有意水準以外のp値を持つ説明変数のインデックスを取得\n",
        "significant_vars = pd.Series(results.pvalues).loc[results.pvalues <= 0.05].index\n",
        "\n",
        "# 有意な説明変数のみを含む新しいデータ行列を作成\n",
        "X_significant = X[:, np.isin(np.arange(X.shape[1]), significant_vars)]\n",
        "\n",
        "# 定数項を追加\n",
        "X_significant = sm.add_constant(X_significant)\n",
        "\n",
        "# 新しいデータ行列でモデルを再構築\n",
        "ols_model = sm.OLS(Y, X_significant)\n",
        "results = ols_model.fit()\n",
        "\n",
        "# 自由度調整済み決定係数\n",
        "adjusted_r_squared = results.rsquared_adj\n",
        "\n",
        "# 標準化偏回帰係数\n",
        "standardized_coef = results.params / results.bse\n",
        "\n",
        "# 各説明変数のp値\n",
        "p_values = results.pvalues\n",
        "\n",
        "# 結果の出力\n",
        "print(\"自由度調整済み決定係数:\", adjusted_r_squared)\n",
        "print(\"標準化偏回帰係数:\", standardized_coef)\n",
        "print(\"各説明変数のp値:\", p_values)"
      ],
      "metadata": {
        "id": "BoYblE9nbmd1"
      },
      "execution_count": null,
      "outputs": []
    },
    {
      "cell_type": "markdown",
      "source": [
        "実は、説明変数選択法としては、P値が有意水準以上の説明変数を一気にすべて削除するという変数選択は不適切だと言われていて、**P値が最大のものから、説明変数を「１つずつ」減らしていく方法（変数減少法）**が推奨されている。以下では、これをやって、一気にすべて削除してしまう方法と結果を比べてみよう。\n",
        "\n",
        "なお、**予測が目的**（今回のデータでいうと、売り上げの予測をできるだけ正確にしたい）の場合は、**変数選択は不要**で、使える変数はなるべく使った方がよい（データがあるのに使わないのはもったいない）と言われていて、不必要な変数があってもあまり害はないことが知られている。\n",
        "\n",
        "これに対して、**変数選択が必要**なのは、次の場合：\n",
        "*  分析の初期段階で、候補となる変数群から必要な変数を選択したい。\n",
        "*  予備調査の結果から本調査を行うが、本調査で多くの項目を調査するのはコストがかかるので絞り込みたい。\n",
        "*  制御すべき変数を同定したい（たくさんの変数を制御するのは難しい）。\n",
        "\n",
        "[以上の情報の出典：成蹊大学・横浜市立大学 岩崎学先生の講義資料から]\n",
        "\n"
      ],
      "metadata": {
        "id": "DNdaNoDBhIdA"
      }
    },
    {
      "cell_type": "code",
      "source": [
        "# 説明変数 まず、5: new_itemを削除\n",
        "X = df2.iloc[:, [1, 2, 3, 4, 6]].values\n",
        "\n",
        "# 目的変数\n",
        "Y = df2.iloc[:, 0].values\n",
        "\n",
        "# データをロード\n",
        "X_c = sm.add_constant(X)  # 定数項（切片）を追加\n",
        "\n",
        "# OLSモデルの構築とフィット\n",
        "ols_model = sm.OLS(Y, X_c)\n",
        "results = ols_model.fit()\n",
        "\n",
        "# 結果の要約を出力\n",
        "print(results.summary())"
      ],
      "metadata": {
        "colab": {
          "base_uri": "https://localhost:8080/"
        },
        "id": "EKB98FOahXwL",
        "outputId": "bfc56aed-0723-4576-9f7a-6ea20e06919b"
      },
      "execution_count": null,
      "outputs": [
        {
          "output_type": "stream",
          "name": "stdout",
          "text": [
            "                            OLS Regression Results                            \n",
            "==============================================================================\n",
            "Dep. Variable:                      y   R-squared:                       0.740\n",
            "Model:                            OLS   Adj. R-squared:                  0.713\n",
            "Method:                 Least Squares   F-statistic:                     26.81\n",
            "Date:                Tue, 04 Jun 2024   Prob (F-statistic):           1.04e-12\n",
            "Time:                        16:11:53   Log-Likelihood:                -39.462\n",
            "No. Observations:                  53   AIC:                             90.92\n",
            "Df Residuals:                      47   BIC:                             102.7\n",
            "Df Model:                           5                                         \n",
            "Covariance Type:            nonrobust                                         \n",
            "==============================================================================\n",
            "                 coef    std err          t      P>|t|      [0.025      0.975]\n",
            "------------------------------------------------------------------------------\n",
            "const       3.711e-17      0.074   4.99e-16      1.000      -0.150       0.150\n",
            "x1             0.1077      0.096      1.125      0.266      -0.085       0.300\n",
            "x2             0.1959      0.123      1.589      0.119      -0.052       0.444\n",
            "x3             0.4259      0.103      4.143      0.000       0.219       0.633\n",
            "x4             0.3757      0.085      4.405      0.000       0.204       0.547\n",
            "x5             0.1384      0.083      1.658      0.104      -0.029       0.306\n",
            "==============================================================================\n",
            "Omnibus:                        2.053   Durbin-Watson:                   1.165\n",
            "Prob(Omnibus):                  0.358   Jarque-Bera (JB):                1.217\n",
            "Skew:                           0.301   Prob(JB):                        0.544\n",
            "Kurtosis:                       3.436   Cond. No.                         3.18\n",
            "==============================================================================\n",
            "\n",
            "Notes:\n",
            "[1] Standard Errors assume that the covariance matrix of the errors is correctly specified.\n"
          ]
        }
      ]
    },
    {
      "cell_type": "code",
      "source": [
        "# 主要な結果の出力\n",
        "print(f\"自由度調整済み決定係数: {results.rsquared_adj:.4f}\")\n",
        "print(\"- 説明変数: 標準化偏回帰係数, P値\")\n",
        "for i, (coef, p_value) in enumerate(zip(results.params[1:], results.pvalues[1:])):\n",
        "    print(f\"- {df2.iloc[:, [1, 2, 3, 4, 6]].columns[i]}: {coef:.4f}, {p_value:.4f}\")"
      ],
      "metadata": {
        "colab": {
          "base_uri": "https://localhost:8080/"
        },
        "id": "ixpYqbdeBZK7",
        "outputId": "06158a28-fd09-4b9f-dd83-f1ea94ea4567"
      },
      "execution_count": null,
      "outputs": [
        {
          "output_type": "stream",
          "name": "stdout",
          "text": [
            "自由度調整済み決定係数: 0.7128\n",
            "- 説明変数: 標準化偏回帰係数, P値\n",
            "- insta_post: 0.1077, 0.2662\n",
            "- insta_good: 0.1959, 0.1189\n",
            "- flyer: 0.4259, 0.0001\n",
            "- event: 0.3757, 0.0001\n",
            "- holiday: 0.1384, 0.1039\n"
          ]
        }
      ]
    },
    {
      "cell_type": "code",
      "source": [
        "# 説明変数 つづいて、1: insta_postを削除\n",
        "X = df2.iloc[:, [2, 3, 4, 6]].values\n",
        "\n",
        "# 目的変数\n",
        "Y = df2.iloc[:, 0].values\n",
        "\n",
        "# データをロード\n",
        "X_c = sm.add_constant(X)  # 定数項（切片）を追加\n",
        "\n",
        "# OLSモデルの構築とフィット\n",
        "ols_model = sm.OLS(Y, X_c)\n",
        "results = ols_model.fit()\n",
        "\n",
        "# 結果の要約を出力\n",
        "print(results.summary())"
      ],
      "metadata": {
        "colab": {
          "base_uri": "https://localhost:8080/"
        },
        "id": "PVRzGB98jkUQ",
        "outputId": "24963125-17c6-4e6a-c76e-de51a0222c50"
      },
      "execution_count": null,
      "outputs": [
        {
          "output_type": "stream",
          "name": "stdout",
          "text": [
            "                            OLS Regression Results                            \n",
            "==============================================================================\n",
            "Dep. Variable:                      y   R-squared:                       0.733\n",
            "Model:                            OLS   Adj. R-squared:                  0.711\n",
            "Method:                 Least Squares   F-statistic:                     33.02\n",
            "Date:                Tue, 04 Jun 2024   Prob (F-statistic):           3.08e-13\n",
            "Time:                        16:27:58   Log-Likelihood:                -40.166\n",
            "No. Observations:                  53   AIC:                             90.33\n",
            "Df Residuals:                      48   BIC:                             100.2\n",
            "Df Model:                           4                                         \n",
            "Covariance Type:            nonrobust                                         \n",
            "==============================================================================\n",
            "                 coef    std err          t      P>|t|      [0.025      0.975]\n",
            "------------------------------------------------------------------------------\n",
            "const       3.711e-17      0.075   4.98e-16      1.000      -0.150       0.150\n",
            "x1             0.2550      0.112      2.278      0.027       0.030       0.480\n",
            "x2             0.4155      0.103      4.047      0.000       0.209       0.622\n",
            "x3             0.3979      0.083      4.782      0.000       0.231       0.565\n",
            "x4             0.1055      0.078      1.346      0.185      -0.052       0.263\n",
            "==============================================================================\n",
            "Omnibus:                        1.493   Durbin-Watson:                   1.181\n",
            "Prob(Omnibus):                  0.474   Jarque-Bera (JB):                1.071\n",
            "Skew:                           0.348   Prob(JB):                        0.586\n",
            "Kurtosis:                       3.040   Cond. No.                         2.66\n",
            "==============================================================================\n",
            "\n",
            "Notes:\n",
            "[1] Standard Errors assume that the covariance matrix of the errors is correctly specified.\n"
          ]
        }
      ]
    },
    {
      "cell_type": "code",
      "source": [
        "# 主要な結果の出力\n",
        "print(f\"自由度調整済み決定係数: {results.rsquared_adj:.4f}\")\n",
        "print(\"- 説明変数: 標準化偏回帰係数, P値\")\n",
        "for i, (coef, p_value) in enumerate(zip(results.params[1:], results.pvalues[1:])):\n",
        "    print(f\"- {df2.iloc[:, [2, 3, 4, 6]].columns[i]}: {coef:.4f}, {p_value:.4f}\")"
      ],
      "metadata": {
        "colab": {
          "base_uri": "https://localhost:8080/"
        },
        "id": "J82_7w1iFEQM",
        "outputId": "6deb4b78-ec3d-4551-a864-e5da8b839e81"
      },
      "execution_count": null,
      "outputs": [
        {
          "output_type": "stream",
          "name": "stdout",
          "text": [
            "自由度調整済み決定係数: 0.7112\n",
            "- 説明変数: 標準化偏回帰係数, P値\n",
            "- insta_good: 0.2550, 0.0272\n",
            "- flyer: 0.4155, 0.0002\n",
            "- event: 0.3979, 0.0000\n",
            "- holiday: 0.1055, 0.1845\n"
          ]
        }
      ]
    },
    {
      "cell_type": "code",
      "source": [
        "# 説明変数 つづいて、6: holidayを削除\n",
        "X = df2.iloc[:, [2, 3, 4]].values\n",
        "\n",
        "# 目的変数\n",
        "Y = df2.iloc[:, 0].values\n",
        "\n",
        "# データをロード\n",
        "X_c = sm.add_constant(X)  # 定数項（切片）を追加\n",
        "\n",
        "# OLSモデルの構築とフィット\n",
        "ols_model = sm.OLS(Y, X_c)\n",
        "results = ols_model.fit()\n",
        "\n",
        "# 結果の要約を出力\n",
        "print(results.summary())"
      ],
      "metadata": {
        "colab": {
          "base_uri": "https://localhost:8080/"
        },
        "id": "I0SenhpAkYch",
        "outputId": "3f124aab-580a-40f0-fb89-ffda0ed74446"
      },
      "execution_count": null,
      "outputs": [
        {
          "output_type": "stream",
          "name": "stdout",
          "text": [
            "                            OLS Regression Results                            \n",
            "==============================================================================\n",
            "Dep. Variable:                      y   R-squared:                       0.723\n",
            "Model:                            OLS   Adj. R-squared:                  0.706\n",
            "Method:                 Least Squares   F-statistic:                     42.71\n",
            "Date:                Tue, 04 Jun 2024   Prob (F-statistic):           1.03e-13\n",
            "Time:                        16:29:09   Log-Likelihood:                -41.149\n",
            "No. Observations:                  53   AIC:                             90.30\n",
            "Df Residuals:                      49   BIC:                             98.18\n",
            "Df Model:                           3                                         \n",
            "Covariance Type:            nonrobust                                         \n",
            "==============================================================================\n",
            "                 coef    std err          t      P>|t|      [0.025      0.975]\n",
            "------------------------------------------------------------------------------\n",
            "const       3.711e-17      0.075   4.94e-16      1.000      -0.151       0.151\n",
            "x1             0.2976      0.108      2.749      0.008       0.080       0.515\n",
            "x2             0.3998      0.103      3.887      0.000       0.193       0.606\n",
            "x3             0.3753      0.082      4.567      0.000       0.210       0.540\n",
            "==============================================================================\n",
            "Omnibus:                        0.344   Durbin-Watson:                   1.110\n",
            "Prob(Omnibus):                  0.842   Jarque-Bera (JB):                0.161\n",
            "Skew:                           0.135   Prob(JB):                        0.923\n",
            "Kurtosis:                       2.984   Cond. No.                         2.53\n",
            "==============================================================================\n",
            "\n",
            "Notes:\n",
            "[1] Standard Errors assume that the covariance matrix of the errors is correctly specified.\n"
          ]
        }
      ]
    },
    {
      "cell_type": "code",
      "source": [
        "# 主要な結果の出力\n",
        "print(f\"自由度調整済み決定係数: {results.rsquared_adj:.4f}\")\n",
        "print(\"- 説明変数: 標準化偏回帰係数, P値\")\n",
        "for i, (coef, p_value) in enumerate(zip(results.params[1:], results.pvalues[1:])):\n",
        "    print(f\"- {df2.iloc[:, [2, 3, 4]].columns[i]}: {coef:.4f}, {p_value:.4f}\")"
      ],
      "metadata": {
        "colab": {
          "base_uri": "https://localhost:8080/"
        },
        "id": "t1aFEmzUFVit",
        "outputId": "15370820-5ae7-4575-d642-5148c4c03baf"
      },
      "execution_count": null,
      "outputs": [
        {
          "output_type": "stream",
          "name": "stdout",
          "text": [
            "自由度調整済み決定係数: 0.7064\n",
            "- 説明変数: 標準化偏回帰係数, P値\n",
            "- insta_good: 0.2976, 0.0083\n",
            "- flyer: 0.3998, 0.0003\n",
            "- event: 0.3753, 0.0000\n"
          ]
        }
      ]
    },
    {
      "cell_type": "markdown",
      "source": [
        "**１つずつ**減らしていく方法（**変数減少法**）にすると、2: insta_good も説明変数として残った。その分、自由度調整済み決定係数の値も大きくなった。0.6679→0.7064"
      ],
      "metadata": {
        "id": "sTnFrXgBlgma"
      }
    },
    {
      "cell_type": "markdown",
      "source": [
        "### 問題２\n",
        "学習用データとテスト用データを1:1で分割し、学習用データだけを用いて、問題１のA), B), C)を再実行しなさい。なお、C)は、**１つずつ**変数を減らす方法を使うこと。"
      ],
      "metadata": {
        "id": "4AZL-cxrHNs-"
      }
    },
    {
      "cell_type": "code",
      "source": [
        "# A)\n"
      ],
      "metadata": {
        "id": "sNZQTouEL0ZM"
      },
      "execution_count": null,
      "outputs": []
    },
    {
      "cell_type": "markdown",
      "source": [
        "B)"
      ],
      "metadata": {
        "id": "49p4nj8vMYcP"
      }
    },
    {
      "cell_type": "code",
      "source": [
        "# C)\n"
      ],
      "metadata": {
        "id": "OmvMIgmUMbcN"
      },
      "execution_count": null,
      "outputs": []
    },
    {
      "cell_type": "markdown",
      "source": [
        "### 問題３\n",
        "学習用データをもっと減らした場合にどうなるかを実験し、学習データ数が、自由度調整済み決定係数や標準化偏回帰係数や各説明変数のP値に与える影響について考察しなさい。\n",
        "* 学習用データ数をどれくらいに減らして実験すると、考察に役立つでしょうか？また、何通りくらいの数で実験するとよいでしょうか？これらのことも考えながら実験を設計しましょう。\n",
        "* 学習用データ数をより減らすと、（ランダムに選んで減らす訳ですが、）そこでたまたま選ばれたデータがどのようなものであったかの影響をより強く受けるようになると想像されます。この点も考慮して実験するとよいでしょう。どのように実験を計画すると、（たまたまの選択に影響された結果でなく）信頼できる結果が得られるでしょうか？\n",
        "* 実験結果はグラフで表示すると分かりやすいです。どのようなグラフを書くとよいかも考えましょう。AI (Geminiという名前に変わりましたね)に相談するとグラフの書き方、そのためのプログラムの書き方も教えてもらえると思います。"
      ],
      "metadata": {
        "id": "GeLF3-su5caV"
      }
    },
    {
      "cell_type": "markdown",
      "source": [
        "### 問題3への解答方針\n",
        "*  **自由度調整済み決定係数**への影響と標準化偏回帰係数に与える影響は似ていると思うので、以下では、標準化偏回帰係数の実験は省略します。標準化偏回帰係数を調べる場合は、どの説明変数について調べるか、すべての説明変数について調べるのか、個々の説明変数への影響の平均的傾向を調べるのか、といったことを考える必要があります。\n",
        "*  各説明変数のP値への影響を調べるという問題を出したのですが、ここでは、これと同様の変化をすると思われる、**Prob (F-statistic)（有意F）**への影響を調べることにします。各説明変数のP値への影響を調べる場合は、どの説明変数について調べるか、すべての説明変数について調べるのか、個々の説明変数への影響の平均的傾向を調べるのか、といったことを考える必要があります。"
      ],
      "metadata": {
        "id": "CNA-x-W8sKhg"
      }
    },
    {
      "cell_type": "markdown",
      "source": [
        "### 問題3のプログラム解説\n",
        "以下のプログラムは、次のプロンプトでAIに作ってもらったけれどエラーが出るなどいろいろあったので、手で修正を加えた結果です。\n",
        "\n",
        "プログラムの最初の10行（目的変数を作るところまで）は、このノートブックで既に作成済みのプログラムをコピーしてきたものです。このようにこれまでのプログラムが使えるところは、AIに頼むのでなく、動くプログラムを持ってくることが、成功への早道です。\n",
        "\n",
        "**prompt:** 元のデータセットのデータの10%, 20%, 30%, ..., 90%, 100%のデータを使って学習した場合の、自由度調整済み決定係数と、有意Fの変化の様子を調べるプログラムをstatsmodelsを使って書いて下さい。\n",
        "\n",
        "この課題は、いろいろなサイズのデータで学習して評価する、という課題なので、「指定したサイズのデータで学習、評価する」ことが繰り返し、出てきます。このようなケースでは、この**繰り返し出てくる部分を関数にする**、というのが鉄則です。evaluate_modelという関数が定義されています。\n",
        "\n",
        "このように、複雑な問題を扱うためには、関数に分かるのがお勧めで、関数を含むプログラムを作る場合は、AIへの依頼は、\n",
        "1. **まず、どのような関数を作ればよいかを尋ねる**\n",
        "2. **次に、それぞれの関数の作成を依頼する**\n",
        "\n",
        "という手順がお勧めです。"
      ],
      "metadata": {
        "id": "itsVmXftY0-m"
      }
    },
    {
      "source": [
        "import pandas as pd\n",
        "from sklearn.model_selection import train_test_split\n",
        "import statsmodels.api as sm\n",
        "\n",
        "df = pd.read_csv(\"senkei.csv\", index_col=0)  # ← データファイルのパスを正しく指定して下さい。\n",
        "\n",
        "# データフレームの各列を標準化\n",
        "df2 = df.apply(lambda x: (x - np.mean(x)) / np.std(x))\n",
        "\n",
        "# 説明変数\n",
        "X = df2.iloc[:, 1:7].values\n",
        "\n",
        "# 目的変数\n",
        "Y = df2.iloc[:, 0].values\n",
        "\n",
        "# 関数の定義：adjusted R^2 と F-statistic を 指定したデータサイズに対して算出する\n",
        "def evaluate_model(data_size):\n",
        "    # 学習セットとテストセットに、指定したサイズでランダム分割する（学習セットだけ使用）\n",
        "    X_train, X_test, Y_train, Y_test = train_test_split(X, Y, train_size=data_size)\n",
        "\n",
        "    # Add a constant term to the independent variables\n",
        "    X_train_c = sm.add_constant(X_train)\n",
        "\n",
        "    # OLSモデルの構築とフィット\n",
        "    ols_model = sm.OLS(Y_train, X_train_c)\n",
        "    results = ols_model.fit()\n",
        "\n",
        "    # 結果を返す\n",
        "    return results.rsquared_adj, results.f_pvalue\n",
        "\n",
        "# 結果を格納するリストの初期化：空リストにする\n",
        "r2_adjusted_list = []\n",
        "f_statistic_list = []\n",
        "\n",
        "# いろいろなデータサイズでループ：100%は分割にならないので、90%まで実施。\n",
        "for data_size in range(10, 100, 10):\n",
        "    # adjusted R^2 と F-statisticを算出\n",
        "    r2_adjusted, f_statistic = evaluate_model(data_size / 100)\n",
        "\n",
        "    # 結果をリストに追加\n",
        "    r2_adjusted_list.append(r2_adjusted)\n",
        "    f_statistic_list.append(f_statistic)\n",
        "\n",
        "# 結果をプリント\n",
        "print(\"Data Size\\tAdjusted R^2\\tProb (F-statistic)\")\n",
        "for i in range(len(r2_adjusted_list)):\n",
        "    print(f\"{i+1}0%\\t\\t{r2_adjusted_list[i]:.4f}\\t\\t{f_statistic_list[i]:.8f}\")"
      ],
      "cell_type": "code",
      "metadata": {
        "colab": {
          "base_uri": "https://localhost:8080/"
        },
        "id": "sFgiZqR4VLbm",
        "outputId": "45b12f78-5ece-45ff-fd11-6035bf53acd0"
      },
      "execution_count": 45,
      "outputs": [
        {
          "output_type": "stream",
          "name": "stdout",
          "text": [
            "Data Size\tAdjusted R^2\tProb (F-statistic)\n",
            "10%\t\t0.5880\t\t0.40149398\n",
            "20%\t\t0.4407\t\t0.05431006\n",
            "30%\t\t0.8664\t\t0.00004364\n",
            "40%\t\t0.8344\t\t0.00000075\n",
            "50%\t\t0.7698\t\t0.00000274\n",
            "60%\t\t0.6772\t\t0.00000186\n",
            "70%\t\t0.6216\t\t0.00000084\n",
            "80%\t\t0.7311\t\t0.00000000\n",
            "90%\t\t0.7803\t\t0.00000000\n"
          ]
        }
      ]
    },
    {
      "cell_type": "markdown",
      "source": [
        "*  ↑これは、一回の試行の結果。特に、**データサイズが小さいところでは、ランダム選択の影響で変動が大**きく、**1回だけの試行の結果は信頼がおけない**と思われる。\n",
        "*  そこで、下のプログラムは、**試行を10回して、平均**を取って、とAIに依頼して作ったもの"
      ],
      "metadata": {
        "id": "JJueYgEj2DpK"
      }
    },
    {
      "cell_type": "code",
      "source": [
        "import pandas as pd\n",
        "from sklearn.model_selection import train_test_split\n",
        "import statsmodels.api as sm\n",
        "import numpy as np\n",
        "\n",
        "df = pd.read_csv(\"senkei.csv\", index_col=0)  # ← データファイルのパスを正しく指定して下さい。\n",
        "\n",
        "# データフレームの各列を標準化\n",
        "df2 = df.apply(lambda x: (x - np.mean(x)) / np.std(x))\n",
        "\n",
        "# 説明変数\n",
        "X = df2.iloc[:, 1:7].values\n",
        "\n",
        "# 目的変数\n",
        "Y = df2.iloc[:, 0].values\n",
        "\n",
        "# Define a function to calculate the adjusted R^2 and F-statistic for different data sizes\n",
        "def evaluate_model(data_size):\n",
        "    # Initialize lists to store results for each trial\n",
        "    r2_adjusted_trial = []\n",
        "    f_statistic_trial = []\n",
        "\n",
        "    # 10試行のループ\n",
        "    for _ in range(10):\n",
        "        # Split data into train and test sets\n",
        "        X_train, X_test, Y_train, Y_test = train_test_split(X, Y, train_size=data_size)\n",
        "\n",
        "        # Add a constant term to the independent variables\n",
        "        X_train_c = sm.add_constant(X_train)\n",
        "\n",
        "        # OLSモデルの構築とフィット\n",
        "        ols_model = sm.OLS(Y_train, X_train_c)\n",
        "        results = ols_model.fit()\n",
        "\n",
        "        # Append the results of this trial\n",
        "        r2_adjusted_trial.append(results.rsquared_adj)\n",
        "        f_statistic_trial.append(results.f_pvalue)\n",
        "\n",
        "    # 10試行の平均を算出\n",
        "    r2_adjusted = np.mean(r2_adjusted_trial)\n",
        "    f_statistic = np.mean(f_statistic_trial)\n",
        "\n",
        "    # Return the average results\n",
        "    return r2_adjusted, f_statistic\n",
        "\n",
        "# Initialize empty lists to store the results\n",
        "r2_adjusted_list = []\n",
        "f_statistic_list = []\n",
        "\n",
        "# Loop through different data sizes\n",
        "for data_size in range(10, 100, 10):\n",
        "    # Calculate the adjusted R^2 and F-statistic, averaging over 10 trials\n",
        "    r2_adjusted, f_statistic = evaluate_model(data_size / 100)\n",
        "\n",
        "    # Append the results to the lists\n",
        "    r2_adjusted_list.append(r2_adjusted)\n",
        "    f_statistic_list.append(f_statistic)\n",
        "\n",
        "# Print the results\n",
        "print(\"Data Size\\tAdjusted R^2\\tProb (F-statistic)\")\n",
        "for i in range(len(r2_adjusted_list)):\n",
        "    print(f\"{i+1}0%\\t\\t{r2_adjusted_list[i]:.4f}\\t\\t{f_statistic_list[i]:.8f}\")"
      ],
      "metadata": {
        "colab": {
          "base_uri": "https://localhost:8080/"
        },
        "id": "Ly4X75ESnNaW",
        "outputId": "ff009d5b-9052-475e-b106-b5412faee450"
      },
      "execution_count": 46,
      "outputs": [
        {
          "output_type": "stream",
          "name": "stdout",
          "text": [
            "Data Size\tAdjusted R^2\tProb (F-statistic)\n",
            "10%\t\tnan\t\tnan\n",
            "20%\t\t0.6418\t\t0.09231750\n",
            "30%\t\t0.6279\t\t0.03125892\n",
            "40%\t\t0.6957\t\t0.00196601\n",
            "50%\t\t0.6772\t\t0.00134215\n",
            "60%\t\t0.7085\t\t0.00018685\n",
            "70%\t\t0.6998\t\t0.00000429\n",
            "80%\t\t0.7261\t\t0.00000001\n",
            "90%\t\t0.7331\t\t0.00000000\n"
          ]
        },
        {
          "output_type": "stream",
          "name": "stderr",
          "text": [
            "/usr/local/lib/python3.10/dist-packages/statsmodels/regression/linear_model.py:1796: RuntimeWarning: divide by zero encountered in divide\n",
            "  return 1 - (np.divide(self.nobs - self.k_constant, self.df_resid)\n",
            "/usr/local/lib/python3.10/dist-packages/statsmodels/regression/linear_model.py:1796: RuntimeWarning: invalid value encountered in scalar multiply\n",
            "  return 1 - (np.divide(self.nobs - self.k_constant, self.df_resid)\n"
          ]
        }
      ]
    },
    {
      "cell_type": "markdown",
      "source": [
        "*  ↑10％のサイズでは、エラーが出て算出できなかったという結果。これはデータサイズが小さくなり過ぎた結果だと思われるため、やむを得ないだろう。上記の1回だけ試行のときには、エラーが出なかった訳だが、10回試行すると、そのうちのどれかでエラーが出る可能性が高まるということだろう。１０％は、データ5個しかないからね。\n",
        "*  下のプログラムは、**各試行のばらつき具合も表示**すれば、さらに的確に状況が把握できると考えて、平均に加えて**標準偏差**も算出することにした。この追加をAIに依頼。\n",
        "*  さらに、結果をグラフ化するように、AIに依頼。**グラフ化（可視化）は、データ分析においてとても大切**。\n",
        "*  **グラフを見ると、10回の平均では、安定してないことが分かった**ので、**100回の平均に変更**。**皆さんも、100回を10回に変更してプログラムを動かしてみて、それを実感して下さい**。"
      ],
      "metadata": {
        "id": "6KKwUyik33Mt"
      }
    },
    {
      "cell_type": "code",
      "source": [
        "import pandas as pd\n",
        "from sklearn.model_selection import train_test_split\n",
        "import statsmodels.api as sm\n",
        "import numpy as np\n",
        "import matplotlib.pyplot as plt\n",
        "\n",
        "df = pd.read_csv(\"senkei.csv\", index_col=0)  # ← データファイルのパスを正しく指定して下さい。\n",
        "\n",
        "# データフレームの各列を標準化\n",
        "df2 = df.apply(lambda x: (x - np.mean(x)) / np.std(x))\n",
        "\n",
        "# 説明変数\n",
        "X = df2.iloc[:, 1:7].values\n",
        "\n",
        "# 目的変数\n",
        "Y = df2.iloc[:, 0].values\n",
        "\n",
        "# Define a function to calculate the adjusted R^2 and F-statistic for different data sizes\n",
        "def evaluate_model(data_size):\n",
        "    # Initialize lists to store results for each trial\n",
        "    r2_adjusted_trial = []\n",
        "    f_statistic_trial = []\n",
        "\n",
        "    # 100試行のループ\n",
        "    for _ in range(100):\n",
        "        # Split data into train and test sets\n",
        "        X_train, X_test, Y_train, Y_test = train_test_split(X, Y, train_size=data_size)\n",
        "\n",
        "        # Add a constant term to the independent variables\n",
        "        X_train_c = sm.add_constant(X_train)\n",
        "\n",
        "        # OLSモデルの構築とフィット\n",
        "        ols_model = sm.OLS(Y_train, X_train_c)\n",
        "        results = ols_model.fit()\n",
        "\n",
        "        # Append the results of this trial\n",
        "        r2_adjusted_trial.append(results.rsquared_adj)\n",
        "        f_statistic_trial.append(results.f_pvalue)\n",
        "\n",
        "    # Calculate the average and standard deviation of the 10 trials\n",
        "    r2_adjusted = np.mean(r2_adjusted_trial)\n",
        "    r2_adjusted_std = np.std(r2_adjusted_trial)\n",
        "    f_statistic = np.mean(f_statistic_trial)\n",
        "    f_statistic_std = np.std(f_statistic_trial)\n",
        "\n",
        "    # Return the average results and standard deviations\n",
        "    return r2_adjusted, r2_adjusted_std, f_statistic, f_statistic_std\n",
        "\n",
        "# Initialize empty lists to store the results\n",
        "r2_adjusted_list = []\n",
        "r2_adjusted_std_list = []\n",
        "f_statistic_list = []\n",
        "f_statistic_std_list = []\n",
        "\n",
        "# Loop through different data sizes\n",
        "for data_size in range(10, 100, 10):\n",
        "    # Calculate the adjusted R^2 and F-statistic, averaging over 10 trials\n",
        "    r2_adjusted, r2_adjusted_std, f_statistic, f_statistic_std = evaluate_model(data_size / 100)\n",
        "\n",
        "    # Append the results to the lists\n",
        "    r2_adjusted_list.append(r2_adjusted)\n",
        "    r2_adjusted_std_list.append(r2_adjusted_std)\n",
        "    f_statistic_list.append(f_statistic)\n",
        "    f_statistic_std_list.append(f_statistic_std)\n",
        "\n",
        "# Print the results\n",
        "print(\"Data Size\\tAdjusted R^2\\tStd (R^2)\\tProb (F-statistic)\\tStd (F-statistic)\")\n",
        "for i in range(len(r2_adjusted_list)):\n",
        "    print(f\"{i+1}0%\\t\\t{r2_adjusted_list[i]:.4f}\\t\\t{r2_adjusted_std_list[i]:.4f}\\t\\t{f_statistic_list[i]:.8f}\\t\\t{f_statistic_std_list[i]:.8f}\")\n",
        "\n",
        "# グラフで可視化\n",
        "plt.figure(figsize=(8, 6))\n",
        "plt.subplot(2, 1, 1)\n",
        "plt.plot(range(10, 100, 10), r2_adjusted_list, label=\"Average Adjusted R²\")\n",
        "plt.fill_between(range(10, 100, 10), np.array(r2_adjusted_list) - np.array(r2_adjusted_std_list), np.array(r2_adjusted_list) + np.array(r2_adjusted_std_list), alpha=0.3)\n",
        "plt.xlabel(\"Data Size (%)\")\n",
        "plt.ylabel(\"Adjusted R²\")\n",
        "plt.title(\"Adjusted R² vs. Data Size\")\n",
        "plt.legend()\n",
        "\n",
        "plt.subplot(2, 1, 2)\n",
        "plt.plot(range(10, 100, 10), f_statistic_list, label=\"Average Prob (F-statistic)\")\n",
        "plt.fill_between(range(10, 100, 10), np.array(f_statistic_list) - np.array(f_statistic_std_list), np.array(f_statistic_list) + np.array(f_statistic_std_list), alpha=0.3)\n",
        "plt.xlabel(\"Data Size (%)\")\n",
        "plt.ylabel(\"Prob (F-statistic)\")\n",
        "plt.title(\"Prob (F-statistic) vs. Data Size\")\n",
        "plt.legend()\n",
        "\n",
        "plt.tight_layout()\n",
        "plt.show()"
      ],
      "metadata": {
        "colab": {
          "base_uri": "https://localhost:8080/",
          "height": 870
        },
        "id": "w2hniHCbqXsO",
        "outputId": "42479a5a-9651-469c-e6d0-4176e37feadb"
      },
      "execution_count": 51,
      "outputs": [
        {
          "output_type": "stream",
          "name": "stderr",
          "text": [
            "/usr/local/lib/python3.10/dist-packages/statsmodels/regression/linear_model.py:1796: RuntimeWarning: divide by zero encountered in divide\n",
            "  return 1 - (np.divide(self.nobs - self.k_constant, self.df_resid)\n",
            "/usr/local/lib/python3.10/dist-packages/statsmodels/regression/linear_model.py:1796: RuntimeWarning: invalid value encountered in scalar multiply\n",
            "  return 1 - (np.divide(self.nobs - self.k_constant, self.df_resid)\n"
          ]
        },
        {
          "output_type": "stream",
          "name": "stdout",
          "text": [
            "Data Size\tAdjusted R^2\tStd (R^2)\tProb (F-statistic)\tStd (F-statistic)\n",
            "10%\t\tnan\t\tnan\t\tnan\t\tnan\n",
            "20%\t\t0.6720\t\t0.2775\t\t0.07904816\t\t0.13793976\n",
            "30%\t\t0.6838\t\t0.1772\t\t0.01514491\t\t0.03563333\n",
            "40%\t\t0.6875\t\t0.1661\t\t0.00373057\t\t0.01070606\n",
            "50%\t\t0.7127\t\t0.1381\t\t0.00035882\t\t0.00122443\n",
            "60%\t\t0.7031\t\t0.1254\t\t0.00010042\t\t0.00034975\n",
            "70%\t\t0.7092\t\t0.0976\t\t0.00000608\t\t0.00002570\n",
            "80%\t\t0.7052\t\t0.0774\t\t0.00000037\t\t0.00000122\n",
            "90%\t\t0.7072\t\t0.0639\t\t0.00000006\t\t0.00000023\n"
          ]
        },
        {
          "output_type": "display_data",
          "data": {
            "text/plain": [
              "<Figure size 800x600 with 2 Axes>"
            ],
            "image/png": "[encoded data removed]"
          },
          "metadata": {}
        }
      ]
    },
    {
      "cell_type": "markdown",
      "source": [
        "### 問題4\n",
        "1. 上のグラフ（試行数100）を見て分かったことを書きなさい。\n",
        "2. 試行数を10に減らしたり、1000に増やしたりして、分かったことを書きなさい。試行数10の場合は、1回だけでなく、何回か試してみなさい。\n",
        "3. 下のグラフは縦軸を対数軸にすると、データサイズが比較的大きいところでの変化も視覚化できるはずです。試して下さい。AIに頼むとできるはず。対数軸にした場合と、対数軸でなく元の軸のままの場合を見比べて、分かったことを書きなさい。"
      ],
      "metadata": {
        "id": "GY3Qa5jQ7QQy"
      }
    },
    {
      "cell_type": "markdown",
      "source": [
        "### 問題4の解答をここに記入\n",
        "\n"
      ],
      "metadata": {
        "id": "w7AyuMO98DmB"
      }
    },
    {
      "cell_type": "code",
      "source": [],
      "metadata": {
        "id": "iL7hEFTU9KAX"
      },
      "execution_count": null,
      "outputs": []
    }
  ],
  "metadata": {
    "colab": {
      "provenance": [],
      "toc_visible": true,
      "include_colab_link": true
    },
    "kernelspec": {
      "display_name": "Python 3",
      "language": "python",
      "name": "python3"
    },
    "language_info": {
      "codemirror_mode": {
        "name": "ipython",
        "version": 3
      },
      "file_extension": ".py",
      "mimetype": "text/x-python",
      "name": "python",
      "nbconvert_exporter": "python",
      "pygments_lexer": "ipython3",
      "version": "3.7.4"
    }
  },
  "nbformat": 4,
  "nbformat_minor": 0
}