{
  "nbformat": 4,
  "nbformat_minor": 0,
  "metadata": {
    "colab": {
      "provenance": [],
      "toc_visible": true,
      "include_colab_link": true
    },
    "kernelspec": {
      "name": "python3",
      "display_name": "Python 3"
    },
    "language_info": {
      "name": "python"
    }
  },
  "cells": [
    {
      "cell_type": "markdown",
      "metadata": {
        "id": "view-in-github",
        "colab_type": "text"
      },
      "source": [
        "<a href=\"https://colab.research.google.com/github/okana2ki/multiV/blob/main/quiz3com_ans.ipynb\" target=\"_parent\"><img src=\"https://colab.research.google.com/assets/colab-badge.svg\" alt=\"Open In Colab\"/></a>"
      ]
    },
    {
      "cell_type": "markdown",
      "source": [
        "# if文の練習"
      ],
      "metadata": {
        "id": "A0gkFnBbXPtt"
      }
    },
    {
      "cell_type": "markdown",
      "source": [
        "問１：年齢を尋ねて、18歳以上かそうでないかに応じてメッセージを出力するPythonプログラムをif文を使って書いて下さい。"
      ],
      "metadata": {
        "id": "2mzw-jE1WQZv"
      }
    },
    {
      "cell_type": "code",
      "execution_count": null,
      "metadata": {
        "id": "gAI0mELlWOpd",
        "colab": {
          "base_uri": "https://localhost:8080/",
          "height": 254
        },
        "outputId": "61cf1e32-a333-4139-c0a0-34157783f6ed"
      },
      "outputs": [
        {
          "name": "stdout",
          "output_type": "stream",
          "text": [
            "年齢を入力してください: 3.6\n"
          ]
        },
        {
          "output_type": "error",
          "ename": "ValueError",
          "evalue": "invalid literal for int() with base 10: '3.6'",
          "traceback": [
            "\u001b[0;31m---------------------------------------------------------------------------\u001b[0m",
            "\u001b[0;31mValueError\u001b[0m                                Traceback (most recent call last)",
            "\u001b[0;32m<ipython-input-6-c40bde06a294>\u001b[0m in \u001b[0;36m<cell line: 3>\u001b[0;34m()\u001b[0m\n\u001b[1;32m      1\u001b[0m \u001b[0;31m# prompt: 年齢を尋ねて、18歳以上かそうでないかに応じてメッセージを出力するPythonプログラムをif文を使って書いて下さい。\u001b[0m\u001b[0;34m\u001b[0m\u001b[0;34m\u001b[0m\u001b[0m\n\u001b[1;32m      2\u001b[0m \u001b[0;34m\u001b[0m\u001b[0m\n\u001b[0;32m----> 3\u001b[0;31m \u001b[0mage\u001b[0m \u001b[0;34m=\u001b[0m \u001b[0mint\u001b[0m\u001b[0;34m(\u001b[0m\u001b[0minput\u001b[0m\u001b[0;34m(\u001b[0m\u001b[0;34m\"年齢を入力してください: \"\u001b[0m\u001b[0;34m)\u001b[0m\u001b[0;34m)\u001b[0m\u001b[0;34m\u001b[0m\u001b[0;34m\u001b[0m\u001b[0m\n\u001b[0m\u001b[1;32m      4\u001b[0m \u001b[0;32mif\u001b[0m \u001b[0mage\u001b[0m \u001b[0;34m>=\u001b[0m \u001b[0;36m18\u001b[0m\u001b[0;34m:\u001b[0m\u001b[0;34m\u001b[0m\u001b[0;34m\u001b[0m\u001b[0m\n\u001b[1;32m      5\u001b[0m     \u001b[0mprint\u001b[0m\u001b[0;34m(\u001b[0m\u001b[0;34m\"あなたは18歳以上なので、成人です。\"\u001b[0m\u001b[0;34m)\u001b[0m\u001b[0;34m\u001b[0m\u001b[0;34m\u001b[0m\u001b[0m\n",
            "\u001b[0;31mValueError\u001b[0m: invalid literal for int() with base 10: '3.6'"
          ]
        }
      ],
      "source": [
        "# prompt: 年齢を尋ねて、18歳以上かそうでないかに応じてメッセージを出力するPythonプログラムをif文を使って書いて下さい。\n",
        "\n",
        "age = int(input(\"年齢を入力してください: \"))\n",
        "if age >= 18:\n",
        "    print(\"あなたは18歳以上なので、成人です。\")\n",
        "else:\n",
        "    print(\"あなたは18歳未満なので、未成年者です。\")\n"
      ]
    },
    {
      "cell_type": "markdown",
      "source": [
        "問２：問１で作成したプログラムについて、下記の点を確認して下さい。\n",
        "\n",
        "* 全角数字で年齢を入力したら、どうなりますか？**OK**\n",
        "* `15歳` のように入力したら、どうなりますか？**エラー。どのようなエラーか、どう入力することが求められているかを伝えて、再入力を促すのが親切。数字部分だけを取り出して処理するという、ユーザに親切な方法もありえる。ただし、その場合は、数字以外は何でも無視するのがよいのか、「歳」「です」のような予想できる文字列だけを削除するのがよいのかは判断が分かれるところ。**\n",
        "* `24です` のように入力したら、どうなりますか？**エラー。どのようなエラーか、どう入力することが求められているかを伝えて、再入力を促すのが親切。数字部分だけを取り出して処理するという、ユーザに親切な方法もありえる。ただし、その場合は、数字以外は何でも無視するのがよいのか、「歳」「です」のような予想できる文字列だけを削除するのがよいのかは判断が分かれるところ。**\n",
        "* `-3` のように負の数を入力したら、どうなりますか？**年齢として負の数が代入され、未成年と判断されるが、年齢が負の数なのはありえないので、その旨ユーザに伝えるべきだろう。**\n",
        "* `10018` のような大きな数を入力したら、どうなりますか？**成人と判断されるが、冗談で入力したか、誤入力だと思われるので、その旨ユーザに伝えるべきだろう。**\n",
        "* `3.6` のように小数を入力したら、どうなりますか？**エラー。年齢として小数点付きの数を入力することは一般的ではないので、どのようなエラーか、どう入力することが求められているかを伝えて、再入力を促すのが親切だろう。**\n",
        "* 追加：空文字（何も入力せずにEnterを押した）の場合は、どうなりますか？**入力ミスだと思われるので、年齢の入力を促すべきだろう。**\n",
        "\n",
        "**実用システム**を開発するときは、このような、**ありとあらゆる入力に対して、適切に応答する必要**があります。考えられるすべてのケースに対して適切に応答できるよう、プログラムを改良して下さい。⇒しかし、実際のところ、すべての入力に対応するのは不可能だと思われるので、「できるだけ多くの場合に対応できるよう努力する」というのが現実的だろう。ただし、**いかなる場合であっても**（多少不便なくらいはやむを得ないとしても）**致命的な事態にはならない**ように設計して欲しい。\n",
        "\n"
      ],
      "metadata": {
        "id": "0rM6if7EocUB"
      }
    },
    {
      "cell_type": "markdown",
      "source": [
        "参考情報：[Pythonで文字列を `int( )` で変換するときにエラーになるケースと解決方法](https://gammasoft.jp/support/python-error-str-convert-to-int/)"
      ],
      "metadata": {
        "id": "BEkiIVCwBrMY"
      }
    },
    {
      "cell_type": "markdown",
      "source": [
        "生成AIは、問２で考えたようないろいろなケースに対応できる、より望ましいプログラムを書く力を備えています。しかし、それにも関わらず、最初にあなたが、問１の問題をコピペしてプログラム作成を依頼したときには、そのようなプログラムは生成しなかったと思います。これは**プログラム生成に限らず生成AIが一般的に持っている性質**です。すなわち、**生成AIはとてもたくさんのことを知っていますが、それを聞き出すには、対話者の力量が必要**です。\n",
        "\n",
        "一般的な質問や依頼をするだけでは、問１に対するプログラムのような、一般的なそこそこの出力を生成してくるだけです。そこから、**さらにやりとりを重ねてより的確な答を引き出せるかどうかは、あなたの知識や経験や想像力にかかっています**。そういう訳で、「生成AIが使えるから勉強する必要はなくなった」ということは決してありません。みなさん、**（生成AI時代に必要な）勉強を続けましょう！**"
      ],
      "metadata": {
        "id": "-ey7ar1al8Mc"
      }
    },
    {
      "cell_type": "markdown",
      "source": [
        "## プログラムの例と問題点"
      ],
      "metadata": {
        "id": "pk_TOBasZrDb"
      }
    },
    {
      "cell_type": "code",
      "execution_count": 1,
      "metadata": {
        "colab": {
          "base_uri": "https://localhost:8080/"
        },
        "id": "qx_Edf7SnBqZ",
        "outputId": "724c0cf3-e955-4ed6-d182-37113ea83ecc"
      },
      "outputs": [
        {
          "output_type": "stream",
          "name": "stdout",
          "text": [
            "年齢を入力してください: 3.5\n",
            "あなたは18歳以上です。\n"
          ]
        }
      ],
      "source": [
        "#prompt:年齢を尋ねて、18歳以上かそうでないかに応じてメッセージを出力するPythonプログラムをif文を使って書いて下さい。\n",
        "while True:\n",
        "    age_str = input(\"年齢を入力してください: \")\n",
        "    try:\n",
        "        age = int(age_str)  # 数値に変換を試みる\n",
        "        if age >= 18:\n",
        "            print(\"あなたは18歳以上です。\")\n",
        "        else:\n",
        "            print(\"あなたは18歳未満です。\")\n",
        "        break  # 正しい入力が得られたらループを抜ける\n",
        "    except ValueError:\n",
        "        # エラーが発生した場合、数値以外の文字を削除して再試行\n",
        "        age_str = ''.join(filter(str.isdigit, age_str))\n",
        "        try:\n",
        "            age = int(age_str)\n",
        "            if age >= 18:\n",
        "                print(\"あなたは18歳以上です。\")\n",
        "            else:\n",
        "                print(\"あなたは18歳未満です。\")\n",
        "            break\n",
        "        except ValueError:\n",
        "            print(\"無効な入力です。整数で入力してください。\")"
      ]
    },
    {
      "cell_type": "markdown",
      "source": [
        "### 追加問題A\n",
        "上記のプログラムで、「3.5」と入力してみよう。どのような答が返ってきましたか？なぜ、そのような答になったか分かりますか？この問題点を解消するためには、プログラムをどのように修正するとよいでしょうか？"
      ],
      "metadata": {
        "id": "IHSzBDMNZ_Ff"
      }
    },
    {
      "cell_type": "markdown",
      "source": [
        "解答：あなたは18歳以上です。\n",
        "\n",
        "（以下は、AIに尋ねて教えてもらった答の一例です）\n",
        "\n",
        "\"3.5\" と入力した場合、filter(str.isdigit, \"3.5\") は '3' と '5' を抽出し、''.join(...) はそれらを結合して \"35\" という文字列を作成します。\n",
        "\n",
        "この問題を解消するには、数字だけでなく小数点も考慮して数値を抽出するか、または小数点以下の入力は無効として扱うようにプログラムを修正する必要があります。"
      ],
      "metadata": {
        "id": "RwajT9biiRO0"
      }
    },
    {
      "source": [
        "while True:\n",
        "    age_str = input(\"年齢を入力してください: \")\n",
        "    try:\n",
        "        # 入力全体が整数であることを確認\n",
        "        age = int(age_str)\n",
        "        if age >= 18:\n",
        "            print(\"あなたは18歳以上です。\")\n",
        "        else:\n",
        "            print(\"あなたは18歳未満です。\")\n",
        "        break  # 正しい入力が得られたらループを抜ける\n",
        "    except ValueError:\n",
        "        # 整数に変換できなかった場合はエラーメッセージを表示\n",
        "        print(\"無効な入力です。整数で入力してください。\")"
      ],
      "cell_type": "code",
      "metadata": {
        "colab": {
          "base_uri": "https://localhost:8080/"
        },
        "id": "mx2xsOw5VlJo",
        "outputId": "74c232a6-4289-49b1-afce-316aac07a596"
      },
      "execution_count": 2,
      "outputs": [
        {
          "output_type": "stream",
          "name": "stdout",
          "text": [
            "年齢を入力してください: 3.5\n",
            "無効な入力です。整数で入力してください。\n",
            "年齢を入力してください: 3歳\n",
            "無効な入力です。整数で入力してください。\n",
            "年齢を入力してください: ３００\n",
            "あなたは18歳以上です。\n"
          ]
        }
      ]
    },
    {
      "cell_type": "markdown",
      "source": [
        "↑変更点：\n",
        "\n",
        "1. 最初の try...except ブロック内で、入力全体を直接 int() で変換しようとします。\n",
        "2. ValueError が発生した場合（つまり、入力が整数として認識できない場合）、エラーメッセージを表示し、ループを続行して再入力を促します。数値以外の文字を削除して再試行する処理は削除しました。\n",
        "\n",
        "この修正により、「3.5」のような小数を含む入力や、数値以外の文字が含まれる入力は無効な入力として扱われ、整数での入力を求めるメッセージが表示されるようになります。"
      ],
      "metadata": {
        "id": "nIn2v73kWFua"
      }
    },
    {
      "cell_type": "markdown",
      "source": [
        "# for文の練習"
      ],
      "metadata": {
        "id": "3CXNC99oZjcT"
      }
    },
    {
      "cell_type": "markdown",
      "source": [
        "問３：整数のリストから、3の倍数だけを取り出すPythonプログラムをfor文を使って書いて下さい。"
      ],
      "metadata": {
        "id": "5RTzR_1SZq5q"
      }
    },
    {
      "cell_type": "code",
      "source": [],
      "metadata": {
        "id": "RJVBK0y1aR7w"
      },
      "execution_count": null,
      "outputs": []
    },
    {
      "cell_type": "markdown",
      "source": [
        "（参考）リスト内包表記を使うと、より簡潔に書くことができます。"
      ],
      "metadata": {
        "id": "g0vHkdAKi2Sj"
      }
    },
    {
      "cell_type": "code",
      "source": [],
      "metadata": {
        "id": "hLRGihBksUTY"
      },
      "execution_count": null,
      "outputs": []
    }
  ]
}