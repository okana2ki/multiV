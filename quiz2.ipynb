{
  "nbformat": 4,
  "nbformat_minor": 0,
  "metadata": {
    "colab": {
      "provenance": []
    },
    "kernelspec": {
      "name": "python3",
      "display_name": "Python 3"
    },
    "language_info": {
      "name": "python"
    }
  },
  "cells": [
    {
      "cell_type": "markdown",
      "source": [
        "以下の各問に答えなさい。それぞれの問題は以下の手順で解いて下さい。\n",
        "1.   まず、自分で必要な関数などを調べて、プログラムを書いて、実行してみて下さい。\n",
        "2.   行き詰った場合、エラーが出て分からない場合、どうしてよいか分からない場合は、ChatGPTなどで尋ねてもらって構いません。しかし、その場合は、\n",
        "\n",
        "*   プログラムが実行できて期待した結果が出ることを必ず確認して下さい。エラーが出る場合や、期待した結果と異なる場合は、自分で原因を突き止めるか、ChatGPTなどに相談して、解決して下さい。\n",
        "*   知らない関数や、その他、分からない点は、自分で調べるか、ChatGPTなどに尋ねることによって、プログラムを理解した上で、解答を提出して下さい。"
      ],
      "metadata": {
        "id": "97o-gat8muKA"
      }
    },
    {
      "cell_type": "markdown",
      "source": [
        "\n",
        "\n",
        "---"
      ],
      "metadata": {
        "id": "Hu1yq5UkpmbF"
      }
    },
    {
      "cell_type": "markdown",
      "source": [
        "リスト a の要素を合計するPythonプログラムを書きなさい。ただし、a = [3, 9, 1, 4, 6] とする。"
      ],
      "metadata": {
        "id": "kUzcZE44Zvat"
      }
    },
    {
      "cell_type": "code",
      "execution_count": null,
      "metadata": {
        "id": "02K0uQF6Za-4"
      },
      "outputs": [],
      "source": [
        "a = [3, 9, 1, 4, 6]\n"
      ]
    },
    {
      "cell_type": "markdown",
      "source": [
        "リスト a の要素を小さい順にソートするPythonプログラムを書きなさい。ただし、a = [3, 9, 1, 4, 6] とする。"
      ],
      "metadata": {
        "id": "9DxeY53dcsku"
      }
    },
    {
      "cell_type": "code",
      "source": [
        "a = [3, 9, 1, 4, 6]\n"
      ],
      "metadata": {
        "id": "Z22yZTyEcYJs"
      },
      "execution_count": null,
      "outputs": []
    },
    {
      "cell_type": "markdown",
      "source": [
        "リスト a の要素を大きい順にソートするPythonプログラムを書きなさい。ただし、a = [3, 9, 1, 4, 6] とする。"
      ],
      "metadata": {
        "id": "h3UnpfxyeAdw"
      }
    },
    {
      "cell_type": "code",
      "source": [
        "a = [3, 9, 1, 4, 6]\n"
      ],
      "metadata": {
        "id": "qZOx-JJEeEj-"
      },
      "execution_count": null,
      "outputs": []
    },
    {
      "cell_type": "markdown",
      "source": [
        "リスト a の先頭の要素を１つ削除して、末尾に35という値の要素を付け加えるPythonプログラムを書きなさい。ただし、a = [3, 9, 1, 4, 6] とする。"
      ],
      "metadata": {
        "id": "xjAf30HXe3nR"
      }
    },
    {
      "cell_type": "code",
      "source": [
        "a = [3, 9, 1, 4, 6]\n"
      ],
      "metadata": {
        "id": "QjgYZhWNfexL"
      },
      "execution_count": null,
      "outputs": []
    },
    {
      "cell_type": "markdown",
      "source": [
        "0 から 19 までの数をスペース区切りで並べた文字列 \"0 1 2 3 4 ... 19\" を作るPythonプログラムを書きなさい。"
      ],
      "metadata": {
        "id": "psjUR6Dmgmo2"
      }
    },
    {
      "cell_type": "code",
      "source": [],
      "metadata": {
        "id": "KKLIuGzLgj75"
      },
      "execution_count": null,
      "outputs": []
    }
  ]
}